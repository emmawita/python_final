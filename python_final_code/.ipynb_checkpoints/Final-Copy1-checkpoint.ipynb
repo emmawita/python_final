{
 "cells": [
  {
   "cell_type": "code",
   "execution_count": 30,
   "id": "cfd0e6a9-8d2c-4449-9995-97dc0b130c23",
   "metadata": {
    "tags": []
   },
   "outputs": [
    {
     "name": "stdout",
     "output_type": "stream",
     "text": [
      "Requirement already satisfied: census in /Users/emmawit/miniforge3/envs/musa-550-fall-2023/lib/python3.10/site-packages (0.8.23)\n",
      "Requirement already satisfied: requests>=1.1.0 in /Users/emmawit/miniforge3/envs/musa-550-fall-2023/lib/python3.10/site-packages (from census) (2.31.0)\n",
      "Requirement already satisfied: charset-normalizer<4,>=2 in /Users/emmawit/miniforge3/envs/musa-550-fall-2023/lib/python3.10/site-packages (from requests>=1.1.0->census) (3.3.2)\n",
      "Requirement already satisfied: idna<4,>=2.5 in /Users/emmawit/miniforge3/envs/musa-550-fall-2023/lib/python3.10/site-packages (from requests>=1.1.0->census) (3.8)\n",
      "Requirement already satisfied: urllib3<3,>=1.21.1 in /Users/emmawit/miniforge3/envs/musa-550-fall-2023/lib/python3.10/site-packages (from requests>=1.1.0->census) (1.26.19)\n",
      "Requirement already satisfied: certifi>=2017.4.17 in /Users/emmawit/miniforge3/envs/musa-550-fall-2023/lib/python3.10/site-packages (from requests>=1.1.0->census) (2024.8.30)\n",
      "Requirement already satisfied: us in /Users/emmawit/miniforge3/envs/musa-550-fall-2023/lib/python3.10/site-packages (3.1.1)\n",
      "Requirement already satisfied: jellyfish==0.11.2 in /Users/emmawit/miniforge3/envs/musa-550-fall-2023/lib/python3.10/site-packages (from us) (0.11.2)\n",
      "Collecting sodapy\n",
      "  Obtaining dependency information for sodapy from https://files.pythonhosted.org/packages/d8/27/f092405731decf73bde86b1468ad7d44a5e2623a93101dac0b0d8bd3f914/sodapy-2.2.0-py2.py3-none-any.whl.metadata\n",
      "  Downloading sodapy-2.2.0-py2.py3-none-any.whl.metadata (15 kB)\n",
      "Requirement already satisfied: requests>=2.28.1 in /Users/emmawit/miniforge3/envs/musa-550-fall-2023/lib/python3.10/site-packages (from sodapy) (2.31.0)\n",
      "Requirement already satisfied: charset-normalizer<4,>=2 in /Users/emmawit/miniforge3/envs/musa-550-fall-2023/lib/python3.10/site-packages (from requests>=2.28.1->sodapy) (3.3.2)\n",
      "Requirement already satisfied: idna<4,>=2.5 in /Users/emmawit/miniforge3/envs/musa-550-fall-2023/lib/python3.10/site-packages (from requests>=2.28.1->sodapy) (3.8)\n",
      "Requirement already satisfied: urllib3<3,>=1.21.1 in /Users/emmawit/miniforge3/envs/musa-550-fall-2023/lib/python3.10/site-packages (from requests>=2.28.1->sodapy) (1.26.19)\n",
      "Requirement already satisfied: certifi>=2017.4.17 in /Users/emmawit/miniforge3/envs/musa-550-fall-2023/lib/python3.10/site-packages (from requests>=2.28.1->sodapy) (2024.8.30)\n",
      "Downloading sodapy-2.2.0-py2.py3-none-any.whl (15 kB)\n",
      "Installing collected packages: sodapy\n",
      "Successfully installed sodapy-2.2.0\n"
     ]
    }
   ],
   "source": [
    "!pip install census\n",
    "!pip install us\n",
    "!pip install sodapy\n",
    "\n",
    "import matplotlib.pyplot as plt\n",
    "import pandas as pd\n",
    "import geopandas as gpd\n",
    "from census import Census\n",
    "from us import states\n",
    "import os\n",
    "from sodapy import Socrata\n",
    "from shapely.geometry import Point\n",
    "import numpy as np\n",
    "from scipy.stats import gaussian_kde\n",
    "from matplotlib.colors import LinearSegmentedColormap\n",
    "from sklearn.neighbors import KernelDensity\n",
    "from shapely.geometry import box\n",
    "from matplotlib.colors import Normalize\n",
    "from matplotlib.colorbar import ColorbarBase\n",
    "import seaborn as sns\n"
   ]
  },
  {
   "cell_type": "code",
   "execution_count": 31,
   "id": "b07373b0-70fd-4d2e-bcb1-f4c4f5693116",
   "metadata": {
    "tags": []
   },
   "outputs": [],
   "source": [
    "# Unauthenticated client only works with public data sets. Note 'None'\n",
    "# in place of application token, and no username or password:\n",
    "# client = Socrata(\"data.cityofchicago.org\", None)\n",
    "\n",
    "# Example authenticated client (needed for non-public datasets):\n",
    "client = Socrata(\"data.cityofchicago.org\",\n",
    "                  \"PXGs3LAGSv2IZaGVJVPf1M0Fz\",\n",
    "                  username=\"jijinc@upenn.edu\",\n",
    "                  password=\"8m9reD@XfA$Z5W.\")\n",
    "\n",
    "# First 2000 results, returned as JSON from API / converted to Python list of\n",
    "# dictionaries by sodapy.\n",
    "results = client.get(\"dwme-t96c\", limit=210000)\n",
    "\n",
    "# Convert to pandas DataFrame\n",
    "results_df = pd.DataFrame.from_records(results)"
   ]
  },
  {
   "cell_type": "code",
   "execution_count": 32,
   "id": "268dbcfe-b911-4ba6-9890-f4d0976ecc7c",
   "metadata": {
    "scrolled": true,
    "tags": []
   },
   "outputs": [
    {
     "data": {
      "text/html": [
       "<div>\n",
       "<style scoped>\n",
       "    .dataframe tbody tr th:only-of-type {\n",
       "        vertical-align: middle;\n",
       "    }\n",
       "\n",
       "    .dataframe tbody tr th {\n",
       "        vertical-align: top;\n",
       "    }\n",
       "\n",
       "    .dataframe thead th {\n",
       "        text-align: right;\n",
       "    }\n",
       "</style>\n",
       "<table border=\"1\" class=\"dataframe\">\n",
       "  <thead>\n",
       "    <tr style=\"text-align: right;\">\n",
       "      <th></th>\n",
       "      <th>date</th>\n",
       "      <th>location</th>\n",
       "      <th>district</th>\n",
       "      <th>block</th>\n",
       "      <th>y_coordinate</th>\n",
       "      <th>latitude</th>\n",
       "      <th>description</th>\n",
       "      <th>location_description</th>\n",
       "      <th>updated_on</th>\n",
       "      <th>community_area</th>\n",
       "      <th>...</th>\n",
       "      <th>ward</th>\n",
       "      <th>case_number</th>\n",
       "      <th>year</th>\n",
       "      <th>domestic</th>\n",
       "      <th>fbi_code</th>\n",
       "      <th>longitude</th>\n",
       "      <th>beat</th>\n",
       "      <th>primary_type</th>\n",
       "      <th>arrest</th>\n",
       "      <th>id</th>\n",
       "    </tr>\n",
       "  </thead>\n",
       "  <tbody>\n",
       "    <tr>\n",
       "      <th>0</th>\n",
       "      <td>2021-12-31T23:59:00.000</td>\n",
       "      <td>{'latitude': '41.894327846', 'human_address': ...</td>\n",
       "      <td>018</td>\n",
       "      <td>006XX N STATE ST</td>\n",
       "      <td>1904872</td>\n",
       "      <td>41.894327846</td>\n",
       "      <td>LIQUOR LICENSE VIOLATION</td>\n",
       "      <td>HOTEL / MOTEL</td>\n",
       "      <td>2022-01-08T15:39:35.000</td>\n",
       "      <td>8</td>\n",
       "      <td>...</td>\n",
       "      <td>42</td>\n",
       "      <td>JF103542</td>\n",
       "      <td>2021</td>\n",
       "      <td>False</td>\n",
       "      <td>22</td>\n",
       "      <td>-87.62814321</td>\n",
       "      <td>1832</td>\n",
       "      <td>LIQUOR LAW VIOLATION</td>\n",
       "      <td>True</td>\n",
       "      <td>12584710</td>\n",
       "    </tr>\n",
       "    <tr>\n",
       "      <th>1</th>\n",
       "      <td>2021-12-31T23:59:00.000</td>\n",
       "      <td>NaN</td>\n",
       "      <td>008</td>\n",
       "      <td>023XX W 64TH ST</td>\n",
       "      <td>NaN</td>\n",
       "      <td>NaN</td>\n",
       "      <td>OVER $500</td>\n",
       "      <td>SCHOOL - PUBLIC BUILDING</td>\n",
       "      <td>2022-02-05T15:40:37.000</td>\n",
       "      <td>66</td>\n",
       "      <td>...</td>\n",
       "      <td>16</td>\n",
       "      <td>JF133671</td>\n",
       "      <td>2021</td>\n",
       "      <td>False</td>\n",
       "      <td>06</td>\n",
       "      <td>NaN</td>\n",
       "      <td>0825</td>\n",
       "      <td>THEFT</td>\n",
       "      <td>False</td>\n",
       "      <td>12609426</td>\n",
       "    </tr>\n",
       "    <tr>\n",
       "      <th>2</th>\n",
       "      <td>2021-12-31T23:58:00.000</td>\n",
       "      <td>{'latitude': '41.745680051', 'human_address': ...</td>\n",
       "      <td>004</td>\n",
       "      <td>082XX S MARQUETTE AVE</td>\n",
       "      <td>1850868</td>\n",
       "      <td>41.745680051</td>\n",
       "      <td>HOME INVASION</td>\n",
       "      <td>APARTMENT</td>\n",
       "      <td>2022-01-07T15:44:31.000</td>\n",
       "      <td>46</td>\n",
       "      <td>...</td>\n",
       "      <td>7</td>\n",
       "      <td>JF100042</td>\n",
       "      <td>2021</td>\n",
       "      <td>True</td>\n",
       "      <td>05</td>\n",
       "      <td>-87.558851198</td>\n",
       "      <td>0423</td>\n",
       "      <td>BURGLARY</td>\n",
       "      <td>False</td>\n",
       "      <td>12581979</td>\n",
       "    </tr>\n",
       "    <tr>\n",
       "      <th>3</th>\n",
       "      <td>2021-12-31T23:55:00.000</td>\n",
       "      <td>{'latitude': '41.734916889', 'human_address': ...</td>\n",
       "      <td>022</td>\n",
       "      <td>087XX S WOOD ST</td>\n",
       "      <td>1846697</td>\n",
       "      <td>41.734916889</td>\n",
       "      <td>TO PROPERTY</td>\n",
       "      <td>RESIDENCE</td>\n",
       "      <td>2022-01-07T15:44:31.000</td>\n",
       "      <td>71</td>\n",
       "      <td>...</td>\n",
       "      <td>21</td>\n",
       "      <td>JF102969</td>\n",
       "      <td>2021</td>\n",
       "      <td>False</td>\n",
       "      <td>14</td>\n",
       "      <td>-87.66790905</td>\n",
       "      <td>2221</td>\n",
       "      <td>CRIMINAL DAMAGE</td>\n",
       "      <td>False</td>\n",
       "      <td>12584234</td>\n",
       "    </tr>\n",
       "    <tr>\n",
       "      <th>4</th>\n",
       "      <td>2021-12-31T23:50:00.000</td>\n",
       "      <td>{'latitude': '41.770713582', 'human_address': ...</td>\n",
       "      <td>003</td>\n",
       "      <td>068XX S CHAMPLAIN AVE</td>\n",
       "      <td>1859870</td>\n",
       "      <td>41.770713582</td>\n",
       "      <td>TO RESIDENCE</td>\n",
       "      <td>APARTMENT</td>\n",
       "      <td>2022-01-07T15:44:31.000</td>\n",
       "      <td>42</td>\n",
       "      <td>...</td>\n",
       "      <td>20</td>\n",
       "      <td>JF100045</td>\n",
       "      <td>2021</td>\n",
       "      <td>False</td>\n",
       "      <td>26</td>\n",
       "      <td>-87.609358643</td>\n",
       "      <td>0321</td>\n",
       "      <td>CRIMINAL TRESPASS</td>\n",
       "      <td>False</td>\n",
       "      <td>12581975</td>\n",
       "    </tr>\n",
       "    <tr>\n",
       "      <th>...</th>\n",
       "      <td>...</td>\n",
       "      <td>...</td>\n",
       "      <td>...</td>\n",
       "      <td>...</td>\n",
       "      <td>...</td>\n",
       "      <td>...</td>\n",
       "      <td>...</td>\n",
       "      <td>...</td>\n",
       "      <td>...</td>\n",
       "      <td>...</td>\n",
       "      <td>...</td>\n",
       "      <td>...</td>\n",
       "      <td>...</td>\n",
       "      <td>...</td>\n",
       "      <td>...</td>\n",
       "      <td>...</td>\n",
       "      <td>...</td>\n",
       "      <td>...</td>\n",
       "      <td>...</td>\n",
       "      <td>...</td>\n",
       "      <td>...</td>\n",
       "    </tr>\n",
       "    <tr>\n",
       "      <th>209397</th>\n",
       "      <td>2021-01-01T00:00:00.000</td>\n",
       "      <td>{'latitude': '41.725762292', 'human_address': ...</td>\n",
       "      <td>004</td>\n",
       "      <td>093XX S BENNETT AVE</td>\n",
       "      <td>1843564</td>\n",
       "      <td>41.725762292</td>\n",
       "      <td>AGGRAVATED SEXUAL ASSAULT OF CHILD BY FAMILY M...</td>\n",
       "      <td>RESIDENCE</td>\n",
       "      <td>2021-04-14T15:41:04.000</td>\n",
       "      <td>48</td>\n",
       "      <td>...</td>\n",
       "      <td>8</td>\n",
       "      <td>JE197150</td>\n",
       "      <td>2021</td>\n",
       "      <td>True</td>\n",
       "      <td>02</td>\n",
       "      <td>-87.57787575</td>\n",
       "      <td>0413</td>\n",
       "      <td>OFFENSE INVOLVING CHILDREN</td>\n",
       "      <td>False</td>\n",
       "      <td>12338506</td>\n",
       "    </tr>\n",
       "    <tr>\n",
       "      <th>209398</th>\n",
       "      <td>2021-01-01T00:00:00.000</td>\n",
       "      <td>{'latitude': '41.958971937', 'human_address': ...</td>\n",
       "      <td>019</td>\n",
       "      <td>042XX N BROADWAY</td>\n",
       "      <td>1928373</td>\n",
       "      <td>41.958971937</td>\n",
       "      <td>FINANCIAL IDENTITY THEFT OVER $ 300</td>\n",
       "      <td>APARTMENT</td>\n",
       "      <td>2021-11-13T15:39:51.000</td>\n",
       "      <td>3</td>\n",
       "      <td>...</td>\n",
       "      <td>46</td>\n",
       "      <td>JE441404</td>\n",
       "      <td>2021</td>\n",
       "      <td>False</td>\n",
       "      <td>11</td>\n",
       "      <td>-87.653365753</td>\n",
       "      <td>1915</td>\n",
       "      <td>DECEPTIVE PRACTICE</td>\n",
       "      <td>False</td>\n",
       "      <td>12537851</td>\n",
       "    </tr>\n",
       "    <tr>\n",
       "      <th>209399</th>\n",
       "      <td>2021-01-01T00:00:00.000</td>\n",
       "      <td>{'latitude': '42.019380398', 'human_address': ...</td>\n",
       "      <td>024</td>\n",
       "      <td>016XX W HOWARD ST</td>\n",
       "      <td>1950346</td>\n",
       "      <td>42.019380398</td>\n",
       "      <td>FINANCIAL IDENTITY THEFT $300 AND UNDER</td>\n",
       "      <td>APARTMENT</td>\n",
       "      <td>2021-05-04T15:40:05.000</td>\n",
       "      <td>1</td>\n",
       "      <td>...</td>\n",
       "      <td>49</td>\n",
       "      <td>JE216275</td>\n",
       "      <td>2021</td>\n",
       "      <td>True</td>\n",
       "      <td>11</td>\n",
       "      <td>-87.672249127</td>\n",
       "      <td>2422</td>\n",
       "      <td>DECEPTIVE PRACTICE</td>\n",
       "      <td>False</td>\n",
       "      <td>12354069</td>\n",
       "    </tr>\n",
       "    <tr>\n",
       "      <th>209400</th>\n",
       "      <td>2021-01-01T00:00:00.000</td>\n",
       "      <td>{'latitude': '41.778229684', 'human_address': ...</td>\n",
       "      <td>008</td>\n",
       "      <td>063XX S ROCKWELL ST</td>\n",
       "      <td>1862437</td>\n",
       "      <td>41.778229684</td>\n",
       "      <td>AGGRAVATED CRIMINAL SEXUAL ABUSE BY FAMILY MEMBER</td>\n",
       "      <td>RESIDENCE</td>\n",
       "      <td>2023-02-21T15:43:50.000</td>\n",
       "      <td>66</td>\n",
       "      <td>...</td>\n",
       "      <td>16</td>\n",
       "      <td>JE447436</td>\n",
       "      <td>2021</td>\n",
       "      <td>True</td>\n",
       "      <td>17</td>\n",
       "      <td>-87.688505893</td>\n",
       "      <td>0825</td>\n",
       "      <td>OFFENSE INVOLVING CHILDREN</td>\n",
       "      <td>False</td>\n",
       "      <td>12545674</td>\n",
       "    </tr>\n",
       "    <tr>\n",
       "      <th>209401</th>\n",
       "      <td>2021-01-01T00:00:00.000</td>\n",
       "      <td>{'latitude': '41.740561073', 'human_address': ...</td>\n",
       "      <td>006</td>\n",
       "      <td>084XX S MORGAN ST</td>\n",
       "      <td>1848795</td>\n",
       "      <td>41.740561073</td>\n",
       "      <td>POSSESS - SYNTHETIC DRUGS</td>\n",
       "      <td>STREET</td>\n",
       "      <td>2021-01-16T15:39:23.000</td>\n",
       "      <td>71</td>\n",
       "      <td>...</td>\n",
       "      <td>21</td>\n",
       "      <td>JE100603</td>\n",
       "      <td>2021</td>\n",
       "      <td>False</td>\n",
       "      <td>18</td>\n",
       "      <td>-87.648610446</td>\n",
       "      <td>0613</td>\n",
       "      <td>NARCOTICS</td>\n",
       "      <td>True</td>\n",
       "      <td>12258978</td>\n",
       "    </tr>\n",
       "  </tbody>\n",
       "</table>\n",
       "<p>209402 rows × 22 columns</p>\n",
       "</div>"
      ],
      "text/plain": [
       "                           date  \\\n",
       "0       2021-12-31T23:59:00.000   \n",
       "1       2021-12-31T23:59:00.000   \n",
       "2       2021-12-31T23:58:00.000   \n",
       "3       2021-12-31T23:55:00.000   \n",
       "4       2021-12-31T23:50:00.000   \n",
       "...                         ...   \n",
       "209397  2021-01-01T00:00:00.000   \n",
       "209398  2021-01-01T00:00:00.000   \n",
       "209399  2021-01-01T00:00:00.000   \n",
       "209400  2021-01-01T00:00:00.000   \n",
       "209401  2021-01-01T00:00:00.000   \n",
       "\n",
       "                                                 location district  \\\n",
       "0       {'latitude': '41.894327846', 'human_address': ...      018   \n",
       "1                                                     NaN      008   \n",
       "2       {'latitude': '41.745680051', 'human_address': ...      004   \n",
       "3       {'latitude': '41.734916889', 'human_address': ...      022   \n",
       "4       {'latitude': '41.770713582', 'human_address': ...      003   \n",
       "...                                                   ...      ...   \n",
       "209397  {'latitude': '41.725762292', 'human_address': ...      004   \n",
       "209398  {'latitude': '41.958971937', 'human_address': ...      019   \n",
       "209399  {'latitude': '42.019380398', 'human_address': ...      024   \n",
       "209400  {'latitude': '41.778229684', 'human_address': ...      008   \n",
       "209401  {'latitude': '41.740561073', 'human_address': ...      006   \n",
       "\n",
       "                        block y_coordinate      latitude  \\\n",
       "0            006XX N STATE ST      1904872  41.894327846   \n",
       "1             023XX W 64TH ST          NaN           NaN   \n",
       "2       082XX S MARQUETTE AVE      1850868  41.745680051   \n",
       "3             087XX S WOOD ST      1846697  41.734916889   \n",
       "4       068XX S CHAMPLAIN AVE      1859870  41.770713582   \n",
       "...                       ...          ...           ...   \n",
       "209397    093XX S BENNETT AVE      1843564  41.725762292   \n",
       "209398       042XX N BROADWAY      1928373  41.958971937   \n",
       "209399      016XX W HOWARD ST      1950346  42.019380398   \n",
       "209400    063XX S ROCKWELL ST      1862437  41.778229684   \n",
       "209401      084XX S MORGAN ST      1848795  41.740561073   \n",
       "\n",
       "                                              description  \\\n",
       "0                                LIQUOR LICENSE VIOLATION   \n",
       "1                                               OVER $500   \n",
       "2                                           HOME INVASION   \n",
       "3                                             TO PROPERTY   \n",
       "4                                            TO RESIDENCE   \n",
       "...                                                   ...   \n",
       "209397  AGGRAVATED SEXUAL ASSAULT OF CHILD BY FAMILY M...   \n",
       "209398                FINANCIAL IDENTITY THEFT OVER $ 300   \n",
       "209399            FINANCIAL IDENTITY THEFT $300 AND UNDER   \n",
       "209400  AGGRAVATED CRIMINAL SEXUAL ABUSE BY FAMILY MEMBER   \n",
       "209401                          POSSESS - SYNTHETIC DRUGS   \n",
       "\n",
       "            location_description               updated_on community_area  ...  \\\n",
       "0                  HOTEL / MOTEL  2022-01-08T15:39:35.000              8  ...   \n",
       "1       SCHOOL - PUBLIC BUILDING  2022-02-05T15:40:37.000             66  ...   \n",
       "2                      APARTMENT  2022-01-07T15:44:31.000             46  ...   \n",
       "3                      RESIDENCE  2022-01-07T15:44:31.000             71  ...   \n",
       "4                      APARTMENT  2022-01-07T15:44:31.000             42  ...   \n",
       "...                          ...                      ...            ...  ...   \n",
       "209397                 RESIDENCE  2021-04-14T15:41:04.000             48  ...   \n",
       "209398                 APARTMENT  2021-11-13T15:39:51.000              3  ...   \n",
       "209399                 APARTMENT  2021-05-04T15:40:05.000              1  ...   \n",
       "209400                 RESIDENCE  2023-02-21T15:43:50.000             66  ...   \n",
       "209401                    STREET  2021-01-16T15:39:23.000             71  ...   \n",
       "\n",
       "       ward case_number  year domestic fbi_code      longitude  beat  \\\n",
       "0        42    JF103542  2021    False       22   -87.62814321  1832   \n",
       "1        16    JF133671  2021    False       06            NaN  0825   \n",
       "2         7    JF100042  2021     True       05  -87.558851198  0423   \n",
       "3        21    JF102969  2021    False       14   -87.66790905  2221   \n",
       "4        20    JF100045  2021    False       26  -87.609358643  0321   \n",
       "...     ...         ...   ...      ...      ...            ...   ...   \n",
       "209397    8    JE197150  2021     True       02   -87.57787575  0413   \n",
       "209398   46    JE441404  2021    False       11  -87.653365753  1915   \n",
       "209399   49    JE216275  2021     True       11  -87.672249127  2422   \n",
       "209400   16    JE447436  2021     True       17  -87.688505893  0825   \n",
       "209401   21    JE100603  2021    False       18  -87.648610446  0613   \n",
       "\n",
       "                      primary_type arrest        id  \n",
       "0             LIQUOR LAW VIOLATION   True  12584710  \n",
       "1                            THEFT  False  12609426  \n",
       "2                         BURGLARY  False  12581979  \n",
       "3                  CRIMINAL DAMAGE  False  12584234  \n",
       "4                CRIMINAL TRESPASS  False  12581975  \n",
       "...                            ...    ...       ...  \n",
       "209397  OFFENSE INVOLVING CHILDREN  False  12338506  \n",
       "209398          DECEPTIVE PRACTICE  False  12537851  \n",
       "209399          DECEPTIVE PRACTICE  False  12354069  \n",
       "209400  OFFENSE INVOLVING CHILDREN  False  12545674  \n",
       "209401                   NARCOTICS   True  12258978  \n",
       "\n",
       "[209402 rows x 22 columns]"
      ]
     },
     "execution_count": 32,
     "metadata": {},
     "output_type": "execute_result"
    }
   ],
   "source": [
    "results_df"
   ]
  },
  {
   "cell_type": "code",
   "execution_count": 33,
   "id": "7ae925d5-6776-491b-a192-e99efe28cd3a",
   "metadata": {
    "tags": []
   },
   "outputs": [
    {
     "data": {
      "text/html": [
       "<div>\n",
       "<style scoped>\n",
       "    .dataframe tbody tr th:only-of-type {\n",
       "        vertical-align: middle;\n",
       "    }\n",
       "\n",
       "    .dataframe tbody tr th {\n",
       "        vertical-align: top;\n",
       "    }\n",
       "\n",
       "    .dataframe thead th {\n",
       "        text-align: right;\n",
       "    }\n",
       "</style>\n",
       "<table border=\"1\" class=\"dataframe\">\n",
       "  <thead>\n",
       "    <tr style=\"text-align: right;\">\n",
       "      <th></th>\n",
       "      <th>date</th>\n",
       "      <th>location</th>\n",
       "      <th>district</th>\n",
       "      <th>block</th>\n",
       "      <th>y_coordinate</th>\n",
       "      <th>latitude</th>\n",
       "      <th>description</th>\n",
       "      <th>location_description</th>\n",
       "      <th>updated_on</th>\n",
       "      <th>community_area</th>\n",
       "      <th>...</th>\n",
       "      <th>case_number</th>\n",
       "      <th>year</th>\n",
       "      <th>domestic</th>\n",
       "      <th>fbi_code</th>\n",
       "      <th>longitude</th>\n",
       "      <th>beat</th>\n",
       "      <th>primary_type</th>\n",
       "      <th>arrest</th>\n",
       "      <th>id</th>\n",
       "      <th>geometry</th>\n",
       "    </tr>\n",
       "  </thead>\n",
       "  <tbody>\n",
       "    <tr>\n",
       "      <th>5</th>\n",
       "      <td>2021-12-31T23:50:00.000</td>\n",
       "      <td>{'latitude': '41.800089835', 'human_address': ...</td>\n",
       "      <td>008</td>\n",
       "      <td>051XX S SPAULDING AVE</td>\n",
       "      <td>1870367</td>\n",
       "      <td>41.800089835</td>\n",
       "      <td>SIMPLE</td>\n",
       "      <td>APARTMENT</td>\n",
       "      <td>2022-01-07T15:44:31.000</td>\n",
       "      <td>63</td>\n",
       "      <td>...</td>\n",
       "      <td>JF100292</td>\n",
       "      <td>2021</td>\n",
       "      <td>False</td>\n",
       "      <td>08A</td>\n",
       "      <td>-87.706195287</td>\n",
       "      <td>0822</td>\n",
       "      <td>ASSAULT</td>\n",
       "      <td>False</td>\n",
       "      <td>12582027</td>\n",
       "      <td>POINT (-87.70620 41.80009)</td>\n",
       "    </tr>\n",
       "    <tr>\n",
       "      <th>7</th>\n",
       "      <td>2021-12-31T23:46:00.000</td>\n",
       "      <td>{'latitude': '41.745827204', 'human_address': ...</td>\n",
       "      <td>006</td>\n",
       "      <td>009XX E 82ND ST</td>\n",
       "      <td>1850818</td>\n",
       "      <td>41.745827204</td>\n",
       "      <td>AGGRAVATED - HANDGUN</td>\n",
       "      <td>APARTMENT</td>\n",
       "      <td>2022-01-07T15:44:31.000</td>\n",
       "      <td>44</td>\n",
       "      <td>...</td>\n",
       "      <td>JF100025</td>\n",
       "      <td>2021</td>\n",
       "      <td>True</td>\n",
       "      <td>04A</td>\n",
       "      <td>-87.602254489</td>\n",
       "      <td>0631</td>\n",
       "      <td>ASSAULT</td>\n",
       "      <td>False</td>\n",
       "      <td>12581871</td>\n",
       "      <td>POINT (-87.60225 41.74583)</td>\n",
       "    </tr>\n",
       "    <tr>\n",
       "      <th>23</th>\n",
       "      <td>2021-12-31T23:06:00.000</td>\n",
       "      <td>{'latitude': '41.89668614', 'human_address': '...</td>\n",
       "      <td>018</td>\n",
       "      <td>0000X E CHICAGO AVE</td>\n",
       "      <td>1905733</td>\n",
       "      <td>41.89668614</td>\n",
       "      <td>SIMPLE</td>\n",
       "      <td>RESTAURANT</td>\n",
       "      <td>2022-01-07T15:44:31.000</td>\n",
       "      <td>8</td>\n",
       "      <td>...</td>\n",
       "      <td>JE494453</td>\n",
       "      <td>2021</td>\n",
       "      <td>False</td>\n",
       "      <td>08A</td>\n",
       "      <td>-87.627412043</td>\n",
       "      <td>1833</td>\n",
       "      <td>ASSAULT</td>\n",
       "      <td>True</td>\n",
       "      <td>12581778</td>\n",
       "      <td>POINT (-87.62741 41.89669)</td>\n",
       "    </tr>\n",
       "    <tr>\n",
       "      <th>58</th>\n",
       "      <td>2021-12-31T22:05:00.000</td>\n",
       "      <td>{'latitude': '41.785957604', 'human_address': ...</td>\n",
       "      <td>008</td>\n",
       "      <td>039XX W 59TH ST</td>\n",
       "      <td>1865187</td>\n",
       "      <td>41.785957604</td>\n",
       "      <td>AGGRAVATED - HANDGUN</td>\n",
       "      <td>APARTMENT</td>\n",
       "      <td>2022-01-07T15:44:31.000</td>\n",
       "      <td>65</td>\n",
       "      <td>...</td>\n",
       "      <td>JE494409</td>\n",
       "      <td>2021</td>\n",
       "      <td>True</td>\n",
       "      <td>04A</td>\n",
       "      <td>-87.721623241</td>\n",
       "      <td>0822</td>\n",
       "      <td>ASSAULT</td>\n",
       "      <td>False</td>\n",
       "      <td>12582370</td>\n",
       "      <td>POINT (-87.72162 41.78596)</td>\n",
       "    </tr>\n",
       "    <tr>\n",
       "      <th>65</th>\n",
       "      <td>2021-12-31T22:00:00.000</td>\n",
       "      <td>{'latitude': '41.801535279', 'human_address': ...</td>\n",
       "      <td>009</td>\n",
       "      <td>009XX W 51ST ST</td>\n",
       "      <td>1871013</td>\n",
       "      <td>41.801535279</td>\n",
       "      <td>SIMPLE</td>\n",
       "      <td>APARTMENT</td>\n",
       "      <td>2022-01-07T15:44:31.000</td>\n",
       "      <td>61</td>\n",
       "      <td>...</td>\n",
       "      <td>JF100618</td>\n",
       "      <td>2021</td>\n",
       "      <td>True</td>\n",
       "      <td>08A</td>\n",
       "      <td>-87.64885291</td>\n",
       "      <td>0934</td>\n",
       "      <td>ASSAULT</td>\n",
       "      <td>False</td>\n",
       "      <td>12582361</td>\n",
       "      <td>POINT (-87.64885 41.80154)</td>\n",
       "    </tr>\n",
       "    <tr>\n",
       "      <th>...</th>\n",
       "      <td>...</td>\n",
       "      <td>...</td>\n",
       "      <td>...</td>\n",
       "      <td>...</td>\n",
       "      <td>...</td>\n",
       "      <td>...</td>\n",
       "      <td>...</td>\n",
       "      <td>...</td>\n",
       "      <td>...</td>\n",
       "      <td>...</td>\n",
       "      <td>...</td>\n",
       "      <td>...</td>\n",
       "      <td>...</td>\n",
       "      <td>...</td>\n",
       "      <td>...</td>\n",
       "      <td>...</td>\n",
       "      <td>...</td>\n",
       "      <td>...</td>\n",
       "      <td>...</td>\n",
       "      <td>...</td>\n",
       "      <td>...</td>\n",
       "    </tr>\n",
       "    <tr>\n",
       "      <th>209118</th>\n",
       "      <td>2021-01-01T01:32:00.000</td>\n",
       "      <td>{'latitude': '41.868043561', 'human_address': ...</td>\n",
       "      <td>011</td>\n",
       "      <td>038XX W FILLMORE ST</td>\n",
       "      <td>1895100</td>\n",
       "      <td>41.868043561</td>\n",
       "      <td>SIMPLE</td>\n",
       "      <td>APARTMENT</td>\n",
       "      <td>2021-11-17T15:40:16.000</td>\n",
       "      <td>29</td>\n",
       "      <td>...</td>\n",
       "      <td>JE100548</td>\n",
       "      <td>2021</td>\n",
       "      <td>True</td>\n",
       "      <td>08A</td>\n",
       "      <td>-87.720966147</td>\n",
       "      <td>1133</td>\n",
       "      <td>ASSAULT</td>\n",
       "      <td>False</td>\n",
       "      <td>12258986</td>\n",
       "      <td>POINT (-87.72097 41.86804)</td>\n",
       "    </tr>\n",
       "    <tr>\n",
       "      <th>209129</th>\n",
       "      <td>2021-01-01T01:22:00.000</td>\n",
       "      <td>{'latitude': '41.781326622', 'human_address': ...</td>\n",
       "      <td>007</td>\n",
       "      <td>009XX W 63RD PKWY</td>\n",
       "      <td>1863652</td>\n",
       "      <td>41.781326622</td>\n",
       "      <td>SIMPLE</td>\n",
       "      <td>APARTMENT</td>\n",
       "      <td>2021-01-16T15:39:23.000</td>\n",
       "      <td>68</td>\n",
       "      <td>...</td>\n",
       "      <td>JE100098</td>\n",
       "      <td>2021</td>\n",
       "      <td>False</td>\n",
       "      <td>08A</td>\n",
       "      <td>-87.647516964</td>\n",
       "      <td>0712</td>\n",
       "      <td>ASSAULT</td>\n",
       "      <td>False</td>\n",
       "      <td>12258648</td>\n",
       "      <td>POINT (-87.64752 41.78133)</td>\n",
       "    </tr>\n",
       "    <tr>\n",
       "      <th>209138</th>\n",
       "      <td>2021-01-01T01:00:00.000</td>\n",
       "      <td>{'latitude': '41.77999793', 'human_address': '...</td>\n",
       "      <td>003</td>\n",
       "      <td>001XX W 63RD ST</td>\n",
       "      <td>1863208</td>\n",
       "      <td>41.77999793</td>\n",
       "      <td>SIMPLE</td>\n",
       "      <td>GAS STATION</td>\n",
       "      <td>2021-01-16T15:39:23.000</td>\n",
       "      <td>68</td>\n",
       "      <td>...</td>\n",
       "      <td>JE100026</td>\n",
       "      <td>2021</td>\n",
       "      <td>False</td>\n",
       "      <td>08A</td>\n",
       "      <td>-87.629294594</td>\n",
       "      <td>0311</td>\n",
       "      <td>ASSAULT</td>\n",
       "      <td>False</td>\n",
       "      <td>12259387</td>\n",
       "      <td>POINT (-87.62929 41.78000)</td>\n",
       "    </tr>\n",
       "    <tr>\n",
       "      <th>209323</th>\n",
       "      <td>2021-01-01T00:00:00.000</td>\n",
       "      <td>{'latitude': '41.910909931', 'human_address': ...</td>\n",
       "      <td>025</td>\n",
       "      <td>016XX N CICERO AVE</td>\n",
       "      <td>1910673</td>\n",
       "      <td>41.910909931</td>\n",
       "      <td>AGGRAVATED - HANDGUN</td>\n",
       "      <td>ALLEY</td>\n",
       "      <td>2021-01-16T15:39:23.000</td>\n",
       "      <td>25</td>\n",
       "      <td>...</td>\n",
       "      <td>JE100369</td>\n",
       "      <td>2021</td>\n",
       "      <td>False</td>\n",
       "      <td>04A</td>\n",
       "      <td>-87.745898897</td>\n",
       "      <td>2533</td>\n",
       "      <td>ASSAULT</td>\n",
       "      <td>False</td>\n",
       "      <td>12258861</td>\n",
       "      <td>POINT (-87.74590 41.91091)</td>\n",
       "    </tr>\n",
       "    <tr>\n",
       "      <th>209388</th>\n",
       "      <td>2021-01-01T00:00:00.000</td>\n",
       "      <td>{'latitude': '41.846229464', 'human_address': ...</td>\n",
       "      <td>010</td>\n",
       "      <td>025XX S CALIFORNIA AVE</td>\n",
       "      <td>1887202</td>\n",
       "      <td>41.846229464</td>\n",
       "      <td>SIMPLE</td>\n",
       "      <td>APARTMENT</td>\n",
       "      <td>2021-03-19T15:39:40.000</td>\n",
       "      <td>30</td>\n",
       "      <td>...</td>\n",
       "      <td>JE171603</td>\n",
       "      <td>2021</td>\n",
       "      <td>True</td>\n",
       "      <td>08A</td>\n",
       "      <td>-87.695259244</td>\n",
       "      <td>1034</td>\n",
       "      <td>ASSAULT</td>\n",
       "      <td>False</td>\n",
       "      <td>12317576</td>\n",
       "      <td>POINT (-87.69526 41.84623)</td>\n",
       "    </tr>\n",
       "  </tbody>\n",
       "</table>\n",
       "<p>20343 rows × 23 columns</p>\n",
       "</div>"
      ],
      "text/plain": [
       "                           date  \\\n",
       "5       2021-12-31T23:50:00.000   \n",
       "7       2021-12-31T23:46:00.000   \n",
       "23      2021-12-31T23:06:00.000   \n",
       "58      2021-12-31T22:05:00.000   \n",
       "65      2021-12-31T22:00:00.000   \n",
       "...                         ...   \n",
       "209118  2021-01-01T01:32:00.000   \n",
       "209129  2021-01-01T01:22:00.000   \n",
       "209138  2021-01-01T01:00:00.000   \n",
       "209323  2021-01-01T00:00:00.000   \n",
       "209388  2021-01-01T00:00:00.000   \n",
       "\n",
       "                                                 location district  \\\n",
       "5       {'latitude': '41.800089835', 'human_address': ...      008   \n",
       "7       {'latitude': '41.745827204', 'human_address': ...      006   \n",
       "23      {'latitude': '41.89668614', 'human_address': '...      018   \n",
       "58      {'latitude': '41.785957604', 'human_address': ...      008   \n",
       "65      {'latitude': '41.801535279', 'human_address': ...      009   \n",
       "...                                                   ...      ...   \n",
       "209118  {'latitude': '41.868043561', 'human_address': ...      011   \n",
       "209129  {'latitude': '41.781326622', 'human_address': ...      007   \n",
       "209138  {'latitude': '41.77999793', 'human_address': '...      003   \n",
       "209323  {'latitude': '41.910909931', 'human_address': ...      025   \n",
       "209388  {'latitude': '41.846229464', 'human_address': ...      010   \n",
       "\n",
       "                         block y_coordinate      latitude  \\\n",
       "5        051XX S SPAULDING AVE      1870367  41.800089835   \n",
       "7              009XX E 82ND ST      1850818  41.745827204   \n",
       "23         0000X E CHICAGO AVE      1905733   41.89668614   \n",
       "58             039XX W 59TH ST      1865187  41.785957604   \n",
       "65             009XX W 51ST ST      1871013  41.801535279   \n",
       "...                        ...          ...           ...   \n",
       "209118     038XX W FILLMORE ST      1895100  41.868043561   \n",
       "209129       009XX W 63RD PKWY      1863652  41.781326622   \n",
       "209138         001XX W 63RD ST      1863208   41.77999793   \n",
       "209323      016XX N CICERO AVE      1910673  41.910909931   \n",
       "209388  025XX S CALIFORNIA AVE      1887202  41.846229464   \n",
       "\n",
       "                 description location_description               updated_on  \\\n",
       "5                     SIMPLE            APARTMENT  2022-01-07T15:44:31.000   \n",
       "7       AGGRAVATED - HANDGUN            APARTMENT  2022-01-07T15:44:31.000   \n",
       "23                    SIMPLE           RESTAURANT  2022-01-07T15:44:31.000   \n",
       "58      AGGRAVATED - HANDGUN            APARTMENT  2022-01-07T15:44:31.000   \n",
       "65                    SIMPLE            APARTMENT  2022-01-07T15:44:31.000   \n",
       "...                      ...                  ...                      ...   \n",
       "209118                SIMPLE            APARTMENT  2021-11-17T15:40:16.000   \n",
       "209129                SIMPLE            APARTMENT  2021-01-16T15:39:23.000   \n",
       "209138                SIMPLE          GAS STATION  2021-01-16T15:39:23.000   \n",
       "209323  AGGRAVATED - HANDGUN                ALLEY  2021-01-16T15:39:23.000   \n",
       "209388                SIMPLE            APARTMENT  2021-03-19T15:39:40.000   \n",
       "\n",
       "       community_area  ... case_number  year domestic fbi_code      longitude  \\\n",
       "5                  63  ...    JF100292  2021    False      08A  -87.706195287   \n",
       "7                  44  ...    JF100025  2021     True      04A  -87.602254489   \n",
       "23                  8  ...    JE494453  2021    False      08A  -87.627412043   \n",
       "58                 65  ...    JE494409  2021     True      04A  -87.721623241   \n",
       "65                 61  ...    JF100618  2021     True      08A   -87.64885291   \n",
       "...               ...  ...         ...   ...      ...      ...            ...   \n",
       "209118             29  ...    JE100548  2021     True      08A  -87.720966147   \n",
       "209129             68  ...    JE100098  2021    False      08A  -87.647516964   \n",
       "209138             68  ...    JE100026  2021    False      08A  -87.629294594   \n",
       "209323             25  ...    JE100369  2021    False      04A  -87.745898897   \n",
       "209388             30  ...    JE171603  2021     True      08A  -87.695259244   \n",
       "\n",
       "        beat primary_type arrest        id                    geometry  \n",
       "5       0822      ASSAULT  False  12582027  POINT (-87.70620 41.80009)  \n",
       "7       0631      ASSAULT  False  12581871  POINT (-87.60225 41.74583)  \n",
       "23      1833      ASSAULT   True  12581778  POINT (-87.62741 41.89669)  \n",
       "58      0822      ASSAULT  False  12582370  POINT (-87.72162 41.78596)  \n",
       "65      0934      ASSAULT  False  12582361  POINT (-87.64885 41.80154)  \n",
       "...      ...          ...    ...       ...                         ...  \n",
       "209118  1133      ASSAULT  False  12258986  POINT (-87.72097 41.86804)  \n",
       "209129  0712      ASSAULT  False  12258648  POINT (-87.64752 41.78133)  \n",
       "209138  0311      ASSAULT  False  12259387  POINT (-87.62929 41.78000)  \n",
       "209323  2533      ASSAULT  False  12258861  POINT (-87.74590 41.91091)  \n",
       "209388  1034      ASSAULT  False  12317576  POINT (-87.69526 41.84623)  \n",
       "\n",
       "[20343 rows x 23 columns]"
      ]
     },
     "execution_count": 33,
     "metadata": {},
     "output_type": "execute_result"
    }
   ],
   "source": [
    "assault = results_df[results_df[\"primary_type\"] == \"ASSAULT\"].copy()\n",
    "\n",
    "assault['geometry'] = assault.apply(lambda row: Point(row['longitude'], row['latitude']), axis=1)\n",
    "\n",
    "Assault21 = gpd.GeoDataFrame(assault, geometry='geometry')\n",
    "\n",
    "Assault21.crs = \"EPSG:4326\"\n",
    "\n",
    "Assault21"
   ]
  },
  {
   "cell_type": "code",
   "execution_count": 34,
   "id": "eaf30b7d-da0d-4705-930f-98ff3773f9dc",
   "metadata": {
    "tags": []
   },
   "outputs": [],
   "source": [
    "c = Census(\"0e028dfcee38f844e89c39d01870f6a964f675a2\")"
   ]
  },
  {
   "cell_type": "code",
   "execution_count": 35,
   "id": "04e8eda7-d7ed-44f8-ac7f-24d409d5b4d0",
   "metadata": {
    "tags": []
   },
   "outputs": [],
   "source": [
    "chicensus = c.acs5.state_county_tract(fields = ('NAME', 'C17002_001E', 'C17002_002E', 'C17002_003E', 'B01003_001E'),\n",
    "                                      state_fips = states.IL.fips,\n",
    "                                      county_fips = \"031\",\n",
    "                                      tract = \"*\",\n",
    "                                      year = 2021)\n",
    "\n",
    "chidf = pd.DataFrame(chicensus)"
   ]
  },
  {
   "cell_type": "code",
   "execution_count": 36,
   "id": "898bb797-15b9-4ab9-afb1-9eddf4d7f633",
   "metadata": {
    "tags": []
   },
   "outputs": [
    {
     "data": {
      "text/html": [
       "<div>\n",
       "<style scoped>\n",
       "    .dataframe tbody tr th:only-of-type {\n",
       "        vertical-align: middle;\n",
       "    }\n",
       "\n",
       "    .dataframe tbody tr th {\n",
       "        vertical-align: top;\n",
       "    }\n",
       "\n",
       "    .dataframe thead th {\n",
       "        text-align: right;\n",
       "    }\n",
       "</style>\n",
       "<table border=\"1\" class=\"dataframe\">\n",
       "  <thead>\n",
       "    <tr style=\"text-align: right;\">\n",
       "      <th></th>\n",
       "      <th>NAME</th>\n",
       "      <th>C17002_001E</th>\n",
       "      <th>C17002_002E</th>\n",
       "      <th>C17002_003E</th>\n",
       "      <th>B01003_001E</th>\n",
       "      <th>state</th>\n",
       "      <th>county</th>\n",
       "      <th>tract</th>\n",
       "    </tr>\n",
       "  </thead>\n",
       "  <tbody>\n",
       "    <tr>\n",
       "      <th>0</th>\n",
       "      <td>Census Tract 101, Cook County, Illinois</td>\n",
       "      <td>4439.0</td>\n",
       "      <td>495.0</td>\n",
       "      <td>692.0</td>\n",
       "      <td>4534.0</td>\n",
       "      <td>17</td>\n",
       "      <td>031</td>\n",
       "      <td>010100</td>\n",
       "    </tr>\n",
       "    <tr>\n",
       "      <th>1</th>\n",
       "      <td>Census Tract 102.01, Cook County, Illinois</td>\n",
       "      <td>8219.0</td>\n",
       "      <td>1628.0</td>\n",
       "      <td>1271.0</td>\n",
       "      <td>8232.0</td>\n",
       "      <td>17</td>\n",
       "      <td>031</td>\n",
       "      <td>010201</td>\n",
       "    </tr>\n",
       "    <tr>\n",
       "      <th>2</th>\n",
       "      <td>Census Tract 102.02, Cook County, Illinois</td>\n",
       "      <td>2813.0</td>\n",
       "      <td>116.0</td>\n",
       "      <td>396.0</td>\n",
       "      <td>3124.0</td>\n",
       "      <td>17</td>\n",
       "      <td>031</td>\n",
       "      <td>010202</td>\n",
       "    </tr>\n",
       "    <tr>\n",
       "      <th>3</th>\n",
       "      <td>Census Tract 103, Cook County, Illinois</td>\n",
       "      <td>5189.0</td>\n",
       "      <td>251.0</td>\n",
       "      <td>362.0</td>\n",
       "      <td>6085.0</td>\n",
       "      <td>17</td>\n",
       "      <td>031</td>\n",
       "      <td>010300</td>\n",
       "    </tr>\n",
       "    <tr>\n",
       "      <th>4</th>\n",
       "      <td>Census Tract 104, Cook County, Illinois</td>\n",
       "      <td>3011.0</td>\n",
       "      <td>385.0</td>\n",
       "      <td>330.0</td>\n",
       "      <td>4587.0</td>\n",
       "      <td>17</td>\n",
       "      <td>031</td>\n",
       "      <td>010400</td>\n",
       "    </tr>\n",
       "    <tr>\n",
       "      <th>...</th>\n",
       "      <td>...</td>\n",
       "      <td>...</td>\n",
       "      <td>...</td>\n",
       "      <td>...</td>\n",
       "      <td>...</td>\n",
       "      <td>...</td>\n",
       "      <td>...</td>\n",
       "      <td>...</td>\n",
       "    </tr>\n",
       "    <tr>\n",
       "      <th>1327</th>\n",
       "      <td>Census Tract 8446, Cook County, Illinois</td>\n",
       "      <td>2307.0</td>\n",
       "      <td>151.0</td>\n",
       "      <td>191.0</td>\n",
       "      <td>2490.0</td>\n",
       "      <td>17</td>\n",
       "      <td>031</td>\n",
       "      <td>844600</td>\n",
       "    </tr>\n",
       "    <tr>\n",
       "      <th>1328</th>\n",
       "      <td>Census Tract 8447, Cook County, Illinois</td>\n",
       "      <td>1573.0</td>\n",
       "      <td>173.0</td>\n",
       "      <td>202.0</td>\n",
       "      <td>1573.0</td>\n",
       "      <td>17</td>\n",
       "      <td>031</td>\n",
       "      <td>844700</td>\n",
       "    </tr>\n",
       "    <tr>\n",
       "      <th>1329</th>\n",
       "      <td>Census Tract 9800, Cook County, Illinois</td>\n",
       "      <td>0.0</td>\n",
       "      <td>0.0</td>\n",
       "      <td>0.0</td>\n",
       "      <td>0.0</td>\n",
       "      <td>17</td>\n",
       "      <td>031</td>\n",
       "      <td>980000</td>\n",
       "    </tr>\n",
       "    <tr>\n",
       "      <th>1330</th>\n",
       "      <td>Census Tract 9801, Cook County, Illinois</td>\n",
       "      <td>0.0</td>\n",
       "      <td>0.0</td>\n",
       "      <td>0.0</td>\n",
       "      <td>0.0</td>\n",
       "      <td>17</td>\n",
       "      <td>031</td>\n",
       "      <td>980100</td>\n",
       "    </tr>\n",
       "    <tr>\n",
       "      <th>1331</th>\n",
       "      <td>Census Tract 9900, Cook County, Illinois</td>\n",
       "      <td>0.0</td>\n",
       "      <td>0.0</td>\n",
       "      <td>0.0</td>\n",
       "      <td>0.0</td>\n",
       "      <td>17</td>\n",
       "      <td>031</td>\n",
       "      <td>990000</td>\n",
       "    </tr>\n",
       "  </tbody>\n",
       "</table>\n",
       "<p>1332 rows × 8 columns</p>\n",
       "</div>"
      ],
      "text/plain": [
       "                                            NAME  C17002_001E  C17002_002E  \\\n",
       "0        Census Tract 101, Cook County, Illinois       4439.0        495.0   \n",
       "1     Census Tract 102.01, Cook County, Illinois       8219.0       1628.0   \n",
       "2     Census Tract 102.02, Cook County, Illinois       2813.0        116.0   \n",
       "3        Census Tract 103, Cook County, Illinois       5189.0        251.0   \n",
       "4        Census Tract 104, Cook County, Illinois       3011.0        385.0   \n",
       "...                                          ...          ...          ...   \n",
       "1327    Census Tract 8446, Cook County, Illinois       2307.0        151.0   \n",
       "1328    Census Tract 8447, Cook County, Illinois       1573.0        173.0   \n",
       "1329    Census Tract 9800, Cook County, Illinois          0.0          0.0   \n",
       "1330    Census Tract 9801, Cook County, Illinois          0.0          0.0   \n",
       "1331    Census Tract 9900, Cook County, Illinois          0.0          0.0   \n",
       "\n",
       "      C17002_003E  B01003_001E state county   tract  \n",
       "0           692.0       4534.0    17    031  010100  \n",
       "1          1271.0       8232.0    17    031  010201  \n",
       "2           396.0       3124.0    17    031  010202  \n",
       "3           362.0       6085.0    17    031  010300  \n",
       "4           330.0       4587.0    17    031  010400  \n",
       "...           ...          ...   ...    ...     ...  \n",
       "1327        191.0       2490.0    17    031  844600  \n",
       "1328        202.0       1573.0    17    031  844700  \n",
       "1329          0.0          0.0    17    031  980000  \n",
       "1330          0.0          0.0    17    031  980100  \n",
       "1331          0.0          0.0    17    031  990000  \n",
       "\n",
       "[1332 rows x 8 columns]"
      ]
     },
     "execution_count": 36,
     "metadata": {},
     "output_type": "execute_result"
    }
   ],
   "source": [
    "chidf"
   ]
  },
  {
   "cell_type": "code",
   "execution_count": 37,
   "id": "3b451016-5407-4425-b186-1ec7c90b3f66",
   "metadata": {
    "tags": []
   },
   "outputs": [
    {
     "ename": "DriverError",
     "evalue": "data/chicagoBoundary.geojson: No such file or directory",
     "output_type": "error",
     "traceback": [
      "\u001b[0;31m---------------------------------------------------------------------------\u001b[0m",
      "\u001b[0;31mCPLE_OpenFailedError\u001b[0m                      Traceback (most recent call last)",
      "File \u001b[0;32mfiona/ogrext.pyx:136\u001b[0m, in \u001b[0;36mfiona.ogrext.gdal_open_vector\u001b[0;34m()\u001b[0m\n",
      "File \u001b[0;32mfiona/_err.pyx:291\u001b[0m, in \u001b[0;36mfiona._err.exc_wrap_pointer\u001b[0;34m()\u001b[0m\n",
      "\u001b[0;31mCPLE_OpenFailedError\u001b[0m: data/chicagoBoundary.geojson: No such file or directory",
      "\nDuring handling of the above exception, another exception occurred:\n",
      "\u001b[0;31mDriverError\u001b[0m                               Traceback (most recent call last)",
      "Cell \u001b[0;32mIn[37], line 1\u001b[0m\n\u001b[0;32m----> 1\u001b[0m chicagoBoundary \u001b[38;5;241m=\u001b[39m \u001b[43mgpd\u001b[49m\u001b[38;5;241;43m.\u001b[39;49m\u001b[43mread_file\u001b[49m\u001b[43m(\u001b[49m\u001b[38;5;124;43m\"\u001b[39;49m\u001b[38;5;124;43mdata/chicagoBoundary.geojson\u001b[39;49m\u001b[38;5;124;43m\"\u001b[39;49m\u001b[43m)\u001b[49m\u001b[38;5;241m.\u001b[39mto_crs(\u001b[38;5;241m3435\u001b[39m)\n",
      "File \u001b[0;32m~/miniforge3/envs/musa-550-fall-2023/lib/python3.10/site-packages/geopandas/io/file.py:281\u001b[0m, in \u001b[0;36m_read_file\u001b[0;34m(filename, bbox, mask, rows, engine, **kwargs)\u001b[0m\n\u001b[1;32m    278\u001b[0m     \u001b[38;5;28;01melse\u001b[39;00m:\n\u001b[1;32m    279\u001b[0m         path_or_bytes \u001b[38;5;241m=\u001b[39m filename\n\u001b[0;32m--> 281\u001b[0m     \u001b[38;5;28;01mreturn\u001b[39;00m \u001b[43m_read_file_fiona\u001b[49m\u001b[43m(\u001b[49m\n\u001b[1;32m    282\u001b[0m \u001b[43m        \u001b[49m\u001b[43mpath_or_bytes\u001b[49m\u001b[43m,\u001b[49m\u001b[43m \u001b[49m\u001b[43mfrom_bytes\u001b[49m\u001b[43m,\u001b[49m\u001b[43m \u001b[49m\u001b[43mbbox\u001b[49m\u001b[38;5;241;43m=\u001b[39;49m\u001b[43mbbox\u001b[49m\u001b[43m,\u001b[49m\u001b[43m \u001b[49m\u001b[43mmask\u001b[49m\u001b[38;5;241;43m=\u001b[39;49m\u001b[43mmask\u001b[49m\u001b[43m,\u001b[49m\u001b[43m \u001b[49m\u001b[43mrows\u001b[49m\u001b[38;5;241;43m=\u001b[39;49m\u001b[43mrows\u001b[49m\u001b[43m,\u001b[49m\u001b[43m \u001b[49m\u001b[38;5;241;43m*\u001b[39;49m\u001b[38;5;241;43m*\u001b[39;49m\u001b[43mkwargs\u001b[49m\n\u001b[1;32m    283\u001b[0m \u001b[43m    \u001b[49m\u001b[43m)\u001b[49m\n\u001b[1;32m    285\u001b[0m \u001b[38;5;28;01melse\u001b[39;00m:\n\u001b[1;32m    286\u001b[0m     \u001b[38;5;28;01mraise\u001b[39;00m \u001b[38;5;167;01mValueError\u001b[39;00m(\u001b[38;5;124mf\u001b[39m\u001b[38;5;124m\"\u001b[39m\u001b[38;5;124munknown engine \u001b[39m\u001b[38;5;124m'\u001b[39m\u001b[38;5;132;01m{\u001b[39;00mengine\u001b[38;5;132;01m}\u001b[39;00m\u001b[38;5;124m'\u001b[39m\u001b[38;5;124m\"\u001b[39m)\n",
      "File \u001b[0;32m~/miniforge3/envs/musa-550-fall-2023/lib/python3.10/site-packages/geopandas/io/file.py:322\u001b[0m, in \u001b[0;36m_read_file_fiona\u001b[0;34m(path_or_bytes, from_bytes, bbox, mask, rows, where, **kwargs)\u001b[0m\n\u001b[1;32m    319\u001b[0m     reader \u001b[38;5;241m=\u001b[39m fiona\u001b[38;5;241m.\u001b[39mopen\n\u001b[1;32m    321\u001b[0m \u001b[38;5;28;01mwith\u001b[39;00m fiona_env():\n\u001b[0;32m--> 322\u001b[0m     \u001b[38;5;28;01mwith\u001b[39;00m \u001b[43mreader\u001b[49m\u001b[43m(\u001b[49m\u001b[43mpath_or_bytes\u001b[49m\u001b[43m,\u001b[49m\u001b[43m \u001b[49m\u001b[38;5;241;43m*\u001b[39;49m\u001b[38;5;241;43m*\u001b[39;49m\u001b[43mkwargs\u001b[49m\u001b[43m)\u001b[49m \u001b[38;5;28;01mas\u001b[39;00m features:\n\u001b[1;32m    323\u001b[0m         crs \u001b[38;5;241m=\u001b[39m features\u001b[38;5;241m.\u001b[39mcrs_wkt\n\u001b[1;32m    324\u001b[0m         \u001b[38;5;66;03m# attempt to get EPSG code\u001b[39;00m\n",
      "File \u001b[0;32m~/miniforge3/envs/musa-550-fall-2023/lib/python3.10/site-packages/fiona/env.py:457\u001b[0m, in \u001b[0;36mensure_env_with_credentials.<locals>.wrapper\u001b[0;34m(*args, **kwds)\u001b[0m\n\u001b[1;32m    454\u001b[0m     session \u001b[38;5;241m=\u001b[39m DummySession()\n\u001b[1;32m    456\u001b[0m \u001b[38;5;28;01mwith\u001b[39;00m env_ctor(session\u001b[38;5;241m=\u001b[39msession):\n\u001b[0;32m--> 457\u001b[0m     \u001b[38;5;28;01mreturn\u001b[39;00m \u001b[43mf\u001b[49m\u001b[43m(\u001b[49m\u001b[38;5;241;43m*\u001b[39;49m\u001b[43margs\u001b[49m\u001b[43m,\u001b[49m\u001b[43m \u001b[49m\u001b[38;5;241;43m*\u001b[39;49m\u001b[38;5;241;43m*\u001b[39;49m\u001b[43mkwds\u001b[49m\u001b[43m)\u001b[49m\n",
      "File \u001b[0;32m~/miniforge3/envs/musa-550-fall-2023/lib/python3.10/site-packages/fiona/__init__.py:292\u001b[0m, in \u001b[0;36mopen\u001b[0;34m(fp, mode, driver, schema, crs, encoding, layer, vfs, enabled_drivers, crs_wkt, allow_unsupported_drivers, **kwargs)\u001b[0m\n\u001b[1;32m    289\u001b[0m     path \u001b[38;5;241m=\u001b[39m parse_path(fp)\n\u001b[1;32m    291\u001b[0m \u001b[38;5;28;01mif\u001b[39;00m mode \u001b[38;5;129;01min\u001b[39;00m (\u001b[38;5;124m\"\u001b[39m\u001b[38;5;124ma\u001b[39m\u001b[38;5;124m\"\u001b[39m, \u001b[38;5;124m\"\u001b[39m\u001b[38;5;124mr\u001b[39m\u001b[38;5;124m\"\u001b[39m):\n\u001b[0;32m--> 292\u001b[0m     colxn \u001b[38;5;241m=\u001b[39m \u001b[43mCollection\u001b[49m\u001b[43m(\u001b[49m\n\u001b[1;32m    293\u001b[0m \u001b[43m        \u001b[49m\u001b[43mpath\u001b[49m\u001b[43m,\u001b[49m\n\u001b[1;32m    294\u001b[0m \u001b[43m        \u001b[49m\u001b[43mmode\u001b[49m\u001b[43m,\u001b[49m\n\u001b[1;32m    295\u001b[0m \u001b[43m        \u001b[49m\u001b[43mdriver\u001b[49m\u001b[38;5;241;43m=\u001b[39;49m\u001b[43mdriver\u001b[49m\u001b[43m,\u001b[49m\n\u001b[1;32m    296\u001b[0m \u001b[43m        \u001b[49m\u001b[43mencoding\u001b[49m\u001b[38;5;241;43m=\u001b[39;49m\u001b[43mencoding\u001b[49m\u001b[43m,\u001b[49m\n\u001b[1;32m    297\u001b[0m \u001b[43m        \u001b[49m\u001b[43mlayer\u001b[49m\u001b[38;5;241;43m=\u001b[39;49m\u001b[43mlayer\u001b[49m\u001b[43m,\u001b[49m\n\u001b[1;32m    298\u001b[0m \u001b[43m        \u001b[49m\u001b[43menabled_drivers\u001b[49m\u001b[38;5;241;43m=\u001b[39;49m\u001b[43menabled_drivers\u001b[49m\u001b[43m,\u001b[49m\n\u001b[1;32m    299\u001b[0m \u001b[43m        \u001b[49m\u001b[43mallow_unsupported_drivers\u001b[49m\u001b[38;5;241;43m=\u001b[39;49m\u001b[43mallow_unsupported_drivers\u001b[49m\u001b[43m,\u001b[49m\n\u001b[1;32m    300\u001b[0m \u001b[43m        \u001b[49m\u001b[38;5;241;43m*\u001b[39;49m\u001b[38;5;241;43m*\u001b[39;49m\u001b[43mkwargs\u001b[49m\n\u001b[1;32m    301\u001b[0m \u001b[43m    \u001b[49m\u001b[43m)\u001b[49m\n\u001b[1;32m    302\u001b[0m \u001b[38;5;28;01melif\u001b[39;00m mode \u001b[38;5;241m==\u001b[39m \u001b[38;5;124m\"\u001b[39m\u001b[38;5;124mw\u001b[39m\u001b[38;5;124m\"\u001b[39m:\n\u001b[1;32m    303\u001b[0m     colxn \u001b[38;5;241m=\u001b[39m Collection(\n\u001b[1;32m    304\u001b[0m         path,\n\u001b[1;32m    305\u001b[0m         mode,\n\u001b[0;32m   (...)\u001b[0m\n\u001b[1;32m    314\u001b[0m         \u001b[38;5;241m*\u001b[39m\u001b[38;5;241m*\u001b[39mkwargs\n\u001b[1;32m    315\u001b[0m     )\n",
      "File \u001b[0;32m~/miniforge3/envs/musa-550-fall-2023/lib/python3.10/site-packages/fiona/collection.py:243\u001b[0m, in \u001b[0;36mCollection.__init__\u001b[0;34m(self, path, mode, driver, schema, crs, encoding, layer, vsi, archive, enabled_drivers, crs_wkt, ignore_fields, ignore_geometry, include_fields, wkt_version, allow_unsupported_drivers, **kwargs)\u001b[0m\n\u001b[1;32m    241\u001b[0m \u001b[38;5;28;01mif\u001b[39;00m \u001b[38;5;28mself\u001b[39m\u001b[38;5;241m.\u001b[39mmode \u001b[38;5;241m==\u001b[39m \u001b[38;5;124m\"\u001b[39m\u001b[38;5;124mr\u001b[39m\u001b[38;5;124m\"\u001b[39m:\n\u001b[1;32m    242\u001b[0m     \u001b[38;5;28mself\u001b[39m\u001b[38;5;241m.\u001b[39msession \u001b[38;5;241m=\u001b[39m Session()\n\u001b[0;32m--> 243\u001b[0m     \u001b[38;5;28;43mself\u001b[39;49m\u001b[38;5;241;43m.\u001b[39;49m\u001b[43msession\u001b[49m\u001b[38;5;241;43m.\u001b[39;49m\u001b[43mstart\u001b[49m\u001b[43m(\u001b[49m\u001b[38;5;28;43mself\u001b[39;49m\u001b[43m,\u001b[49m\u001b[43m \u001b[49m\u001b[38;5;241;43m*\u001b[39;49m\u001b[38;5;241;43m*\u001b[39;49m\u001b[43mkwargs\u001b[49m\u001b[43m)\u001b[49m\n\u001b[1;32m    244\u001b[0m \u001b[38;5;28;01melif\u001b[39;00m \u001b[38;5;28mself\u001b[39m\u001b[38;5;241m.\u001b[39mmode \u001b[38;5;129;01min\u001b[39;00m (\u001b[38;5;124m\"\u001b[39m\u001b[38;5;124ma\u001b[39m\u001b[38;5;124m\"\u001b[39m, \u001b[38;5;124m\"\u001b[39m\u001b[38;5;124mw\u001b[39m\u001b[38;5;124m\"\u001b[39m):\n\u001b[1;32m    245\u001b[0m     \u001b[38;5;28mself\u001b[39m\u001b[38;5;241m.\u001b[39msession \u001b[38;5;241m=\u001b[39m WritingSession()\n",
      "File \u001b[0;32mfiona/ogrext.pyx:588\u001b[0m, in \u001b[0;36mfiona.ogrext.Session.start\u001b[0;34m()\u001b[0m\n",
      "File \u001b[0;32mfiona/ogrext.pyx:143\u001b[0m, in \u001b[0;36mfiona.ogrext.gdal_open_vector\u001b[0;34m()\u001b[0m\n",
      "\u001b[0;31mDriverError\u001b[0m: data/chicagoBoundary.geojson: No such file or directory"
     ]
    }
   ],
   "source": [
    "chicagoBoundary = gpd.read_file(\"data/chicagoBoundary.geojson\").to_crs(3435)"
   ]
  },
  {
   "cell_type": "code",
   "execution_count": null,
   "id": "98abf1a6-cca5-45e8-9bc5-4a1d467c2fb2",
   "metadata": {
    "tags": []
   },
   "outputs": [],
   "source": [
    "fig, ax = plt.subplots()\n",
    "\n",
    "#chicagoBoundary.plot(ax=ax, color='beige')\n",
    "chicagoBoundary.to_crs(4326).plot(ax=ax, color='beige')\n",
    "#Assault21.to_crs()\n",
    "Assault21.plot(ax=ax, color='#FF7F0E', markersize=0.1, label='Assault Incidents')\n",
    "\n",
    "plt.title(\"Assault Incidents in Chicago 2021\")\n",
    "plt.xticks([])\n",
    "plt.yticks([])\n",
    "plt.gca().set_frame_on(False)\n",
    "\n",
    "# Customizing the plot appearance\n",
    "plt.gca().set_facecolor('white')\n",
    "plt.gca().spines['top'].set_visible(False)\n",
    "plt.gca().spines['right'].set_visible(False)\n",
    "plt.gca().spines['left'].set_color('grey')\n",
    "plt.gca().spines['bottom'].set_color('grey')\n",
    "plt.gca().spines['left'].set_linewidth(0.8)\n",
    "plt.gca().spines['bottom'].set_linewidth(0.8)\n",
    "\n",
    "plt.show()"
   ]
  },
  {
   "cell_type": "code",
   "execution_count": null,
   "id": "e7eaec7f-b0ec-4715-a5ea-00cd0e0d0982",
   "metadata": {
    "tags": []
   },
   "outputs": [],
   "source": [
    "coords = np.array(list(zip(Assault21.geometry.x, Assault21.geometry.y)))\n",
    "coords = coords[~np.isnan(coords).any(axis=1)]"
   ]
  },
  {
   "cell_type": "code",
   "execution_count": null,
   "id": "cbc56a1b-0a72-405f-825a-a065d467e569",
   "metadata": {
    "tags": []
   },
   "outputs": [],
   "source": [
    "def create_fishnet(boundary, cellsize):\n",
    "    bounds = boundary.total_bounds  # Get bounding box of the area\n",
    "    xmin, ymin, xmax, ymax = bounds\n",
    "    cols = np.arange(xmin, xmax + cellsize, cellsize)\n",
    "    rows = np.arange(ymin, ymax + cellsize, cellsize)\n",
    "    polygons = [\n",
    "        box(x, y, x + cellsize, y + cellsize)\n",
    "        for x in cols[:-1] for y in rows[:-1]\n",
    "    ]\n",
    "    fishnet = gpd.GeoDataFrame(geometry=polygons, crs=boundary.crs)\n",
    "    # Intersect with boundary\n",
    "    fishnet = fishnet[fishnet.intersects(boundary.unary_union)]\n",
    "    fishnet[\"uniqueID\"] = range(1, len(fishnet) + 1)\n",
    "    return fishnet"
   ]
  },
  {
   "cell_type": "code",
   "execution_count": null,
   "id": "0152a05d-742e-4553-8432-465270f06376",
   "metadata": {
    "tags": []
   },
   "outputs": [],
   "source": [
    "# Generate fishnet\n",
    "fishnet = create_fishnet(chicagoBoundary, cellsize=2500)\n",
    "\n",
    "# Plot fishnet\n",
    "fig, ax = plt.subplots(figsize=(10, 10))\n",
    "fishnet.plot(ax=ax, edgecolor=\"black\", facecolor=\"#FFF5EE\")\n",
    "chicagoBoundary.boundary.plot(ax=ax, color=\"grey\", linewidth=0.8)\n",
    "ax.set_title(\"Fishnet of Chicago\", fontsize=12, fontweight=\"bold\")\n",
    "ax.axis(\"off\")\n",
    "plt.show()"
   ]
  },
  {
   "cell_type": "code",
   "execution_count": null,
   "id": "ad15cbfa-0bb0-4ca1-a0cc-9102f1027a6f",
   "metadata": {
    "tags": []
   },
   "outputs": [],
   "source": [
    "# Count of Assaults in each fishnet grid\n",
    "Assault21[\"countAssault\"] = 1\n",
    "Assault21_net = gpd.sjoin(fishnet, Assault21.to_crs(3435), how=\"left\", op=\"contains\")\n",
    "Assault21_net = Assault21_net.groupby(\"uniqueID\").agg(\n",
    "    countAssault=(\"countAssault\", \"sum\"),\n",
    "    geometry=(\"geometry\", \"first\")\n",
    ").reset_index()\n",
    "\n",
    "Assault21"
   ]
  },
  {
   "cell_type": "code",
   "execution_count": null,
   "id": "2fea6fbf-e148-4b63-b755-09b85c3fe4e7",
   "metadata": {
    "tags": []
   },
   "outputs": [],
   "source": [
    "Assault21.crs"
   ]
  },
  {
   "cell_type": "code",
   "execution_count": 6,
   "id": "4b7c9680-0d4d-4c30-9038-63aa10f513c5",
   "metadata": {
    "tags": []
   },
   "outputs": [
    {
     "ename": "NameError",
     "evalue": "name 'Assault21_net' is not defined",
     "output_type": "error",
     "traceback": [
      "\u001b[0;31m---------------------------------------------------------------------------\u001b[0m",
      "\u001b[0;31mNameError\u001b[0m                                 Traceback (most recent call last)",
      "Cell \u001b[0;32mIn[6], line 1\u001b[0m\n\u001b[0;32m----> 1\u001b[0m Assault21_net[\u001b[38;5;124m\"\u001b[39m\u001b[38;5;124mcountAssault\u001b[39m\u001b[38;5;124m\"\u001b[39m] \u001b[38;5;241m=\u001b[39m \u001b[43mAssault21_net\u001b[49m[\u001b[38;5;124m\"\u001b[39m\u001b[38;5;124mcountAssault\u001b[39m\u001b[38;5;124m\"\u001b[39m]\u001b[38;5;241m.\u001b[39mfillna(\u001b[38;5;241m0\u001b[39m)\n\u001b[1;32m      3\u001b[0m \u001b[38;5;66;03m# Add uniqueID and cross-validation IDs\u001b[39;00m\n\u001b[1;32m      4\u001b[0m Assault21_net[\u001b[38;5;124m\"\u001b[39m\u001b[38;5;124muniqueID\u001b[39m\u001b[38;5;124m\"\u001b[39m] \u001b[38;5;241m=\u001b[39m \u001b[38;5;28mrange\u001b[39m(\u001b[38;5;241m1\u001b[39m, \u001b[38;5;28mlen\u001b[39m(Assault21_net) \u001b[38;5;241m+\u001b[39m \u001b[38;5;241m1\u001b[39m)\n",
      "\u001b[0;31mNameError\u001b[0m: name 'Assault21_net' is not defined"
     ]
    }
   ],
   "source": [
    "Assault21_net[\"countAssault\"] = Assault21_net[\"countAssault\"].fillna(0)\n",
    "\n",
    "# Add uniqueID and cross-validation IDs\n",
    "Assault21_net[\"uniqueID\"] = range(1, len(Assault21_net) + 1)\n",
    "Assault21_net[\"cvID\"] = np.random.randint(\n",
    "    low=1, high=(len(Assault21_net) // 24) + 1, size=len(Assault21_net)\n",
    ")\n",
    "\n",
    "Assault21_net"
   ]
  },
  {
   "cell_type": "code",
   "execution_count": 7,
   "id": "aa468cde-977a-4543-870e-75bff32d0a7f",
   "metadata": {
    "tags": []
   },
   "outputs": [
    {
     "ename": "NameError",
     "evalue": "name 'Assault21_net' is not defined",
     "output_type": "error",
     "traceback": [
      "\u001b[0;31m---------------------------------------------------------------------------\u001b[0m",
      "\u001b[0;31mNameError\u001b[0m                                 Traceback (most recent call last)",
      "Cell \u001b[0;32mIn[7], line 3\u001b[0m\n\u001b[1;32m      1\u001b[0m \u001b[38;5;66;03m# Plot Assault Counts\u001b[39;00m\n\u001b[1;32m      2\u001b[0m fig, ax \u001b[38;5;241m=\u001b[39m plt\u001b[38;5;241m.\u001b[39msubplots()\n\u001b[0;32m----> 3\u001b[0m Assault21_net \u001b[38;5;241m=\u001b[39m gpd\u001b[38;5;241m.\u001b[39mGeoDataFrame(\u001b[43mAssault21_net\u001b[49m, geometry\u001b[38;5;241m=\u001b[39m\u001b[38;5;124m'\u001b[39m\u001b[38;5;124mgeometry\u001b[39m\u001b[38;5;124m'\u001b[39m)  \u001b[38;5;66;03m# Ensure 'geometry' column exists\u001b[39;00m\n\u001b[1;32m      4\u001b[0m Assault21_net\u001b[38;5;241m.\u001b[39mplot(column\u001b[38;5;241m=\u001b[39m\u001b[38;5;124m'\u001b[39m\u001b[38;5;124mcountAssault\u001b[39m\u001b[38;5;124m'\u001b[39m, ax\u001b[38;5;241m=\u001b[39max, legend\u001b[38;5;241m=\u001b[39m\u001b[38;5;28;01mTrue\u001b[39;00m, cmap\u001b[38;5;241m=\u001b[39m\u001b[38;5;124m'\u001b[39m\u001b[38;5;124mviridis\u001b[39m\u001b[38;5;124m'\u001b[39m, legend_kwds\u001b[38;5;241m=\u001b[39m{\u001b[38;5;124m'\u001b[39m\u001b[38;5;124mlabel\u001b[39m\u001b[38;5;124m'\u001b[39m: \u001b[38;5;124m\"\u001b[39m\u001b[38;5;124mAssault Counts\u001b[39m\u001b[38;5;124m\"\u001b[39m})\n\u001b[1;32m      6\u001b[0m plt\u001b[38;5;241m.\u001b[39mtitle(\u001b[38;5;124m\"\u001b[39m\u001b[38;5;124mCount of Assaults for the Fishnet\u001b[39m\u001b[38;5;124m\"\u001b[39m, fontsize\u001b[38;5;241m=\u001b[39m\u001b[38;5;241m12\u001b[39m, fontweight\u001b[38;5;241m=\u001b[39m\u001b[38;5;124m'\u001b[39m\u001b[38;5;124mbold\u001b[39m\u001b[38;5;124m'\u001b[39m)\n",
      "\u001b[0;31mNameError\u001b[0m: name 'Assault21_net' is not defined"
     ]
    },
    {
     "data": {
      "image/png": "[encoded data removed]",
      "text/plain": [
       "<Figure size 640x480 with 1 Axes>"
      ]
     },
     "metadata": {},
     "output_type": "display_data"
    }
   ],
   "source": [
    "# Plot Assault Counts\n",
    "fig, ax = plt.subplots()\n",
    "Assault21_net = gpd.GeoDataFrame(Assault21_net, geometry='geometry')  # Ensure 'geometry' column exists\n",
    "Assault21_net.plot(column='countAssault', ax=ax, legend=True, cmap='viridis', legend_kwds={'label': \"Assault Counts\"})\n",
    "\n",
    "plt.title(\"Count of Assaults for the Fishnet\", fontsize=12, fontweight='bold')\n",
    "plt.axis('off')\n",
    "plt.gca().set_xticklabels([])\n",
    "plt.gca().set_yticklabels([])\n",
    "plt.gca().spines['top'].set_visible(False)\n",
    "plt.gca().spines['right'].set_visible(False)\n",
    "plt.gca().spines['left'].set_visible(False)\n",
    "plt.gca().spines['bottom'].set_visible(False)\n",
    "\n",
    "plt.show()"
   ]
  },
  {
   "cell_type": "code",
   "execution_count": 8,
   "id": "6471c7d5-0cfe-47b7-b8ce-9bb8f85ee838",
   "metadata": {
    "tags": []
   },
   "outputs": [
    {
     "ename": "NameError",
     "evalue": "name 'Assault21_net' is not defined",
     "output_type": "error",
     "traceback": [
      "\u001b[0;31m---------------------------------------------------------------------------\u001b[0m",
      "\u001b[0;31mNameError\u001b[0m                                 Traceback (most recent call last)",
      "Cell \u001b[0;32mIn[8], line 1\u001b[0m\n\u001b[0;32m----> 1\u001b[0m \u001b[38;5;28;01mif\u001b[39;00m \u001b[43mAssault21_net\u001b[49m[\u001b[38;5;124m'\u001b[39m\u001b[38;5;124mcountAssault\u001b[39m\u001b[38;5;124m'\u001b[39m]\u001b[38;5;241m.\u001b[39misna()\u001b[38;5;241m.\u001b[39many():\n\u001b[1;32m      2\u001b[0m     Assault21_net \u001b[38;5;241m=\u001b[39m Assault21_net\u001b[38;5;241m.\u001b[39mdropna()\n\u001b[1;32m      4\u001b[0m plt\u001b[38;5;241m.\u001b[39mfigure(figsize\u001b[38;5;241m=\u001b[39m(\u001b[38;5;241m10\u001b[39m, \u001b[38;5;241m6\u001b[39m))\n",
      "\u001b[0;31mNameError\u001b[0m: name 'Assault21_net' is not defined"
     ]
    }
   ],
   "source": [
    "if Assault21_net['countAssault'].isna().any():\n",
    "    Assault21_net = Assault21_net.dropna()\n",
    "\n",
    "plt.figure(figsize=(10, 6))\n",
    "sns.histplot(Assault21_net['countAssault'], bins=30, color=\"lightblue\", edgecolor=\"#e9ecef\")\n",
    "plt.title(\"Distribution of Assaults in Chicago (2021)\", fontsize=14, fontweight='bold')\n",
    "plt.xlabel(\"Assault Incidents\", fontsize=10)\n",
    "plt.ylabel(\"Count\", fontsize=10)\n",
    "plt.xticks(rotation=45, ha='right', fontsize=8)\n",
    "plt.yticks(fontsize=8)\n",
    "plt.grid(axis='y', linestyle='--', alpha=0.7)\n",
    "plt.gca().set_facecolor('white')\n",
    "plt.gca().spines['top'].set_visible(False)\n",
    "plt.gca().spines['right'].set_visible(False)\n",
    "plt.gca().spines['left'].set_color('grey')\n",
    "plt.gca().spines['bottom'].set_color('grey')\n",
    "plt.show()"
   ]
  },
  {
   "cell_type": "code",
   "execution_count": 9,
   "id": "aa6ef287-c5cf-4ff7-bf30-9b347dda5a55",
   "metadata": {
    "tags": []
   },
   "outputs": [
    {
     "ename": "NameError",
     "evalue": "name 'sns' is not defined",
     "output_type": "error",
     "traceback": [
      "\u001b[0;31m---------------------------------------------------------------------------\u001b[0m",
      "\u001b[0;31mNameError\u001b[0m                                 Traceback (most recent call last)",
      "Cell \u001b[0;32mIn[9], line 1\u001b[0m\n\u001b[0;32m----> 1\u001b[0m \u001b[43msns\u001b[49m\u001b[38;5;241m.\u001b[39mkdeplot(data\u001b[38;5;241m=\u001b[39mAssault21_net, x\u001b[38;5;241m=\u001b[39m\u001b[38;5;124m'\u001b[39m\u001b[38;5;124mcountAssault\u001b[39m\u001b[38;5;124m'\u001b[39m, fill\u001b[38;5;241m=\u001b[39m\u001b[38;5;28;01mTrue\u001b[39;00m, color\u001b[38;5;241m=\u001b[39m\u001b[38;5;124m'\u001b[39m\u001b[38;5;124mlightblue\u001b[39m\u001b[38;5;124m'\u001b[39m, alpha\u001b[38;5;241m=\u001b[39m\u001b[38;5;241m0.5\u001b[39m)\n\u001b[1;32m      2\u001b[0m plt\u001b[38;5;241m.\u001b[39mtitle(\u001b[38;5;124m\"\u001b[39m\u001b[38;5;124mDensity Plot of Assaults in Chicago (2021)\u001b[39m\u001b[38;5;124m\"\u001b[39m)\n\u001b[1;32m      3\u001b[0m plt\u001b[38;5;241m.\u001b[39mxlabel(\u001b[38;5;124m\"\u001b[39m\u001b[38;5;124mAssault Incidents\u001b[39m\u001b[38;5;124m\"\u001b[39m)\n",
      "\u001b[0;31mNameError\u001b[0m: name 'sns' is not defined"
     ]
    }
   ],
   "source": [
    "sns.kdeplot(data=Assault21_net, x='countAssault', fill=True, color='lightblue', alpha=0.5)\n",
    "plt.title(\"Density Plot of Assaults in Chicago (2021)\")\n",
    "plt.xlabel(\"Assault Incidents\")\n",
    "plt.ylabel(\"Density\")\n",
    "plt.show()"
   ]
  },
  {
   "cell_type": "code",
   "execution_count": 10,
   "id": "f3bedf41-50af-4f68-bde8-e94c23dfa92d",
   "metadata": {
    "scrolled": true,
    "tags": []
   },
   "outputs": [
    {
     "ename": "NameError",
     "evalue": "name 'client' is not defined",
     "output_type": "error",
     "traceback": [
      "\u001b[0;31m---------------------------------------------------------------------------\u001b[0m",
      "\u001b[0;31mNameError\u001b[0m                                 Traceback (most recent call last)",
      "Cell \u001b[0;32mIn[10], line 1\u001b[0m\n\u001b[0;32m----> 1\u001b[0m graffiti \u001b[38;5;241m=\u001b[39m \u001b[43mclient\u001b[49m\u001b[38;5;241m.\u001b[39mget(\u001b[38;5;124m\"\u001b[39m\u001b[38;5;124mhec5-y4x5\u001b[39m\u001b[38;5;124m\"\u001b[39m, limit\u001b[38;5;241m=\u001b[39m\u001b[38;5;241m1000000\u001b[39m)\n\u001b[1;32m      3\u001b[0m graffiti \u001b[38;5;241m=\u001b[39m pd\u001b[38;5;241m.\u001b[39mDataFrame\u001b[38;5;241m.\u001b[39mfrom_records(graffiti)\n",
      "\u001b[0;31mNameError\u001b[0m: name 'client' is not defined"
     ]
    }
   ],
   "source": [
    "graffiti = client.get(\"hec5-y4x5\", limit=1000000)\n",
    "\n",
    "graffiti = pd.DataFrame.from_records(graffiti)"
   ]
  },
  {
   "cell_type": "code",
   "execution_count": 11,
   "id": "1eb252e3-c33e-4f6b-bdd0-df9cd754ef95",
   "metadata": {
    "tags": []
   },
   "outputs": [
    {
     "ename": "NameError",
     "evalue": "name 'graffiti' is not defined",
     "output_type": "error",
     "traceback": [
      "\u001b[0;31m---------------------------------------------------------------------------\u001b[0m",
      "\u001b[0;31mNameError\u001b[0m                                 Traceback (most recent call last)",
      "Cell \u001b[0;32mIn[11], line 1\u001b[0m\n\u001b[0;32m----> 1\u001b[0m graffiti[\u001b[38;5;124m'\u001b[39m\u001b[38;5;124myear\u001b[39m\u001b[38;5;124m'\u001b[39m] \u001b[38;5;241m=\u001b[39m \u001b[43mgraffiti\u001b[49m[\u001b[38;5;124m'\u001b[39m\u001b[38;5;124mcreation_date\u001b[39m\u001b[38;5;124m'\u001b[39m]\u001b[38;5;241m.\u001b[39mstr[:\u001b[38;5;241m4\u001b[39m]\n\u001b[1;32m      2\u001b[0m graffiti \u001b[38;5;241m=\u001b[39m graffiti[graffiti[\u001b[38;5;124m'\u001b[39m\u001b[38;5;124myear\u001b[39m\u001b[38;5;124m'\u001b[39m] \u001b[38;5;241m==\u001b[39m \u001b[38;5;124m\"\u001b[39m\u001b[38;5;124m2018\u001b[39m\u001b[38;5;124m\"\u001b[39m]\n\u001b[1;32m      3\u001b[0m graffiti \u001b[38;5;241m=\u001b[39m graffiti[graffiti[\u001b[38;5;124m'\u001b[39m\u001b[38;5;124mwhere_is_the_graffiti_located_\u001b[39m\u001b[38;5;124m'\u001b[39m]\u001b[38;5;241m.\u001b[39misin([\u001b[38;5;124m\"\u001b[39m\u001b[38;5;124mFront\u001b[39m\u001b[38;5;124m\"\u001b[39m, \u001b[38;5;124m\"\u001b[39m\u001b[38;5;124mRear\u001b[39m\u001b[38;5;124m\"\u001b[39m, \u001b[38;5;124m\"\u001b[39m\u001b[38;5;124mSide\u001b[39m\u001b[38;5;124m\"\u001b[39m])]\n",
      "\u001b[0;31mNameError\u001b[0m: name 'graffiti' is not defined"
     ]
    }
   ],
   "source": [
    "graffiti['year'] = graffiti['creation_date'].str[:4]\n",
    "graffiti = graffiti[graffiti['year'] == \"2018\"]\n",
    "graffiti = graffiti[graffiti['where_is_the_graffiti_located_'].isin([\"Front\", \"Rear\", \"Side\"])]\n",
    "graffiti = graffiti[['latitude', 'longitude']].dropna()\n",
    "\n",
    "graffiti = gpd.GeoDataFrame(\n",
    "    graffiti, \n",
    "    geometry=gpd.points_from_xy(graffiti.longitude, graffiti.latitude),\n",
    "    crs=\"EPSG:4326\"\n",
    ")\n",
    "\n",
    "graffiti = graffiti.to_crs(fishnet.crs)\n",
    "graffiti['Legend'] = \"Graffiti\""
   ]
  },
  {
   "cell_type": "code",
   "execution_count": 12,
   "id": "d18cd65d-83ec-4da0-9abe-ec689c4f3297",
   "metadata": {
    "tags": []
   },
   "outputs": [
    {
     "ename": "NameError",
     "evalue": "name 'client' is not defined",
     "output_type": "error",
     "traceback": [
      "\u001b[0;31m---------------------------------------------------------------------------\u001b[0m",
      "\u001b[0;31mNameError\u001b[0m                                 Traceback (most recent call last)",
      "Cell \u001b[0;32mIn[12], line 1\u001b[0m\n\u001b[0;32m----> 1\u001b[0m streetLightsOut \u001b[38;5;241m=\u001b[39m \u001b[43mclient\u001b[49m\u001b[38;5;241m.\u001b[39mget(\u001b[38;5;124m\"\u001b[39m\u001b[38;5;124mzuxi-7xem\u001b[39m\u001b[38;5;124m\"\u001b[39m, limit\u001b[38;5;241m=\u001b[39m\u001b[38;5;241m1000000\u001b[39m)\n\u001b[1;32m      3\u001b[0m streetLightsOut \u001b[38;5;241m=\u001b[39m pd\u001b[38;5;241m.\u001b[39mDataFrame\u001b[38;5;241m.\u001b[39mfrom_records(streetLightsOut)\n",
      "\u001b[0;31mNameError\u001b[0m: name 'client' is not defined"
     ]
    }
   ],
   "source": [
    "streetLightsOut = client.get(\"zuxi-7xem\", limit=1000000)\n",
    "\n",
    "streetLightsOut = pd.DataFrame.from_records(streetLightsOut)"
   ]
  },
  {
   "cell_type": "code",
   "execution_count": 13,
   "id": "b049ac77-70eb-4866-ab12-f24e799f874c",
   "metadata": {
    "tags": []
   },
   "outputs": [
    {
     "ename": "NameError",
     "evalue": "name 'streetLightsOut' is not defined",
     "output_type": "error",
     "traceback": [
      "\u001b[0;31m---------------------------------------------------------------------------\u001b[0m",
      "\u001b[0;31mNameError\u001b[0m                                 Traceback (most recent call last)",
      "Cell \u001b[0;32mIn[13], line 1\u001b[0m\n\u001b[0;32m----> 1\u001b[0m streetLightsOut[\u001b[38;5;124m'\u001b[39m\u001b[38;5;124myear\u001b[39m\u001b[38;5;124m'\u001b[39m] \u001b[38;5;241m=\u001b[39m \u001b[43mstreetLightsOut\u001b[49m[\u001b[38;5;124m'\u001b[39m\u001b[38;5;124mcreation_date\u001b[39m\u001b[38;5;124m'\u001b[39m]\u001b[38;5;241m.\u001b[39mstr[:\u001b[38;5;241m4\u001b[39m]\n\u001b[1;32m      2\u001b[0m streetLightsOut \u001b[38;5;241m=\u001b[39m streetLightsOut[streetLightsOut[\u001b[38;5;124m'\u001b[39m\u001b[38;5;124myear\u001b[39m\u001b[38;5;124m'\u001b[39m] \u001b[38;5;241m==\u001b[39m \u001b[38;5;124m\"\u001b[39m\u001b[38;5;124m2018\u001b[39m\u001b[38;5;124m\"\u001b[39m]\n\u001b[1;32m      3\u001b[0m streetLightsOut \u001b[38;5;241m=\u001b[39m streetLightsOut[[\u001b[38;5;124m'\u001b[39m\u001b[38;5;124mlatitude\u001b[39m\u001b[38;5;124m'\u001b[39m, \u001b[38;5;124m'\u001b[39m\u001b[38;5;124mlongitude\u001b[39m\u001b[38;5;124m'\u001b[39m]]\u001b[38;5;241m.\u001b[39mdropna()\n",
      "\u001b[0;31mNameError\u001b[0m: name 'streetLightsOut' is not defined"
     ]
    }
   ],
   "source": [
    "streetLightsOut['year'] = streetLightsOut['creation_date'].str[:4]\n",
    "streetLightsOut = streetLightsOut[streetLightsOut['year'] == \"2018\"]\n",
    "streetLightsOut = streetLightsOut[['latitude', 'longitude']].dropna()\n",
    "streetLightsOut = gpd.GeoDataFrame(streetLightsOut, geometry=gpd.points_from_xy(streetLightsOut.longitude, streetLightsOut.latitude), crs=\"EPSG:4326\")\n",
    "streetLightsOut = streetLightsOut.to_crs(fishnet.crs)\n",
    "streetLightsOut['Legend'] = \"streetLightsOut\""
   ]
  },
  {
   "cell_type": "code",
   "execution_count": 14,
   "id": "e48d5b74-8ff7-45af-85d3-6591480b7070",
   "metadata": {
    "tags": []
   },
   "outputs": [
    {
     "ename": "NameError",
     "evalue": "name 'client' is not defined",
     "output_type": "error",
     "traceback": [
      "\u001b[0;31m---------------------------------------------------------------------------\u001b[0m",
      "\u001b[0;31mNameError\u001b[0m                                 Traceback (most recent call last)",
      "Cell \u001b[0;32mIn[14], line 1\u001b[0m\n\u001b[0;32m----> 1\u001b[0m liquorRetail \u001b[38;5;241m=\u001b[39m \u001b[43mclient\u001b[49m\u001b[38;5;241m.\u001b[39mget(\u001b[38;5;124m\"\u001b[39m\u001b[38;5;124mnrmj-3kcf\u001b[39m\u001b[38;5;124m\"\u001b[39m, limit\u001b[38;5;241m=\u001b[39m\u001b[38;5;241m1000000\u001b[39m)\n\u001b[1;32m      3\u001b[0m liquorRetail \u001b[38;5;241m=\u001b[39m pd\u001b[38;5;241m.\u001b[39mDataFrame\u001b[38;5;241m.\u001b[39mfrom_records(liquorRetail)\n",
      "\u001b[0;31mNameError\u001b[0m: name 'client' is not defined"
     ]
    }
   ],
   "source": [
    "liquorRetail = client.get(\"nrmj-3kcf\", limit=1000000)\n",
    "\n",
    "liquorRetail = pd.DataFrame.from_records(liquorRetail)"
   ]
  },
  {
   "cell_type": "code",
   "execution_count": 15,
   "id": "412a3f53-ca44-49e0-a83e-88368b50022e",
   "metadata": {
    "tags": []
   },
   "outputs": [
    {
     "ename": "NameError",
     "evalue": "name 'liquorRetail' is not defined",
     "output_type": "error",
     "traceback": [
      "\u001b[0;31m---------------------------------------------------------------------------\u001b[0m",
      "\u001b[0;31mNameError\u001b[0m                                 Traceback (most recent call last)",
      "Cell \u001b[0;32mIn[15], line 1\u001b[0m\n\u001b[0;32m----> 1\u001b[0m liquorRetail \u001b[38;5;241m=\u001b[39m \u001b[43mliquorRetail\u001b[49m[liquorRetail[\u001b[38;5;124m'\u001b[39m\u001b[38;5;124mbusiness_activity\u001b[39m\u001b[38;5;124m'\u001b[39m] \u001b[38;5;241m==\u001b[39m \u001b[38;5;124m\"\u001b[39m\u001b[38;5;124mRetail Sales of Packaged Liquor\u001b[39m\u001b[38;5;124m\"\u001b[39m]\n\u001b[1;32m      2\u001b[0m liquorRetail \u001b[38;5;241m=\u001b[39m liquorRetail[[\u001b[38;5;124m'\u001b[39m\u001b[38;5;124mlatitude\u001b[39m\u001b[38;5;124m'\u001b[39m, \u001b[38;5;124m'\u001b[39m\u001b[38;5;124mlongitude\u001b[39m\u001b[38;5;124m'\u001b[39m]]\u001b[38;5;241m.\u001b[39mdropna()\n\u001b[1;32m      3\u001b[0m liquorRetail \u001b[38;5;241m=\u001b[39m gpd\u001b[38;5;241m.\u001b[39mGeoDataFrame(liquorRetail, geometry\u001b[38;5;241m=\u001b[39mgpd\u001b[38;5;241m.\u001b[39mpoints_from_xy(liquorRetail\u001b[38;5;241m.\u001b[39mlongitude, liquorRetail\u001b[38;5;241m.\u001b[39mlatitude), crs\u001b[38;5;241m=\u001b[39m\u001b[38;5;124m\"\u001b[39m\u001b[38;5;124mEPSG:4326\u001b[39m\u001b[38;5;124m\"\u001b[39m)\n",
      "\u001b[0;31mNameError\u001b[0m: name 'liquorRetail' is not defined"
     ]
    }
   ],
   "source": [
    "liquorRetail = liquorRetail[liquorRetail['business_activity'] == \"Retail Sales of Packaged Liquor\"]\n",
    "liquorRetail = liquorRetail[['latitude', 'longitude']].dropna()\n",
    "liquorRetail = gpd.GeoDataFrame(liquorRetail, geometry=gpd.points_from_xy(liquorRetail.longitude, liquorRetail.latitude), crs=\"EPSG:4326\")\n",
    "liquorRetail = liquorRetail.to_crs(fishnet.crs)\n",
    "liquorRetail['Legend'] = \"liquorRetail\""
   ]
  },
  {
   "cell_type": "code",
   "execution_count": 16,
   "id": "9161fcd6-5045-4426-b175-df1b1b1c301c",
   "metadata": {
    "tags": []
   },
   "outputs": [
    {
     "ename": "NameError",
     "evalue": "name 'client' is not defined",
     "output_type": "error",
     "traceback": [
      "\u001b[0;31m---------------------------------------------------------------------------\u001b[0m",
      "\u001b[0;31mNameError\u001b[0m                                 Traceback (most recent call last)",
      "Cell \u001b[0;32mIn[16], line 1\u001b[0m\n\u001b[0;32m----> 1\u001b[0m shotSpotter \u001b[38;5;241m=\u001b[39m \u001b[43mclient\u001b[49m\u001b[38;5;241m.\u001b[39mget(\u001b[38;5;124m\"\u001b[39m\u001b[38;5;124m3h7q-7mdb\u001b[39m\u001b[38;5;124m\"\u001b[39m, limit\u001b[38;5;241m=\u001b[39m\u001b[38;5;241m1000000\u001b[39m)\n\u001b[1;32m      3\u001b[0m shotSpotter \u001b[38;5;241m=\u001b[39m pd\u001b[38;5;241m.\u001b[39mDataFrame\u001b[38;5;241m.\u001b[39mfrom_records(shotSpotter)\n",
      "\u001b[0;31mNameError\u001b[0m: name 'client' is not defined"
     ]
    }
   ],
   "source": [
    "shotSpotter = client.get(\"3h7q-7mdb\", limit=1000000)\n",
    "\n",
    "shotSpotter = pd.DataFrame.from_records(shotSpotter)"
   ]
  },
  {
   "cell_type": "code",
   "execution_count": 17,
   "id": "39a319cd-b2be-421b-8faa-1cb9315eec4a",
   "metadata": {
    "tags": []
   },
   "outputs": [
    {
     "ename": "NameError",
     "evalue": "name 'shotSpotter' is not defined",
     "output_type": "error",
     "traceback": [
      "\u001b[0;31m---------------------------------------------------------------------------\u001b[0m",
      "\u001b[0;31mNameError\u001b[0m                                 Traceback (most recent call last)",
      "Cell \u001b[0;32mIn[17], line 1\u001b[0m\n\u001b[0;32m----> 1\u001b[0m shotSpotter \u001b[38;5;241m=\u001b[39m \u001b[43mshotSpotter\u001b[49m[[\u001b[38;5;124m'\u001b[39m\u001b[38;5;124mlatitude\u001b[39m\u001b[38;5;124m'\u001b[39m, \u001b[38;5;124m'\u001b[39m\u001b[38;5;124mlongitude\u001b[39m\u001b[38;5;124m'\u001b[39m]]\u001b[38;5;241m.\u001b[39mdropna()\n\u001b[1;32m      2\u001b[0m shotSpotter \u001b[38;5;241m=\u001b[39m gpd\u001b[38;5;241m.\u001b[39mGeoDataFrame(shotSpotter, geometry\u001b[38;5;241m=\u001b[39mgpd\u001b[38;5;241m.\u001b[39mpoints_from_xy(shotSpotter\u001b[38;5;241m.\u001b[39mlongitude, shotSpotter\u001b[38;5;241m.\u001b[39mlatitude), crs\u001b[38;5;241m=\u001b[39m\u001b[38;5;124m\"\u001b[39m\u001b[38;5;124mEPSG:4326\u001b[39m\u001b[38;5;124m\"\u001b[39m)\n\u001b[1;32m      3\u001b[0m shotSpotter \u001b[38;5;241m=\u001b[39m shotSpotter\u001b[38;5;241m.\u001b[39mto_crs(fishnet\u001b[38;5;241m.\u001b[39mcrs)\n",
      "\u001b[0;31mNameError\u001b[0m: name 'shotSpotter' is not defined"
     ]
    }
   ],
   "source": [
    "shotSpotter = shotSpotter[['latitude', 'longitude']].dropna()\n",
    "shotSpotter = gpd.GeoDataFrame(shotSpotter, geometry=gpd.points_from_xy(shotSpotter.longitude, shotSpotter.latitude), crs=\"EPSG:4326\")\n",
    "shotSpotter = shotSpotter.to_crs(fishnet.crs)\n",
    "shotSpotter['Legend'] = \"shotSpotter\""
   ]
  },
  {
   "cell_type": "code",
   "execution_count": 18,
   "id": "a15b8c86-f75a-4e6e-82ba-66cc75efe4d6",
   "metadata": {
    "tags": []
   },
   "outputs": [
    {
     "ename": "NameError",
     "evalue": "name 'streetLightsOut' is not defined",
     "output_type": "error",
     "traceback": [
      "\u001b[0;31m---------------------------------------------------------------------------\u001b[0m",
      "\u001b[0;31mNameError\u001b[0m                                 Traceback (most recent call last)",
      "Cell \u001b[0;32mIn[18], line 1\u001b[0m\n\u001b[0;32m----> 1\u001b[0m variable_net \u001b[38;5;241m=\u001b[39m pd\u001b[38;5;241m.\u001b[39mconcat([\u001b[43mstreetLightsOut\u001b[49m, liquorRetail, graffiti, shotSpotter]) \\\n\u001b[1;32m      2\u001b[0m                 \u001b[38;5;241m.\u001b[39msjoin(fishnet, how\u001b[38;5;241m=\u001b[39m\u001b[38;5;124m\"\u001b[39m\u001b[38;5;124minner\u001b[39m\u001b[38;5;124m\"\u001b[39m, predicate\u001b[38;5;241m=\u001b[39m\u001b[38;5;124m'\u001b[39m\u001b[38;5;124mwithin\u001b[39m\u001b[38;5;124m'\u001b[39m) \u001b[38;5;66;03m#\\\u001b[39;00m\n",
      "\u001b[0;31mNameError\u001b[0m: name 'streetLightsOut' is not defined"
     ]
    }
   ],
   "source": [
    "variable_net = pd.concat([streetLightsOut, liquorRetail, graffiti, shotSpotter]) \\\n",
    "                .sjoin(fishnet, how=\"inner\", predicate='within') #\\"
   ]
  },
  {
   "cell_type": "code",
   "execution_count": 19,
   "id": "d465fac2-6346-465d-a74b-63713ce7674a",
   "metadata": {
    "tags": []
   },
   "outputs": [
    {
     "ename": "NameError",
     "evalue": "name 'variable_net' is not defined",
     "output_type": "error",
     "traceback": [
      "\u001b[0;31m---------------------------------------------------------------------------\u001b[0m",
      "\u001b[0;31mNameError\u001b[0m                                 Traceback (most recent call last)",
      "Cell \u001b[0;32mIn[19], line 1\u001b[0m\n\u001b[0;32m----> 1\u001b[0m variable_net \u001b[38;5;241m=\u001b[39m gpd\u001b[38;5;241m.\u001b[39mGeoDataFrame(\u001b[43mvariable_net\u001b[49m, geometry\u001b[38;5;241m=\u001b[39m\u001b[38;5;124m'\u001b[39m\u001b[38;5;124mgeometry\u001b[39m\u001b[38;5;124m'\u001b[39m, crs\u001b[38;5;241m=\u001b[39m\u001b[38;5;124m\"\u001b[39m\u001b[38;5;124mEPSG:4326\u001b[39m\u001b[38;5;124m\"\u001b[39m)\n",
      "\u001b[0;31mNameError\u001b[0m: name 'variable_net' is not defined"
     ]
    }
   ],
   "source": [
    "variable_net = gpd.GeoDataFrame(variable_net, geometry='geometry', crs=\"EPSG:4326\")"
   ]
  },
  {
   "cell_type": "code",
   "execution_count": 20,
   "id": "c91ee8c9-1b4e-407b-8844-0ca46a08cc4b",
   "metadata": {
    "tags": []
   },
   "outputs": [
    {
     "ename": "NameError",
     "evalue": "name 'variable_net' is not defined",
     "output_type": "error",
     "traceback": [
      "\u001b[0;31m---------------------------------------------------------------------------\u001b[0m",
      "\u001b[0;31mNameError\u001b[0m                                 Traceback (most recent call last)",
      "Cell \u001b[0;32mIn[20], line 1\u001b[0m\n\u001b[0;32m----> 1\u001b[0m \u001b[43mvariable_net\u001b[49m\n",
      "\u001b[0;31mNameError\u001b[0m: name 'variable_net' is not defined"
     ]
    }
   ],
   "source": [
    "variable_net"
   ]
  },
  {
   "cell_type": "code",
   "execution_count": 21,
   "id": "f3ad4042-3a19-4574-84b4-1027cc446b6a",
   "metadata": {
    "tags": []
   },
   "outputs": [
    {
     "ename": "NameError",
     "evalue": "name 'variable_net' is not defined",
     "output_type": "error",
     "traceback": [
      "\u001b[0;31m---------------------------------------------------------------------------\u001b[0m",
      "\u001b[0;31mNameError\u001b[0m                                 Traceback (most recent call last)",
      "Cell \u001b[0;32mIn[21], line 1\u001b[0m\n\u001b[0;32m----> 1\u001b[0m legend_values \u001b[38;5;241m=\u001b[39m \u001b[43mvariable_net\u001b[49m[\u001b[38;5;124m'\u001b[39m\u001b[38;5;124mLegend\u001b[39m\u001b[38;5;124m'\u001b[39m]\u001b[38;5;241m.\u001b[39munique()\n\u001b[1;32m      3\u001b[0m \u001b[38;5;66;03m# Create subplots\u001b[39;00m\n\u001b[1;32m      4\u001b[0m fig, axes \u001b[38;5;241m=\u001b[39m plt\u001b[38;5;241m.\u001b[39msubplots(\u001b[38;5;241m1\u001b[39m, \u001b[38;5;28mlen\u001b[39m(legend_values), figsize\u001b[38;5;241m=\u001b[39m(\u001b[38;5;241m20\u001b[39m, \u001b[38;5;241m5\u001b[39m), sharex\u001b[38;5;241m=\u001b[39m\u001b[38;5;28;01mTrue\u001b[39;00m, sharey\u001b[38;5;241m=\u001b[39m\u001b[38;5;28;01mTrue\u001b[39;00m)\n",
      "\u001b[0;31mNameError\u001b[0m: name 'variable_net' is not defined"
     ]
    }
   ],
   "source": [
    "legend_values = variable_net['Legend'].unique()\n",
    "\n",
    "# Create subplots\n",
    "fig, axes = plt.subplots(1, len(legend_values), figsize=(20, 5), sharex=True, sharey=True)\n",
    "\n",
    "for ax, legend_value in zip(axes, legend_values):\n",
    "    subset = variable_net[variable_net['Legend'] == legend_value]\n",
    "    subset.plot(ax=ax, marker='o', color='blue', markersize=10, alpha=0.5, aspect=1)\n",
    "    ax.set_title(f\"Legend: {legend_value}\")\n",
    "    ax.set_aspect('equal')  # Set aspect to 'equal' manually\n",
    "    ax.axis('on')  # Keep axis visible for better debugging\n",
    "\n",
    "plt.tight_layout()\n",
    "plt.show()"
   ]
  },
  {
   "cell_type": "code",
   "execution_count": 22,
   "id": "1242f002-8487-444d-aa28-74071b85da7c",
   "metadata": {
    "tags": []
   },
   "outputs": [
    {
     "ename": "ModuleNotFoundError",
     "evalue": "No module named 'esda'",
     "output_type": "error",
     "traceback": [
      "\u001b[0;31m---------------------------------------------------------------------------\u001b[0m",
      "\u001b[0;31mModuleNotFoundError\u001b[0m                       Traceback (most recent call last)",
      "Cell \u001b[0;32mIn[22], line 2\u001b[0m\n\u001b[1;32m      1\u001b[0m \u001b[38;5;28;01mfrom\u001b[39;00m \u001b[38;5;21;01mlibpysal\u001b[39;00m\u001b[38;5;21;01m.\u001b[39;00m\u001b[38;5;21;01mweights\u001b[39;00m \u001b[38;5;28;01mimport\u001b[39;00m Queen\n\u001b[0;32m----> 2\u001b[0m \u001b[38;5;28;01mfrom\u001b[39;00m \u001b[38;5;21;01mesda\u001b[39;00m\u001b[38;5;21;01m.\u001b[39;00m\u001b[38;5;21;01mmoran\u001b[39;00m \u001b[38;5;28;01mimport\u001b[39;00m Moran_Local\n",
      "\u001b[0;31mModuleNotFoundError\u001b[0m: No module named 'esda'"
     ]
    }
   ],
   "source": [
    "from libpysal.weights import Queen\n",
    "from esda.moran import Moran_Local"
   ]
  },
  {
   "cell_type": "code",
   "execution_count": null,
   "id": "fc53be80-fd24-4271-b5d9-a87db130ae8b",
   "metadata": {
    "tags": []
   },
   "outputs": [],
   "source": [
    "w = Queen.from_dataframe(Assault21_net, use_index = False)\n",
    "y = Assault21_net['countAssault']\n",
    "moran_loc = Moran_Local(y, w)"
   ]
  },
  {
   "cell_type": "code",
   "execution_count": null,
   "id": "81df6b75-0af1-40d1-8dc8-fa7b45945bed",
   "metadata": {
    "tags": []
   },
   "outputs": [],
   "source": [
    "Assault21_net['LocalMoran'] = moran_loc.Is\n",
    "Assault21_net['Cluster'] = moran_loc.q\n",
    "cluster_labels = {\n",
    "    1: \"HH (High-High)\",\n",
    "    2: \"LH (Low-High)\",\n",
    "    3: \"LL (Low-Low)\",\n",
    "    4: \"HL (High-Low)\"\n",
    "}\n",
    "Assault21_net['ClusterLabel'] = Assault21_net['Cluster'].map(cluster_labels)\n",
    "\n",
    "# Plot\n",
    "fig, ax = plt.subplots(1, 1, figsize=(10, 10))\n",
    "Assault21_net.plot(column='ClusterLabel', categorical=True, legend=True, cmap='Set2', ax=ax)\n",
    "plt.title(\"Local Moran's I Clusters\", fontsize=15)\n",
    "plt.show()"
   ]
  },
  {
   "cell_type": "code",
   "execution_count": null,
   "id": "132a6693-8037-437e-b8b0-51399bc0433e",
   "metadata": {
    "tags": []
   },
   "outputs": [],
   "source": [
    "import geopandas as gpd\n",
    "from sklearn.cluster import KMeans\n",
    "import matplotlib.pyplot as plt\n",
    "from geopy.distance import geodesic\n",
    "import numpy as np\n",
    "\n",
    "#variable_net = variable_net.to_crs(epsg=26971) \n",
    "#Assault21 = Assault21.to_crs(epsg=26971)\n",
    "\n",
    "variable_net['x'] = variable_net.geometry.x\n",
    "variable_net['y'] = variable_net.geometry.y\n",
    "features = variable_net[['x', 'y']]"
   ]
  },
  {
   "cell_type": "code",
   "execution_count": null,
   "id": "fec14f45-089f-4168-8a45-7cad797bdfa2",
   "metadata": {
    "tags": []
   },
   "outputs": [],
   "source": [
    "features"
   ]
  },
  {
   "cell_type": "code",
   "execution_count": null,
   "id": "00050073-6f3e-4b41-93f0-ec4894fe7e52",
   "metadata": {
    "tags": []
   },
   "outputs": [],
   "source": [
    "# Step 3: Determine the optimal number of clusters (Optional - Elbow Method)\n",
    "inertia = []\n",
    "for k in range(1, 11):\n",
    "    kmeans = KMeans(n_clusters=k, random_state=42)\n",
    "    kmeans.fit(features)\n",
    "    inertia.append(kmeans.inertia_)"
   ]
  },
  {
   "cell_type": "code",
   "execution_count": null,
   "id": "d8de62d4-28ab-4836-8516-be586ffcc3ae",
   "metadata": {
    "tags": []
   },
   "outputs": [],
   "source": [
    "inertia"
   ]
  },
  {
   "cell_type": "code",
   "execution_count": null,
   "id": "b0a9fa42-9087-4a8d-b02d-e1e78d32112a",
   "metadata": {
    "tags": []
   },
   "outputs": [],
   "source": [
    "# Plot Elbow Method\n",
    "plt.figure(figsize=(8, 6))\n",
    "plt.plot(range(1, 11), inertia, marker='o')\n",
    "plt.xlabel('Number of Clusters')\n",
    "plt.ylabel('Inertia')\n",
    "plt.title('Elbow Method')\n",
    "plt.show()"
   ]
  },
  {
   "cell_type": "code",
   "execution_count": null,
   "id": "7e82e08e-143c-42fe-a8b4-08245a48e884",
   "metadata": {
    "tags": []
   },
   "outputs": [],
   "source": [
    "# Step 4: Fit K-Means with the chosen number of clusters (e.g., k=4)\n",
    "optimal_k = 3  # Replace with your chosen k based on the Elbow Method\n",
    "kmeans = KMeans(n_clusters=optimal_k, random_state=42)\n",
    "variable_net['cluster'] = kmeans.fit_predict(features)"
   ]
  },
  {
   "cell_type": "code",
   "execution_count": null,
   "id": "abb5f7b8-92fc-4ba9-9b0f-fb2671822f8e",
   "metadata": {
    "tags": []
   },
   "outputs": [],
   "source": [
    "# Step 5: Calculate cluster centroids\n",
    "centroids = pd.DataFrame(kmeans.cluster_centers_, columns=['x_centroid', 'y_centroid'])\n",
    "centroids_gdf = gpd.GeoDataFrame(centroids, geometry=gpd.points_from_xy(centroids['x_centroid'], centroids['y_centroid']), crs=variable_net.crs)"
   ]
  },
  {
   "cell_type": "code",
   "execution_count": null,
   "id": "2a2fd561-8dad-4151-b4ed-e1641f24b040",
   "metadata": {
    "tags": []
   },
   "outputs": [],
   "source": [
    "Assault21 = Assault21[~Assault21.geometry.is_empty].copy()\n",
    "centroids_gdf = centroids_gdf[~centroids_gdf.geometry.is_empty].copy()\n",
    "\n",
    "# Step 2: Calculate distances using valid geometries\n",
    "def calculate_nearest_cluster_projected(row, centroids):\n",
    "    # Calculate Euclidean distances using projected CRS coordinates\n",
    "    distances = centroids.apply(lambda c: ((row.geometry.x - c.geometry.x) ** 2 + (row.geometry.y - c.geometry.y) ** 2) ** 0.5, axis=1)\n",
    "    return distances.idxmin(), distances.min()"
   ]
  },
  {
   "cell_type": "code",
   "execution_count": null,
   "id": "ec1986f0-e802-4074-b930-edc5c9354eb2",
   "metadata": {
    "tags": []
   },
   "outputs": [],
   "source": [
    "# Step 3: Apply the distance calculation\n",
    "Assault21[['nearest_cluster', 'distance_to_cluster']] = Assault21.apply(\n",
    "    lambda row: calculate_nearest_cluster_projected(row, centroids_gdf), axis=1, result_type='expand'\n",
    ")\n",
    "\n",
    "# Step 4: Analyze results\n",
    "assaults_per_cluster = Assault21.groupby('nearest_cluster').size()\n",
    "print(assaults_per_cluster)\n",
    "\n",
    "# Visualization (unchanged)\n",
    "plt.figure(figsize=(10, 8))\n",
    "for cluster_id in range(optimal_k):\n",
    "    cluster_points = variable_net[variable_net['cluster'] == cluster_id]\n",
    "    plt.scatter(cluster_points['x'], cluster_points['y'], label=f'Cluster {cluster_id}')\n",
    "\n",
    "#plt.scatter(Assault21.geometry.x, Assault21.geometry.y, color='red', label='Assault Cases', alpha=0.2)\n",
    "plt.scatter(centroids_gdf.geometry.x, centroids_gdf.geometry.y, color='black', label='Centroids', marker='X', s=100)\n",
    "\n",
    "plt.xlabel('X Coordinate (meters)')\n",
    "plt.ylabel('Y Coordinate (meters)')\n",
    "plt.title('K-Means Clustering with Assault Cases')\n",
    "plt.legend()\n",
    "plt.show()"
   ]
  },
  {
   "cell_type": "code",
   "execution_count": null,
   "id": "2991848c-200a-4f54-bdec-9401933616d0",
   "metadata": {
    "tags": []
   },
   "outputs": [],
   "source": [
    "import statsmodels.api as sm\n",
    "\n",
    "fishnet = fishnet.to_crs(epsg=3435)"
   ]
  },
  {
   "cell_type": "code",
   "execution_count": null,
   "id": "07d0cdff-ff5d-45db-83d0-0e7631c9491d",
   "metadata": {
    "tags": []
   },
   "outputs": [],
   "source": [
    "variable_net_index = variable_net.drop(columns=['index_right'])\n",
    "variable_net_poly = gpd.sjoin(fishnet, variable_net_index, how='left', predicate='intersects')"
   ]
  },
  {
   "cell_type": "code",
   "execution_count": null,
   "id": "8700a072-1b2a-4558-a179-3408f1af6db6",
   "metadata": {
    "tags": []
   },
   "outputs": [],
   "source": [
    "# Aggregate variables by fishnet polygons\n",
    "# Summing or averaging predictors as appropriate\n",
    "legend_counts = variable_net_poly.groupby(['uniqueID_left', 'Legend']).size().unstack(fill_value=0)\n",
    "\n",
    "# Rename columns for clarity\n",
    "legend_counts.columns = ['Graffiti_count', 'StreetLightsOut_count', 'LiquorRetail_count', 'ShotSpotter_count']\n",
    "\n",
    "# Reset the index to merge with the fishnet\n",
    "legend_counts = legend_counts.reset_index()\n",
    "\n",
    "# Rename `uniqueID_left` to `uniqueID` for consistency\n",
    "legend_counts.rename(columns={'uniqueID_left': 'uniqueID'}, inplace=True)\n",
    "\n",
    "# Merge aggregated legend counts back into the fishnet\n",
    "variable_net_agg = fishnet.merge(legend_counts, on='uniqueID', how='left')\n",
    "\n",
    "# Fill NaNs with 0 (if there are any empty cells)\n",
    "variable_net_agg = variable_net_agg.fillna(0)"
   ]
  },
  {
   "cell_type": "code",
   "execution_count": 23,
   "id": "341d57b5-b406-4b24-8476-969ee7bcbe26",
   "metadata": {
    "tags": []
   },
   "outputs": [
    {
     "ename": "NameError",
     "evalue": "name 'Assault21_net' is not defined",
     "output_type": "error",
     "traceback": [
      "\u001b[0;31m---------------------------------------------------------------------------\u001b[0m",
      "\u001b[0;31mNameError\u001b[0m                                 Traceback (most recent call last)",
      "Cell \u001b[0;32mIn[23], line 2\u001b[0m\n\u001b[1;32m      1\u001b[0m \u001b[38;5;66;03m# Step 2: Merge variable_net and Assault21_net using fishnet\u001b[39;00m\n\u001b[0;32m----> 2\u001b[0m combined_net \u001b[38;5;241m=\u001b[39m \u001b[43mAssault21_net\u001b[49m\u001b[38;5;241m.\u001b[39mmerge(variable_net_agg, on\u001b[38;5;241m=\u001b[39m\u001b[38;5;124m'\u001b[39m\u001b[38;5;124mgeometry\u001b[39m\u001b[38;5;124m'\u001b[39m, how\u001b[38;5;241m=\u001b[39m\u001b[38;5;124m'\u001b[39m\u001b[38;5;124mleft\u001b[39m\u001b[38;5;124m'\u001b[39m)\n\u001b[1;32m      4\u001b[0m \u001b[38;5;66;03m# Fill missing values with 0 for variables with no data in some grids\u001b[39;00m\n\u001b[1;32m      5\u001b[0m combined_net \u001b[38;5;241m=\u001b[39m combined_net\u001b[38;5;241m.\u001b[39mfillna(\u001b[38;5;241m0\u001b[39m)\n",
      "\u001b[0;31mNameError\u001b[0m: name 'Assault21_net' is not defined"
     ]
    }
   ],
   "source": [
    "# Step 2: Merge variable_net and Assault21_net using fishnet\n",
    "combined_net = Assault21_net.merge(variable_net_agg, on='geometry', how='left')\n",
    "\n",
    "# Fill missing values with 0 for variables with no data in some grids\n",
    "combined_net = combined_net.fillna(0)"
   ]
  },
  {
   "cell_type": "code",
   "execution_count": 24,
   "id": "14da56b9-27f9-458f-8146-fb8675fd5e43",
   "metadata": {
    "tags": []
   },
   "outputs": [
    {
     "ename": "NameError",
     "evalue": "name 'combined_net' is not defined",
     "output_type": "error",
     "traceback": [
      "\u001b[0;31m---------------------------------------------------------------------------\u001b[0m",
      "\u001b[0;31mNameError\u001b[0m                                 Traceback (most recent call last)",
      "Cell \u001b[0;32mIn[24], line 1\u001b[0m\n\u001b[0;32m----> 1\u001b[0m features \u001b[38;5;241m=\u001b[39m \u001b[43mcombined_net\u001b[49m\u001b[38;5;241m.\u001b[39mdrop(columns\u001b[38;5;241m=\u001b[39m[\u001b[38;5;124m'\u001b[39m\u001b[38;5;124mgeometry\u001b[39m\u001b[38;5;124m'\u001b[39m, \u001b[38;5;124m'\u001b[39m\u001b[38;5;124mcountAssault\u001b[39m\u001b[38;5;124m'\u001b[39m])  \u001b[38;5;66;03m# Drop target and geometry\u001b[39;00m\n\u001b[1;32m      2\u001b[0m features \u001b[38;5;241m=\u001b[39m features\u001b[38;5;241m.\u001b[39mselect_dtypes(include\u001b[38;5;241m=\u001b[39m[np\u001b[38;5;241m.\u001b[39mnumber])  \u001b[38;5;66;03m# Keep only numeric columns\u001b[39;00m\n\u001b[1;32m      4\u001b[0m \u001b[38;5;66;03m# Ensure the target variable is numeric\u001b[39;00m\n",
      "\u001b[0;31mNameError\u001b[0m: name 'combined_net' is not defined"
     ]
    }
   ],
   "source": [
    "features = combined_net.drop(columns=['geometry', 'countAssault'])  # Drop target and geometry\n",
    "features = features.select_dtypes(include=[np.number])  # Keep only numeric columns\n",
    "\n",
    "# Ensure the target variable is numeric\n",
    "combined_net['countAssault'] = pd.to_numeric(combined_net['countAssault'], errors='coerce')\n",
    "combined_net['countAssault'] = combined_net['countAssault'].fillna(0)\n",
    "\n",
    "# Fit the Poisson regression model\n",
    "import statsmodels.api as sm\n",
    "poisson_model = sm.GLM(combined_net['countAssault'], features, family=sm.families.Poisson())\n",
    "poisson_results = poisson_model.fit()\n",
    "\n",
    "# Print model summary\n",
    "print(poisson_results.summary())"
   ]
  },
  {
   "cell_type": "code",
   "execution_count": 25,
   "id": "d21d010b-cbe3-4cb7-86ff-b1e0bc82ba3e",
   "metadata": {
    "tags": []
   },
   "outputs": [
    {
     "ename": "NameError",
     "evalue": "name 'poisson_results' is not defined",
     "output_type": "error",
     "traceback": [
      "\u001b[0;31m---------------------------------------------------------------------------\u001b[0m",
      "\u001b[0;31mNameError\u001b[0m                                 Traceback (most recent call last)",
      "Cell \u001b[0;32mIn[25], line 1\u001b[0m\n\u001b[0;32m----> 1\u001b[0m coefficients \u001b[38;5;241m=\u001b[39m \u001b[43mpoisson_results\u001b[49m\u001b[38;5;241m.\u001b[39mparams\n\u001b[1;32m      2\u001b[0m conf_intervals \u001b[38;5;241m=\u001b[39m poisson_results\u001b[38;5;241m.\u001b[39mconf_int()\n\u001b[1;32m      3\u001b[0m conf_intervals\u001b[38;5;241m.\u001b[39mcolumns \u001b[38;5;241m=\u001b[39m [\u001b[38;5;124m'\u001b[39m\u001b[38;5;124mLower 95\u001b[39m\u001b[38;5;124m%\u001b[39m\u001b[38;5;124m'\u001b[39m, \u001b[38;5;124m'\u001b[39m\u001b[38;5;124mUpper 95\u001b[39m\u001b[38;5;124m%\u001b[39m\u001b[38;5;124m'\u001b[39m]\n",
      "\u001b[0;31mNameError\u001b[0m: name 'poisson_results' is not defined"
     ]
    }
   ],
   "source": [
    "coefficients = poisson_results.params\n",
    "conf_intervals = poisson_results.conf_int()\n",
    "conf_intervals.columns = ['Lower 95%', 'Upper 95%']\n",
    "\n",
    "# Combine coefficients and confidence intervals into a DataFrame\n",
    "coef_df = pd.DataFrame({\n",
    "    'Coefficient': coefficients,\n",
    "    'Lower CI': conf_intervals['Lower 95%'],\n",
    "    'Upper CI': conf_intervals['Upper 95%']\n",
    "})\n",
    "\n",
    "# Plot\n",
    "plt.figure(figsize=(10, 6))\n",
    "coef_df['Coefficient'].plot(kind='bar', yerr=(coef_df['Coefficient'] - coef_df['Lower CI'], \n",
    "                                              coef_df['Upper CI'] - coef_df['Coefficient']),\n",
    "                            capsize=5, color='skyblue', edgecolor='black')\n",
    "plt.axhline(0, color='red', linestyle='--', linewidth=1)\n",
    "plt.title('Regression Coefficients with Confidence Intervals')\n",
    "plt.ylabel('Coefficient Value')\n",
    "plt.xlabel('Variables')\n",
    "plt.xticks(rotation=45)\n",
    "plt.tight_layout()\n",
    "plt.show()"
   ]
  },
  {
   "cell_type": "code",
   "execution_count": 26,
   "id": "f52049e2-9539-4237-a37c-8ea066327e73",
   "metadata": {
    "tags": []
   },
   "outputs": [
    {
     "ename": "NameError",
     "evalue": "name 'poisson_results' is not defined",
     "output_type": "error",
     "traceback": [
      "\u001b[0;31m---------------------------------------------------------------------------\u001b[0m",
      "\u001b[0;31mNameError\u001b[0m                                 Traceback (most recent call last)",
      "Cell \u001b[0;32mIn[26], line 1\u001b[0m\n\u001b[0;32m----> 1\u001b[0m combined_net[\u001b[38;5;124m'\u001b[39m\u001b[38;5;124mpredicted_assault_count\u001b[39m\u001b[38;5;124m'\u001b[39m] \u001b[38;5;241m=\u001b[39m \u001b[43mpoisson_results\u001b[49m\u001b[38;5;241m.\u001b[39mpredict(features)\n\u001b[1;32m      3\u001b[0m \u001b[38;5;66;03m# Plot the predicted counts\u001b[39;00m\n\u001b[1;32m      4\u001b[0m fig, ax \u001b[38;5;241m=\u001b[39m plt\u001b[38;5;241m.\u001b[39msubplots(\u001b[38;5;241m1\u001b[39m, \u001b[38;5;241m1\u001b[39m, figsize\u001b[38;5;241m=\u001b[39m(\u001b[38;5;241m12\u001b[39m, \u001b[38;5;241m8\u001b[39m))\n",
      "\u001b[0;31mNameError\u001b[0m: name 'poisson_results' is not defined"
     ]
    }
   ],
   "source": [
    "combined_net['predicted_assault_count'] = poisson_results.predict(features)\n",
    "\n",
    "# Plot the predicted counts\n",
    "fig, ax = plt.subplots(1, 1, figsize=(12, 8))\n",
    "combined_net.plot(column='predicted_assault_count', cmap='OrRd', legend=True, ax=ax,\n",
    "                  legend_kwds={'label': \"Predicted Assault Counts\"})\n",
    "plt.title(\"Predicted Assault Counts Across the Fishnet\")\n",
    "plt.axis('off')\n",
    "plt.show()"
   ]
  },
  {
   "cell_type": "code",
   "execution_count": 27,
   "id": "b7f3a495-5fab-4733-8071-49c23b72bb5d",
   "metadata": {
    "tags": []
   },
   "outputs": [
    {
     "ename": "NameError",
     "evalue": "name 'combined_net' is not defined",
     "output_type": "error",
     "traceback": [
      "\u001b[0;31m---------------------------------------------------------------------------\u001b[0m",
      "\u001b[0;31mNameError\u001b[0m                                 Traceback (most recent call last)",
      "Cell \u001b[0;32mIn[27], line 1\u001b[0m\n\u001b[0;32m----> 1\u001b[0m combined_net[\u001b[38;5;124m'\u001b[39m\u001b[38;5;124mresiduals\u001b[39m\u001b[38;5;124m'\u001b[39m] \u001b[38;5;241m=\u001b[39m \u001b[43mcombined_net\u001b[49m[\u001b[38;5;124m'\u001b[39m\u001b[38;5;124mcountAssault\u001b[39m\u001b[38;5;124m'\u001b[39m] \u001b[38;5;241m-\u001b[39m combined_net[\u001b[38;5;124m'\u001b[39m\u001b[38;5;124mpredicted_assault_count\u001b[39m\u001b[38;5;124m'\u001b[39m]\n\u001b[1;32m      3\u001b[0m \u001b[38;5;66;03m# Plot residuals\u001b[39;00m\n\u001b[1;32m      4\u001b[0m fig, ax \u001b[38;5;241m=\u001b[39m plt\u001b[38;5;241m.\u001b[39msubplots(\u001b[38;5;241m1\u001b[39m, \u001b[38;5;241m1\u001b[39m, figsize\u001b[38;5;241m=\u001b[39m(\u001b[38;5;241m12\u001b[39m, \u001b[38;5;241m8\u001b[39m))\n",
      "\u001b[0;31mNameError\u001b[0m: name 'combined_net' is not defined"
     ]
    }
   ],
   "source": [
    "combined_net['residuals'] = combined_net['countAssault'] - combined_net['predicted_assault_count']\n",
    "\n",
    "# Plot residuals\n",
    "fig, ax = plt.subplots(1, 1, figsize=(12, 8))\n",
    "combined_net.plot(column='residuals', cmap='coolwarm', legend=True, ax=ax,\n",
    "                  legend_kwds={'label': \"Residuals (Observed - Predicted)\"})\n",
    "plt.title(\"Residuals of the Model Across the Fishnet\")\n",
    "plt.axis('off')\n",
    "plt.show()"
   ]
  },
  {
   "cell_type": "code",
   "execution_count": 28,
   "id": "9d5f71e8-63d8-4856-95b1-34f960142d25",
   "metadata": {
    "tags": []
   },
   "outputs": [
    {
     "ename": "NameError",
     "evalue": "name 'features' is not defined",
     "output_type": "error",
     "traceback": [
      "\u001b[0;31m---------------------------------------------------------------------------\u001b[0m",
      "\u001b[0;31mNameError\u001b[0m                                 Traceback (most recent call last)",
      "Cell \u001b[0;32mIn[28], line 1\u001b[0m\n\u001b[0;32m----> 1\u001b[0m correlation_matrix \u001b[38;5;241m=\u001b[39m \u001b[43mfeatures\u001b[49m\u001b[38;5;241m.\u001b[39mcorr()\n\u001b[1;32m      3\u001b[0m \u001b[38;5;66;03m# Plot heatmap\u001b[39;00m\n\u001b[1;32m      4\u001b[0m plt\u001b[38;5;241m.\u001b[39mfigure(figsize\u001b[38;5;241m=\u001b[39m(\u001b[38;5;241m10\u001b[39m, \u001b[38;5;241m8\u001b[39m))\n",
      "\u001b[0;31mNameError\u001b[0m: name 'features' is not defined"
     ]
    }
   ],
   "source": [
    "correlation_matrix = features.corr()\n",
    "\n",
    "# Plot heatmap\n",
    "plt.figure(figsize=(10, 8))\n",
    "sns.heatmap(correlation_matrix, annot=True, cmap='coolwarm', fmt='.2f')\n",
    "plt.title('Correlation Matrix of Predictors')\n",
    "plt.show()"
   ]
  },
  {
   "cell_type": "code",
   "execution_count": null,
   "id": "e0864c1a-afd3-4f95-a81f-1c2269bb5a87",
   "metadata": {},
   "outputs": [],
   "source": []
  },
  {
   "cell_type": "code",
   "execution_count": null,
   "id": "77abd91d-236c-491b-88c0-cf53bf724dd4",
   "metadata": {},
   "outputs": [],
   "source": []
  },
  {
   "cell_type": "code",
   "execution_count": null,
   "id": "1f7bad3a-ba3d-45ac-87e7-4159155108bb",
   "metadata": {},
   "outputs": [],
   "source": []
  },
  {
   "cell_type": "code",
   "execution_count": null,
   "id": "8a230a95-2a5e-4588-8238-ba13800aef71",
   "metadata": {},
   "outputs": [],
   "source": []
  }
 ],
 "metadata": {
  "kernelspec": {
   "display_name": "Python 3 (ipykernel)",
   "language": "python",
   "name": "python3"
  },
  "language_info": {
   "codemirror_mode": {
    "name": "ipython",
    "version": 3
   },
   "file_extension": ".py",
   "mimetype": "text/x-python",
   "name": "python",
   "nbconvert_exporter": "python",
   "pygments_lexer": "ipython3",
   "version": "3.10.12"
  }
 },
 "nbformat": 4,
 "nbformat_minor": 5
}
