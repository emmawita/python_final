{
 "cells": [
  {
   "cell_type": "markdown",
   "id": "30c6e537-77e7-4ce2-95ee-827e15fc81d3",
   "metadata": {},
   "source": [
    "## Conclusion\n",
    "\n",
    "***"
   ]
  },
  {
   "cell_type": "markdown",
   "id": "9dc4f245-a287-4cb5-8061-79e123889106",
   "metadata": {},
   "source": [
    "In this project, we aimed to predict assault incidents across Chicago using a Poisson regression model. Our approach began with the systematic retrieval of urban risk factor data, such as graffiti, non-functional street lights, liquor retail stores, and ShotSpotter incidents. After preparing and aggregating the data by spatially joining it with a fishnet grid, we performed a series of analyses. We calculated the number of occurrences of each risk factor within the grid cells and merged these counts with the assault data. Using these aggregated risk factors, we trained a Poisson regression model to predict assault counts across the city. The model results were then visualized through a choropleth map, which highlighted the predicted assault counts and revealed several hot spots, particularly in South Chicago, with potentially two other significant areas in Central Chicago. Residual analysis further revealed areas where the model either overpredicted or underpredicted assaults, with blue areas indicating severe underpredictions and dark red areas showing overpredictions. Finally, we examined the correlation between predictor variables, which generally exhibited low to moderate correlations, confirming that the risk factors were relatively independent of one another."
   ]
  },
  {
   "cell_type": "markdown",
   "id": "2626912a-ff37-4b05-8a31-838ad01b8e00",
   "metadata": {},
   "source": [
    "While the methodology employed in this project was effective in predicting assault patterns across Chicago, there are several areas where improvements or adjustments could be made to enhance the model's accuracy and predictive power. First, while the Poisson regression model is suitable for count data, it assumes that the variance equals the mean, which may not hold in all cases. Exploring alternative models, such as the Negative Binomial regression, could potentially improve performance in areas where overdispersion is present, as it accounts for greater variability in the data. Additionally, the inclusion of more granular or additional risk factors—such as socioeconomic indicators, police presence, or neighborhood-level interventions—could help refine the model and capture underlying causes of crime more accurately. Another area of improvement lies in the spatial resolution of the analysis. While using a fishnet grid was effective for aggregating data, further exploration of different spatial units, such as census tracts or neighborhood boundaries, could provide a more nuanced view of crime patterns. Lastly, addressing potential model overfitting by incorporating cross-validation techniques could help ensure the model generalizes better to unseen data, improving its robustness and predictive power. These adjustments would enhance the model's ability to offer more precise and actionable insights for crime prevention and public policy."
   ]
  }
 ],
 "metadata": {
  "kernelspec": {
   "display_name": "Python 3 (ipykernel)",
   "language": "python",
   "name": "python3"
  },
  "language_info": {
   "codemirror_mode": {
    "name": "ipython",
    "version": 3
   },
   "file_extension": ".py",
   "mimetype": "text/x-python",
   "name": "python",
   "nbconvert_exporter": "python",
   "pygments_lexer": "ipython3",
   "version": "3.10.12"
  }
 },
 "nbformat": 4,
 "nbformat_minor": 5
}
