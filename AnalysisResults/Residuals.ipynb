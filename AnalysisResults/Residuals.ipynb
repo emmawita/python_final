{
 "cells": [
  {
   "cell_type": "markdown",
   "id": "1497504c-4c71-4266-863f-a461c5867cfb",
   "metadata": {},
   "source": [
    "---\n",
    "format: \n",
    "  html:\n",
    "    toc: true\n",
    "    page-layout: full\n",
    "execute:\n",
    "    warning: false\n",
    "    echo: true\n",
    "    eval: true\n",
    "---"
   ]
  },
  {
   "cell_type": "markdown",
   "id": "6eabe4c2-6521-429c-950d-49e069b625a9",
   "metadata": {},
   "source": [
    "## **Residuals**\n",
    "\n",
    "***"
   ]
  },
  {
   "cell_type": "markdown",
   "id": "e70cf1d6-f4a1-4975-9336-5144838fd816",
   "metadata": {},
   "source": [
    "To assess the model's performance further, we calculated the **residuals** by subtracting the predicted assault counts from the observed assault counts for each fishnet cell. The residuals represent the difference between observed and predicted values, highlighting areas where the model overestimates or underestimates assault counts.\n",
    "\n",
    "The residuals were then visualized using a choropleth map, with a color scheme that ranged from dark purple hues to green hues, corresponding to negative and positive residuals, respectively. This map provides a spatial representation of the model's errors across Chicago. Areas with large positive residuals indicate locations where assaults were underpredicted, whereas large negative residuals point to overpredictions.  By examining this map, we can identify patterns or anomalies that may suggest limitations in the model or unaccounted factors influencing assault counts.\n",
    "\n",
    "Based on the residuals map, several areas are highlighted in purple and dark purple, indicating locations where the model severely underpredicted assault counts. These underpredictions suggest that the model may be missing key factors or patterns specific to those areas. Conversely, there is one notable area in northern Chicago, highlighted in more vibrant green, where the model overpredicted assault counts. This overprediction may point to either overestimated risk factors or a unique characteristic of the area not adequately captured by the model's predictors.\n"
   ]
  },
  {
   "cell_type": "code",
   "execution_count": null,
   "id": "a6e6d38b-577f-4f63-b50c-a344dcb984e7",
   "metadata": {},
   "outputs": [],
   "source": [
    "#| code-fold: true\n",
    "\n",
    "combined_net['residuals'] = combined_net['countAssault'] - combined_net['predicted_assault_count']\n",
    "\n",
    "fig, ax = plt.subplots(1, 1, figsize=(8, 8))\n",
    "combined_net.plot(column='residuals', cmap=cmap, legend=False, ax=ax)\n",
    "plt.title(\"Residuals of the Model (Fishnet)\", fontsize=20, fontweight='bold')\n",
    "plt.axis('off')\n",
    "\n",
    "cax = fig.add_axes([0.15, 0.1, 0.7, 0.01]) # Adjust position and size \n",
    "cb = plt.colorbar(plot.get_children()[0], cax=cax, orientation='horizontal') \n",
    "cb.set_label(\"Residuals (Observed - Predicted)\")\n",
    "cb.ax.tick_params(labelsize=8)\n",
    "\n",
    "plt.show()"
   ]
  },
  {
   "cell_type": "markdown",
   "id": "b7dcbe32-2ee4-4ccd-8c3c-c67979cdb47f",
   "metadata": {},
   "source": [
    "![](../images/residuals.jpeg){width=55%}"
   ]
  },
  {
   "cell_type": "code",
   "execution_count": null,
   "id": "712b77ae-e951-4383-9acc-436a84bdc278",
   "metadata": {},
   "outputs": [],
   "source": []
  },
  {
   "cell_type": "code",
   "execution_count": null,
   "id": "72d8ec47-6f51-4d20-81f1-af9f19cebab7",
   "metadata": {},
   "outputs": [],
   "source": []
  },
  {
   "cell_type": "code",
   "execution_count": null,
   "id": "302fe29d-a154-4180-b330-567d1db1ef0e",
   "metadata": {},
   "outputs": [],
   "source": []
  }
 ],
 "metadata": {
  "kernelspec": {
   "display_name": "Python 3 (ipykernel)",
   "language": "python",
   "name": "python3"
  },
  "language_info": {
   "codemirror_mode": {
    "name": "ipython",
    "version": 3
   },
   "file_extension": ".py",
   "mimetype": "text/x-python",
   "name": "python",
   "nbconvert_exporter": "python",
   "pygments_lexer": "ipython3",
   "version": "3.10.12"
  }
 },
 "nbformat": 4,
 "nbformat_minor": 5
}
