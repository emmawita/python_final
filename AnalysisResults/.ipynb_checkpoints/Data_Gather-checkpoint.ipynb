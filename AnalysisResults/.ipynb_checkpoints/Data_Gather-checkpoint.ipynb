{
 "cells": [
  {
   "cell_type": "markdown",
   "id": "c5d9a692-4f55-4233-8a9d-4f0ad516aefe",
   "metadata": {},
   "source": [
    "---\n",
    "format: \n",
    "  html:\n",
    "    toc: true\n",
    "    page-layout: full\n",
    "execute:\n",
    "    warning: false\n",
    "    echo: true\n",
    "    eval: true\n",
    "---"
   ]
  },
  {
   "cell_type": "markdown",
   "id": "ac7923e7-0f5f-4d55-9277-6c338df065e7",
   "metadata": {
    "tags": []
   },
   "source": [
    "## Assault Data (Data Gathering)\n",
    "\n",
    "***\n",
    "\n",
    "Our data is sourced from the Chicago Data Portal, which provides a variety of municipal datasets for public use. For our model, we specifically use assault case data from 2021. While our original goal was to analyze assault cases from 2020 to 2023 to explore patterns during the COVID-19 pandemic, for the sake of simplicity and time constraints, we have chosen 2021 as a representative year. We intend to later predict assault cases for 2022 and assess the accuracy of our model.\n"
   ]
  },
  {
   "cell_type": "code",
   "execution_count": null,
   "id": "1db8743b-b1d1-4546-bf0f-394b35955d18",
   "metadata": {},
   "outputs": [],
   "source": [
    "#| code-fold: true\n",
    "\n",
    "!pip install census\n",
    "!pip install us\n",
    "!pip install sodapy\n",
    "\n",
    "import matplotlib.pyplot as plt\n",
    "import pandas as pd\n",
    "import geopandas as gpd\n",
    "from census import Census\n",
    "from us import states\n",
    "import os\n",
    "from sodapy import Socrata\n",
    "from shapely.geometry import Point\n",
    "import numpy as np\n",
    "from scipy.stats import gaussian_kde\n",
    "from matplotlib.colors import LinearSegmentedColormap\n",
    "from sklearn.neighbors import KernelDensity\n",
    "from shapely.geometry import box\n",
    "from matplotlib.colors import Normalize\n",
    "from matplotlib.colorbar import ColorbarBase\n",
    "import seaborn as sns"
   ]
  },
  {
   "cell_type": "markdown",
   "id": "1d76d9e4-639e-47ea-8729-03a38bb7b6b8",
   "metadata": {},
   "source": [
    "To analyze crime patterns in Chicago, we began by retrieving data from the city's open data portal using the Socrata API. The Socrata API provides an efficient method for accessing large public datasets. Below is an overview of the steps involved in the data retrieval process:\n",
    "\n",
    "1.\t**Data Retrieval**:\n",
    "We obtained the dataset containing crime reports (dataset ID: dwme-t96c), specifying a limit of 210,000 records to ensure a comprehensive dataset for analysis. This dataset includes key details such as the date, location, crime type, and other relevant contextual information about each incident.\n",
    "\n",
    "2.\t**Conversion to Pandas DataFrame**:\n",
    "The data returned from the API is in JSON format, which was then converted into a Pandas DataFrame. This transformation makes the data easier to manipulate and analyze, using Pandas' powerful tools for data cleaning, filtering, and exploration.\n",
    " \n",
    "3.\t**Data Structure**:\n",
    "The dataset contains several columns, including:\n",
    "\t- Date and Location: Timestamp and coordinates of each incident.\n",
    "\t- Crime Descriptions: Categorized details about the crime, including the type of crime and location (e.g., street address, community area).\n",
    "\t- Administrative Details: Information about police districts, case numbers, and arrest status.\n",
    "\n",
    "4.\t**Setup**:\n",
    "This initial step ensures we have a clean and manageable dataset for analysis. The extracted data serves as the foundation for preprocessing, feature engineering, and model development in the subsequent stages of the project."
   ]
  },
  {
   "cell_type": "code",
   "execution_count": 4,
   "id": "f6b4e12d-3d3f-406b-a0e5-17977ad6c046",
   "metadata": {
    "tags": []
   },
   "outputs": [],
   "source": [
    "#| code-fold: true\n",
    "\n",
    "client = Socrata(\"data.cityofchicago.org\",\n",
    "                  \"PXGs3LAGSv2IZaGVJVPf1M0Fz\",\n",
    "                  username=\"jijinc@upenn.edu\",\n",
    "                  password=\"8m9reD@XfA$Z5W.\")\n",
    "\n",
    "results = client.get(\"dwme-t96c\", limit=210000)\n",
    "\n",
    "results_df = pd.DataFrame.from_records(results)"
   ]
  },
  {
   "cell_type": "markdown",
   "id": "d6297ce2-5b6d-45c7-8d57-4cf2f3a20349",
   "metadata": {},
   "source": [
    "After these steps, the dataset (`results_df`) was filtered to extract only rows where the `primary_type` is \"ASSAULT\", creating a new DataFrame named assault. A new column, geometry, was added by converting the longitude and latitude values into Point objects using the `shapely.geometry` library. This transformation allows for spatial representation of assault incidents.\n",
    "\n",
    "The filtered dataset was then converted into a GeoDataFrame called `Assault21`, a specialized Pandas object that supports spatial operations. The geometry column specifies the spatial data, allowing for further spatial analysis. The coordinate reference system (CRS) was set to `EPSG:4326`, which is based on latitude and longitude.\n",
    "\n",
    "The resulting GeoDataFrame, `Assault21`, includes both the original crime data and the newly created geometry column, enabling us to perform spatial analysis and visualization. With this setup, we are able to map the locations of assault incidents, gaining insights into the spatial distribution of these crimes.\n",
    "\n",
    "To visualize the assault incidents in Chicago, we used a combination of a boundary shapefile and the `Assault21` GeoDataFrame. First, we retrieved census data for Chicago’s tracts using the `c.acs5.state_county_tract` function from the census module. Relevant demographic variables, such as total population, were selected and stored in a Pandas DataFrame called `chidf`. Additionally, a GeoDataFrame representing Chicago’s city boundary was loaded from the GeoJSON file `chicagoBoundary.geojson`, which defines the city's limits.\n",
    "\n",
    "***\n"
   ]
  },
  {
   "cell_type": "markdown",
   "id": "3bbb2490-a313-4483-9316-9f04796b72d3",
   "metadata": {},
   "source": [
    "The map was created using matplotlib and geopandas. The `chicagoBoundary` GeoDataFrame was plotted first, using a beige color to represent the city's boundary. The `Assault21` GeoDataFrame was overlaid on top, with assault incident locations marked in orange.  Markers were kept small to prevent map clutter, providing a clearer visualization of incident distributions.\n",
    "\n",
    "From the map, we observe that assault incidents are concentrated in the northern and central areas of the city, while the southern region shows fewer incidents. This spatial distribution allows us to identify potential hotspots and explore correlations with other socioeconomic or geographic factors in the following stages of the analysis.\n"
   ]
  },
  {
   "cell_type": "code",
   "execution_count": null,
   "id": "94713f62-e01e-424b-85ae-68e13baca073",
   "metadata": {},
   "outputs": [],
   "source": [
    "#| code-fold: true\n",
    "\n",
    "import matplotlib.pyplot as plt\n",
    "import matplotlib as mpl\n",
    "\n",
    "mpl.rcParams['font.family'] = 'sans-serif'\n",
    "mpl.rcParams['font.sans-serif'] = 'Futura'\n",
    "mpl.rcParams['font.size'] = 12\n",
    "\n",
    "fig, ax = plt.subplots(figsize=(10, 10))\n",
    "\n",
    "# chicagoBoundary.plot(ax=ax, color='beige')\n",
    "chicagoBoundary.to_crs(4326).plot(ax=ax, color='black')\n",
    "# Assault21.to_crs()\n",
    "Assault21.plot(ax=ax, color='#c2e538', markersize=0.1, label='Assault Incidents')\n",
    "\n",
    "plt.title(\"Assault Incidents in Chicago 2021\")\n",
    "plt.xticks([])\n",
    "plt.yticks([])\n",
    "plt.gca().set_frame_on(False)\n",
    "\n",
    "plt.gca().set_facecolor('white')\n",
    "plt.gca().spines['top'].set_visible(False)\n",
    "plt.gca().spines['right'].set_visible(False)\n",
    "plt.gca().spines['left'].set_color('grey')\n",
    "plt.gca().spines['bottom'].set_color('grey')\n",
    "plt.gca().spines['left'].set_linewidth(0.8)\n",
    "plt.gca().spines['bottom'].set_linewidth(0.8)\n",
    "\n",
    "plt.show()"
   ]
  },
  {
   "cell_type": "markdown",
   "id": "51b5b10a-4de6-4f1e-bef0-d01cf5ec8059",
   "metadata": {
    "tags": []
   },
   "source": [
    "![](../images/dots.jpeg){width=45%}"
   ]
  }
 ],
 "metadata": {
  "kernelspec": {
   "display_name": "Python 3 (ipykernel)",
   "language": "python",
   "name": "python3"
  },
  "language_info": {
   "codemirror_mode": {
    "name": "ipython",
    "version": 3
   },
   "file_extension": ".py",
   "mimetype": "text/x-python",
   "name": "python",
   "nbconvert_exporter": "python",
   "pygments_lexer": "ipython3",
   "version": "3.10.12"
  }
 },
 "nbformat": 4,
 "nbformat_minor": 5
}
