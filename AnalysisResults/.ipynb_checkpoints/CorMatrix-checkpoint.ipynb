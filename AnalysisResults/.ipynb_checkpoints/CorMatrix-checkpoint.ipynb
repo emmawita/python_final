{
 "cells": [
  {
   "cell_type": "markdown",
   "id": "44f7dd70-8496-4d8b-968c-2edb7357d68e",
   "metadata": {},
   "source": [
    "---\n",
    "format: \n",
    "  html:\n",
    "    toc: true\n",
    "    page-layout: full\n",
    "execute:\n",
    "    warning: false\n",
    "    echo: true\n",
    "    eval: true\n",
    "---"
   ]
  },
  {
   "cell_type": "markdown",
   "id": "d69de544-cab8-455b-9a1d-74ca0620666d",
   "metadata": {},
   "source": [
    "## **Correlation Matrix**\n",
    "\n",
    "***"
   ]
  },
  {
   "cell_type": "markdown",
   "id": "c68b2dcd-eab3-45a0-ab42-d024602ae5c5",
   "metadata": {},
   "source": [
    "To further evaluate the relationships among the predictors used in the model, we computed a **correlation matrix** and visualized it using a heatmap. The heatmap provides a detailed view of the pairwise correlations between all predictors, with values ranging from -1 to 1. Strong positive correlations are represented in shades of green, while strong negative correlations appear in shades of purple. This analysis helps identify potential multicollinearity among variables, which could impact the model's reliability and interpretability. By examining the strength and direction of these correlations, we can determine whether any predictors might need to be adjusted, combined, or removed in future modeling efforts.\n",
    "\n",
    "The heatmap of the correlation matrix revealed that the majority of the variables exhibited moderate to low correlation values. This suggests that there is limited multicollinearity among the predictors, indicating that each variable contributes relatively distinct information to the model.\n"
   ]
  },
  {
   "cell_type": "code",
   "execution_count": null,
   "id": "5fe7a38c-4587-423a-b0ae-b989dc1c2727",
   "metadata": {},
   "outputs": [],
   "source": [
    "#| code-fold: true\n",
    "\n",
    "correlation_matrix = features.corr()\n",
    "\n",
    "# Plot heatmap\n",
    "plt.figure(figsize=(10, 8))\n",
    "sns.heatmap(correlation_matrix, annot=True, cmap=cmap, fmt='.2f')\n",
    "plt.title('Correlation Matrix of Predictors', fontsize=20, fontweight='bold')\n",
    "plt.xticks(rotation=90, ha='center', fontsize=8)\n",
    "plt.yticks(fontsize=8)\n",
    "plt.show()"
   ]
  },
  {
   "cell_type": "markdown",
   "id": "5407cb3c-e3a4-48b0-9465-4c8cb54f2b59",
   "metadata": {},
   "source": [
    "![](../images/corMat.jpeg){width=75%}"
   ]
  }
 ],
 "metadata": {
  "kernelspec": {
   "display_name": "Python 3 (ipykernel)",
   "language": "python",
   "name": "python3"
  },
  "language_info": {
   "codemirror_mode": {
    "name": "ipython",
    "version": 3
   },
   "file_extension": ".py",
   "mimetype": "text/x-python",
   "name": "python",
   "nbconvert_exporter": "python",
   "pygments_lexer": "ipython3",
   "version": "3.10.12"
  }
 },
 "nbformat": 4,
 "nbformat_minor": 5
}
