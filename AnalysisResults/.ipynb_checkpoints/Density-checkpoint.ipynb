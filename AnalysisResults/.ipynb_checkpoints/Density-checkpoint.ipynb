{
 "cells": [
  {
   "cell_type": "markdown",
   "id": "a5c75b43-a135-41ae-b2a7-38e46a23c988",
   "metadata": {},
   "source": [
    "---\n",
    "format: \n",
    "  html:\n",
    "    toc: true\n",
    "    page-layout: full\n",
    "execute:\n",
    "    warning: false\n",
    "    echo: true\n",
    "    eval: true\n",
    "---"
   ]
  },
  {
   "cell_type": "markdown",
   "id": "d63dd6f8-a4c1-4cbd-a549-95105e1406fe",
   "metadata": {},
   "source": [
    "## **Density Map of Assaults**\n",
    "\n",
    "***\n"
   ]
  },
  {
   "cell_type": "markdown",
   "id": "0fe38e32-1908-46e9-a208-268f39f404c0",
   "metadata": {},
   "source": [
    "Following the creation of the `Assault21` data frame, the density of assault incidents in Chicago is estimated using **Kernel Density Estimation** (KDE). First, the coordinates of the assault locations are extracted from the `Assault21` GeoDataFrame into a *NumPy* array, ensuring that any NaN values are removed. KDE is then applied to these coordinates with a Gaussian kernel and a bandwidth of 0.3 to smooth the density estimation. The boundaries of Chicago are retrieved using `chicagoBoundary.total_bounds`, and a grid of positions (x and y values) is created over the city's spatial extent. The KDE model is then evaluated over this grid to calculate the density of assault incidents at each point.\n",
    "\n",
    "The density map reveals four clear hot spots of assault incidents across Chicago, concentrated in the central, northeast, and southern areas of the city. These regions exhibit higher concentrations of assaults, indicated by the denser areas in red on the map. The central area, often associated with downtown and surrounding neighborhoods, shows a significant cluster of incidents, while the northeastern part and the southern tip of the city also feature notable concentrations. These hot spots highlight areas that may warrant further investigation or targeted interventions to address the higher frequency of assault cases in these locations.\n"
   ]
  },
  {
   "cell_type": "code",
   "execution_count": null,
   "id": "cd8cc6aa-f6e0-45d9-9958-543c1a8131d2",
   "metadata": {},
   "outputs": [],
   "source": [
    "#| code-fold: true\n",
    "\n",
    "import numpy as np\n",
    "import seaborn as sns\n",
    "import matplotlib.pyplot as plt\n",
    "\n",
    "colors4 = ['#27232e', '#777181', '#d0c7e1', '#e1e0be', '#c2e538'] \n",
    "cmap4 = LinearSegmentedColormap.from_list('custom_gradient', colors4, N=256)\n",
    "\n",
    "coords = np.vstack((Assault21.geometry.x, Assault21.geometry.y)).T\n",
    "\n",
    "plt.figure(figsize=(10, 10))\n",
    "chicagoBoundary.to_crs(4326).plot(ax=plt.gca(), color='black', edgecolor='black', linewidth=1)\n",
    "sns.kdeplot(x=coords[:, 0], y=coords[:, 1], fill=True, cmap=cmap4, bw_adjust=0.5)\n",
    "\n",
    "plt.title(\"Heatmap of Assault Incidents in Chicago 2021\")\n",
    "plt.xticks([])\n",
    "plt.yticks([])\n",
    "plt.gca().set_facecolor('white')\n",
    "plt.gca().spines['top'].set_visible(False)\n",
    "plt.gca().spines['right'].set_visible(False)\n",
    "plt.gca().spines['left'].set_visible(False)\n",
    "plt.gca().spines['bottom'].set_visible(False)\n",
    "plt.show()"
   ]
  },
  {
   "cell_type": "markdown",
   "id": "ad8b33de-b3fa-43eb-a276-d1bbaaf35d6f",
   "metadata": {},
   "source": [
    "![](../images/heatmap.jpeg){width=50%}"
   ]
  }
 ],
 "metadata": {
  "kernelspec": {
   "display_name": "Python 3 (ipykernel)",
   "language": "python",
   "name": "python3"
  },
  "language_info": {
   "codemirror_mode": {
    "name": "ipython",
    "version": 3
   },
   "file_extension": ".py",
   "mimetype": "text/x-python",
   "name": "python",
   "nbconvert_exporter": "python",
   "pygments_lexer": "ipython3",
   "version": "3.10.12"
  }
 },
 "nbformat": 4,
 "nbformat_minor": 5
}
