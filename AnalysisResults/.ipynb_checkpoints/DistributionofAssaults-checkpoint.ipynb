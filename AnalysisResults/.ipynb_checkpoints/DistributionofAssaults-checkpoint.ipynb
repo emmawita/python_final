{
 "cells": [
  {
   "cell_type": "markdown",
   "id": "b75b37e5-492b-42a7-9a01-fd00a9b553df",
   "metadata": {
    "tags": []
   },
   "source": [
    "---\n",
    "format: \n",
    "  html:\n",
    "    toc: true\n",
    "    page-layout: full\n",
    "execute:\n",
    "    warning: false\n",
    "    echo: true\n",
    "    eval: true\n",
    "---"
   ]
  },
  {
   "cell_type": "markdown",
   "id": "0aaec637-9ad6-4173-97d4-ea156861cf91",
   "metadata": {},
   "source": [
    "## **Distribution of Assaults**\n",
    "\n",
    "***"
   ]
  },
  {
   "cell_type": "markdown",
   "id": "9d2174a7-90b4-4450-9170-1ca7009bf34f",
   "metadata": {},
   "source": [
    "The **histogram** and **density** plot of assault counts below shows a pronounced right skew, indicating that the majority of areas exhibit low assault counts, while a few areas report significantly higher instances. This distribution suggests that while most neighborhoods experience relatively few assaults, certain locations are disproportionately affected."
   ]
  },
  {
   "cell_type": "code",
   "execution_count": null,
   "id": "70e5903e-7ab2-4371-b7c9-af1a35c4823a",
   "metadata": {},
   "outputs": [],
   "source": [
    "#| code-fold: true\n",
    "\n",
    "if Assault21_net['countAssault'].isna().any():\n",
    "    Assault21_net = Assault21_net.dropna()\n",
    "\n",
    "plt.figure(figsize=(10, 6))\n",
    "sns.histplot(Assault21_net['countAssault'], bins=30, color=\"#777181\", edgecolor=\"white\")\n",
    "plt.title(\"Distribution of Assaults\", fontsize=18, fontweight='bold')\n",
    "plt.suptitle(\"Chicago, IL -- 2021\", fontsize=12, y=0.87)\n",
    "plt.xlabel(\"Assault Incidents\", fontsize=10)\n",
    "plt.ylabel(\"Count\", fontsize=10)\n",
    "plt.xticks(rotation=0, ha='center', fontsize=8)\n",
    "plt.yticks(fontsize=8)\n",
    "plt.grid(axis='y', linestyle='-', alpha=0.1)\n",
    "plt.gca().set_facecolor('white')\n",
    "plt.gca().spines['top'].set_visible(False)\n",
    "plt.gca().spines['right'].set_visible(False)\n",
    "plt.gca().spines['left'].set_color('grey')\n",
    "plt.gca().spines['bottom'].set_color('grey')\n",
    "plt.show()"
   ]
  },
  {
   "cell_type": "markdown",
   "id": "d7716f3e-231e-4fc8-a0b6-acfc98f9f62b",
   "metadata": {},
   "source": [
    "\n",
    "![](../images/bar2.jpeg){width=75%}\n",
    "\n",
    "***"
   ]
  },
  {
   "cell_type": "code",
   "execution_count": null,
   "id": "5d420ade-2d17-44b0-8b20-3d9957844284",
   "metadata": {},
   "outputs": [],
   "source": [
    "#| code-fold: true\n",
    "\n",
    "plt.figure(figsize=(10, 6))\n",
    "sns.kdeplot(data=Assault21_net, x='countAssault', fill=True, color='#777181', alpha=0.5, linewidth = 0)\n",
    "plt.title(\"Density Plot of Assaults\")\n",
    "plt.suptitle(\"Chicago, IL -- 2021\", fontsize=12, y=0.87)\n",
    "plt.xlabel(\"Assault Incidents\")\n",
    "plt.ylabel(\"Density\")\n",
    "plt.xticks(rotation=0, ha='center', fontsize=8)\n",
    "plt.yticks(fontsize=8)\n",
    "plt.gca().set_facecolor('white')\n",
    "plt.gca().spines['top'].set_visible(False)\n",
    "plt.gca().spines['right'].set_visible(False)\n",
    "plt.gca().spines['left'].set_color('grey')\n",
    "plt.gca().spines['bottom'].set_color('grey')\n",
    "plt.show()"
   ]
  },
  {
   "cell_type": "markdown",
   "id": "3c5b73bc-0a46-4d5b-a7d6-7ead251d28f5",
   "metadata": {},
   "source": [
    "![](../images/density.jpeg){width=75%}\n",
    "\n",
    "***"
   ]
  },
  {
   "cell_type": "markdown",
   "id": "7c1ba060-8ea2-41f3-85ee-d091cd01cea6",
   "metadata": {},
   "source": [
    "To process and visualize the various risk factors on the fishnet grid, we implemented a systematic approach involving the retrieval, preparation, and integration of multiple datasets. The process began with fetching data from various endpoints using the client.get method. Each endpoint corresponded to a specific urban risk factor, such as **graffiti, non-functional street lights, liquor retail stores**, and **ShotSpotter incidents**. The retrieved data was stored as individual DataFrames, filtered to include only records from the year 2018, and further refined to focus on relevant categories, such as graffiti locations and street light outages.\n",
    "\n",
    "Next, we prepared the data for geospatial analysis. Each DataFrame was converted into a GeoDataFrame by transforming the latitude and longitude columns into geometric points to ensure proper geographic representation. Additionally, the coordinate reference system (CRS) of each GeoDataFrame was transformed to match that of the fishnet grid, ensuring spatial alignment for subsequent analysis.\n",
    "\n",
    "We added a new column called Legend to each GeoDataFrame, categorizing the data by risk factor.  For example, the Legend column included values such as \"Graffiti,\" \"StreetLightsOut,\" \"LiquorRetail,\" and \"ShotSpotter,\" clearly differentiating between the various datasets. All individual GeoDataFrames were then combined into a single dataset named variable_net using the pd.concat function, creating a unified dataset encompassing all points of interest for the identified risk factors.\n",
    "\n",
    "A spatial join (`sjoin`) was then performed to associate each point representing a specific risk factor with a corresponding fishnet grid cell. This step ensured that every data point was correctly placed within the spatial context of the grid cells, allowing us an examination of the risk factor distribution across the city. Finally, the concatenated DataFrame was converted into a GeoDataFrame with the appropriate CRS retained, allowing for spatial operations and visualization of the risk factors within the grid.\n"
   ]
  },
  {
   "cell_type": "code",
   "execution_count": null,
   "id": "979a521a-2954-490c-a350-7ee4a8beab74",
   "metadata": {},
   "outputs": [],
   "source": []
  },
  {
   "cell_type": "code",
   "execution_count": null,
   "id": "80af3ef6-06a5-4815-88b8-7890f883e7c6",
   "metadata": {},
   "outputs": [],
   "source": []
  },
  {
   "cell_type": "code",
   "execution_count": null,
   "id": "b0676029-803f-4cb8-9fdd-aa421c186e4e",
   "metadata": {},
   "outputs": [],
   "source": []
  }
 ],
 "metadata": {
  "kernelspec": {
   "display_name": "Python 3 (ipykernel)",
   "language": "python",
   "name": "python3"
  },
  "language_info": {
   "codemirror_mode": {
    "name": "ipython",
    "version": 3
   },
   "file_extension": ".py",
   "mimetype": "text/x-python",
   "name": "python",
   "nbconvert_exporter": "python",
   "pygments_lexer": "ipython3",
   "version": "3.10.12"
  }
 },
 "nbformat": 4,
 "nbformat_minor": 5
}
