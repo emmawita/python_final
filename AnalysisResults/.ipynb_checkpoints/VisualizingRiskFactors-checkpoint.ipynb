{
 "cells": [
  {
   "cell_type": "markdown",
   "id": "83a9a851-b010-4cd8-bd62-1b1126f2e98b",
   "metadata": {},
   "source": [
    "---\n",
    "format: \n",
    "  html:\n",
    "    toc: true\n",
    "    page-layout: full\n",
    "execute:\n",
    "    warning: false\n",
    "    echo: true\n",
    "    eval: true\n",
    "---"
   ]
  },
  {
   "cell_type": "code",
   "execution_count": null,
   "id": "4b4a0598-a81e-4093-b6f8-bbb36a5dfd96",
   "metadata": {},
   "outputs": [],
   "source": []
  },
  {
   "cell_type": "code",
   "execution_count": null,
   "id": "fe1b2b70-4662-4cba-a303-e026dacb6ac5",
   "metadata": {},
   "outputs": [],
   "source": []
  },
  {
   "cell_type": "markdown",
   "id": "6431c771-eaf6-443c-8e5b-d669aa3d7d86",
   "metadata": {},
   "source": [
    "## **Visualizing Risk Factors**\n",
    "\n",
    "***\n",
    "\n",
    "To gain a better understanding of the spatial distribution of various risk factors across Chicago, we visualized the locations of key variables, graffiti, non-functional street lights, liquor retail stores, and ShotSpotter technology—within the city's grid. These risk factors serve as proxies for urban challenges that might correlate with patterns of criminal activity or community issues."
   ]
  },
  {
   "cell_type": "markdown",
   "id": "742eb8ba-ea69-4703-b5c4-754b46ad4d4c",
   "metadata": {},
   "source": [
    "We used a fishnet grid, derived from the geometry of the city's boundaries, to aggregate the data and visualize the spatial distribution of these variables across distinct geographic areas. The maps below show how each risk factor is distributed within the city:\n",
    "\n",
    "- **Graffiti Removal Requests**: Requests for graffiti removal are primarily concentrated in the city center, reflecting urbanization and possibly higher rates of vandalism in more densely populated areas.\n",
    "\n",
    "- **Liquor Retail Stores**: Liquor retail stores are predominantly located in the northeastern part of the city, suggesting potential correlations with higher consumption rates in these areas.\n",
    "\n",
    "- **ShotSpotter Technology**: ShotSpotter sensors, used to detect gunfire, are mainly concentrated in the northwestern and southern parts of the city, highlighting areas where gun violence has been a concern.\n",
    "\n",
    "- **Non-functional Street Lights**: Complaints about street lights being out are widespread across Chicago, indicating that lighting infrastructure issues affect multiple neighborhoods, potentially contributing to safety concerns.\n"
   ]
  },
  {
   "cell_type": "code",
   "execution_count": null,
   "id": "d28c3d6e-8468-4ee2-8ff7-336738e0230f",
   "metadata": {},
   "outputs": [],
   "source": [
    "#| code-fold: true\n",
    "\n",
    "graffiti = client.get(\"hec5-y4x5\", limit=1000000)\n",
    "\n",
    "graffiti = pd.DataFrame.from_records(graffiti)\n",
    "\n",
    "\n",
    "\n",
    "graffiti['year'] = graffiti['creation_date'].str[:4]\n",
    "graffiti = graffiti[graffiti['year'] == \"2018\"]\n",
    "graffiti = graffiti[graffiti['where_is_the_graffiti_located_'].isin([\"Front\", \"Rear\", \"Side\"])]\n",
    "graffiti = graffiti[['latitude', 'longitude']].dropna()\n",
    "\n",
    "graffiti = gpd.GeoDataFrame(\n",
    "    graffiti, \n",
    "    geometry=gpd.points_from_xy(graffiti.longitude, graffiti.latitude),\n",
    "    crs=\"EPSG:4326\"\n",
    ")\n",
    "\n",
    "graffiti = graffiti.to_crs(fishnet.crs)\n",
    "graffiti['Legend'] = \"Graffiti\"\n",
    "\n",
    "\n",
    "\n",
    "streetLightsOut = client.get(\"zuxi-7xem\", limit=1000000)\n",
    "\n",
    "streetLightsOut = pd.DataFrame.from_records(streetLightsOut)\n",
    "\n",
    "\n",
    "\n",
    "streetLightsOut['year'] = streetLightsOut['creation_date'].str[:4]\n",
    "streetLightsOut = streetLightsOut[streetLightsOut['year'] == \"2018\"]\n",
    "streetLightsOut = streetLightsOut[['latitude', 'longitude']].dropna()\n",
    "streetLightsOut = gpd.GeoDataFrame(streetLightsOut, geometry=gpd.points_from_xy(streetLightsOut.longitude, streetLightsOut.latitude), crs=\"EPSG:4326\")\n",
    "streetLightsOut = streetLightsOut.to_crs(fishnet.crs)\n",
    "streetLightsOut['Legend'] = \"streetLightsOut\"\n",
    "\n",
    "\n",
    "\n",
    "liquorRetail = client.get(\"nrmj-3kcf\", limit=1000000)\n",
    "\n",
    "liquorRetail = pd.DataFrame.from_records(liquorRetail)\n",
    "\n",
    "\n",
    "\n",
    "liquorRetail = liquorRetail[liquorRetail['business_activity'] == \"Retail Sales of Packaged Liquor\"]\n",
    "liquorRetail = liquorRetail[['latitude', 'longitude']].dropna()\n",
    "liquorRetail = gpd.GeoDataFrame(liquorRetail, geometry=gpd.points_from_xy(liquorRetail.longitude, liquorRetail.latitude), crs=\"EPSG:4326\")\n",
    "liquorRetail = liquorRetail.to_crs(fishnet.crs)\n",
    "liquorRetail['Legend'] = \"liquorRetail\"\n",
    "\n",
    "\n",
    "\n",
    "shotSpotter = client.get(\"3h7q-7mdb\", limit=1000000)\n",
    "\n",
    "shotSpotter = pd.DataFrame.from_records(shotSpotter)\n",
    "\n",
    "\n",
    "\n",
    "shotSpotter = shotSpotter[['latitude', 'longitude']].dropna()\n",
    "shotSpotter = gpd.GeoDataFrame(shotSpotter, geometry=gpd.points_from_xy(shotSpotter.longitude, shotSpotter.latitude), crs=\"EPSG:4326\")\n",
    "shotSpotter = shotSpotter.to_crs(fishnet.crs)\n",
    "shotSpotter['Legend'] = \"shotSpotter\"\n",
    "\n",
    "\n",
    "\n",
    "variable_net = pd.concat([streetLightsOut, liquorRetail, graffiti, shotSpotter]) \\\n",
    "                .sjoin(fishnet, how=\"inner\", predicate='within') #\\\n",
    "\n",
    "\n",
    "variable_net = gpd.GeoDataFrame(variable_net, geometry='geometry', crs=\"EPSG:4326\")\n",
    "\n",
    "#variable_net"
   ]
  },
  {
   "cell_type": "markdown",
   "id": "f9a85a85-dbe7-4a8f-ab86-77b6b559b15e",
   "metadata": {},
   "source": [
    "### **Risk Factor Distribution Maps**\n",
    "\n",
    "To visualize the spatial patterns of these risk factors, we generated a series of maps displaying the distribution of each variable. Each risk factor was plotted separately, allowing us to examine the geographic concentration of the different factors across the city. Below is the process used to create these maps:\n",
    "\n",
    "1.\t**Data Processing**: Each dataset was cleaned and filtered to ensure it represented data from 2018. The datasets were then converted to the same coordinate reference system (CRS) as the fishnet grid to allow for spatial joins.\n",
    "\n",
    "2.\t**Subsetting Data by Risk Factor**: We extracted the individual risk factors (graffiti, street lights, liquor retail stores, and ShotSpotter) and created subsets based on their \"Legend\" column. Each subset corresponds to a specific risk factor.\n",
    "\n",
    "3.\t**Maps**: For each subset, a separate subplot was generated, displaying the locations of the risk factor points. The following visualization details the distribution of each risk factor:\n",
    "\t- Each point represents a location within the city that corresponds to one of the risk factors.\n",
    "\t- The points are displayed with a uniform color (green) and size for consistency across the maps.\n",
    "\t- The aspect ratio for each map was set to \"equal\" to ensure proportionality across the different risk factor maps.\n",
    "\n",
    "\\\n"
   ]
  },
  {
   "cell_type": "code",
   "execution_count": null,
   "id": "9634dbe9-db68-4b51-97ef-35feded116e8",
   "metadata": {},
   "outputs": [],
   "source": [
    "#| code-fold: true\n",
    "\n",
    "import matplotlib.pyplot as plt\n",
    "from matplotlib.gridspec import GridSpec\n",
    "\n",
    "legend_values = variable_net['Legend'].unique()\n",
    "\n",
    "# Create a GridSpec with a tighter layout\n",
    "fig = plt.figure(figsize=(20, 5))\n",
    "gs = GridSpec(1, len(legend_values), figure=fig, wspace=0.1)\n",
    "\n",
    "for i, legend_value in enumerate(legend_values):\n",
    "    ax = fig.add_subplot(gs[i])\n",
    "    subset = variable_net[variable_net['Legend'] == legend_value]\n",
    "    chicagoBoundary.plot(ax=ax, color='black', edgecolor='black')  # Plot the boundary first\n",
    "    subset.plot(ax=ax, marker='o', color='#c2e538', markersize=10, alpha=0.5, aspect=1)\n",
    "    ax.set_title(legend_value)  # Removed \"Legend: \" prefix\n",
    "    ax.set_aspect('equal')  # Set aspect to 'equal' manually\n",
    "    ax.set_xticklabels(ax.get_xticks(), fontsize=8)  # Make x-axis labels smaller\n",
    "    ax.set_yticklabels(ax.get_yticks(), fontsize=8)  # Make y-axis labels smaller\n",
    "    ax.axis('on')  # Keep axis visible for better debugging\n",
    "\n",
    "plt.tight_layout()\n",
    "plt.show()"
   ]
  },
  {
   "cell_type": "markdown",
   "id": "dac882ce-f538-4698-b655-5fe260561a02",
   "metadata": {},
   "source": [
    "![](../images/4.jpeg)"
   ]
  },
  {
   "cell_type": "markdown",
   "id": "88905880-8856-4a8a-9189-7aa546bc4db0",
   "metadata": {},
   "source": [
    "Requests for graffiti removal are primarily concentrated in the city center, while liquor retail stores are predominantly found in the northeastern part of the city. In contrast, ShotSpotter technology is mainly located in the northwestern and southern areas of Chicago. Notably, complaints about non-functioning street lights are spread throughout the entire city, highlighting a widespread issue that affects various neighborhoods."
   ]
  },
  {
   "cell_type": "code",
   "execution_count": null,
   "id": "f6c1c702-69c5-43bd-b3fd-806b0f4096e7",
   "metadata": {},
   "outputs": [],
   "source": []
  }
 ],
 "metadata": {
  "kernelspec": {
   "display_name": "Python 3 (ipykernel)",
   "language": "python",
   "name": "python3"
  },
  "language_info": {
   "codemirror_mode": {
    "name": "ipython",
    "version": 3
   },
   "file_extension": ".py",
   "mimetype": "text/x-python",
   "name": "python",
   "nbconvert_exporter": "python",
   "pygments_lexer": "ipython3",
   "version": "3.10.12"
  }
 },
 "nbformat": 4,
 "nbformat_minor": 5
}
