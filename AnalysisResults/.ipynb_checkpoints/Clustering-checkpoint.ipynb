{
 "cells": [
  {
   "cell_type": "markdown",
   "id": "2d624fcb-b8f7-42e4-9826-20ebd5940297",
   "metadata": {},
   "source": [
    "---\n",
    "format: \n",
    "  html:\n",
    "    toc: true\n",
    "    page-layout: full\n",
    "execute:\n",
    "    warning: false\n",
    "    echo: true\n",
    "    eval: true\n",
    "---"
   ]
  },
  {
   "cell_type": "markdown",
   "id": "4aaf8cb5-e224-449a-83ad-172c705c9049",
   "metadata": {},
   "source": [
    "## **Clustering Risk Factors: Choosing 3 Clusters**\n",
    "\n",
    "***\n"
   ]
  },
  {
   "cell_type": "markdown",
   "id": "f4537334-2d64-426a-8c9d-dcf52b9cac25",
   "metadata": {},
   "source": [
    "While the **Elbow Method** suggested that **2 clusters** might be the optimal choice based on the inertia plot, we opted to use **3 clusters** for the following key reasons:"
   ]
  },
  {
   "cell_type": "markdown",
   "id": "ce03974f-ce60-4f68-b380-532729f711db",
   "metadata": {},
   "source": [
    "1.\t**Avoiding Underclassification**: By selecting 3 clusters, we aim to avoid oversimplifying the data. Limiting the clustering to just two groups might overlook important distinctions within neighborhoods, especially when capturing the full complexity of urban dynamics. Using three clusters allows us to better reflect the diversity present in the dataset, especially in terms of risk factors.\n",
    "\n",
    "2.\t**Nuanced Insights**: Clustering with 3 groups offers a more detailed exploration of the data. Urban environments like Chicago are marked by diverse socioeconomic, demographic, and spatial characteristics. By incorporating more clusters, we can capture this variability more effectively, providing a more nuanced understanding of crime, socioeconomic conditions, and other risk factors that affect different areas of the city.\n",
    "\n",
    "3.\t**Flexibility in Analysis**: Opting for 3 clusters provides more flexibility in subsequent analyses and interpretations. With more clusters, we can identify specific trends or patterns that may be particularly relevant for targeted policy-making or community development. It allows for a more detailed examination of local conditions, which could be overlooked with fewer clusters.\n",
    "\n",
    "4.\t**Consensus Among Indices**: Although the Elbow Method and other indices indicated that 2 clusters were the most optimal in terms of inertia reduction, there was still notable support (6 indices) for 3 clusters. This consensus from different indices suggests that three clusters could still be a valid and effective choice for segmenting the risk factors.\n",
    "\n",
    "5.\t**Contextual Relevance**: Our decision to select 3 clusters was informed by the context of Chicago’s neighborhoods. There are well-documented differences in socioeconomic factors, crime rates, and housing characteristics across different parts of the city. Given this, choosing 3 clusters aligns with our understanding of the urban landscape, where more than two categories might be necessary to capture the full range of neighborhood variations.\n",
    "\n",
    "6.\t**Exploratory Nature of Clustering**: Clustering is inherently exploratory, and it’s common practice to test multiple cluster numbers to see how the results differ. By choosing 3 clusters, we open the door to explore various groupings, uncovering new patterns or insights that could be important for understanding the spatial distribution of risk factors.\n"
   ]
  },
  {
   "cell_type": "code",
   "execution_count": null,
   "id": "6c4c4c6c-d915-47a1-8596-7542cec9bc56",
   "metadata": {},
   "outputs": [],
   "source": [
    "#| code-fold: true\n",
    "\n",
    "import geopandas as gpd\n",
    "from sklearn.cluster import KMeans\n",
    "import matplotlib.pyplot as plt\n",
    "from geopy.distance import geodesic\n",
    "import numpy as np\n",
    "\n",
    "#variable_net = variable_net.to_crs(epsg=26971) \n",
    "#Assault21 = Assault21.to_crs(epsg=26971)\n",
    "\n",
    "variable_net['x'] = variable_net.geometry.x\n",
    "variable_net['y'] = variable_net.geometry.y\n",
    "features = variable_net[['x', 'y']]\n",
    "\n",
    "#features\n",
    "\n",
    "\n",
    "\n",
    "inertia = []\n",
    "for k in range(1, 11):\n",
    "    kmeans = KMeans(n_clusters=k, random_state=42)\n",
    "    kmeans.fit(features)\n",
    "    inertia.append(kmeans.inertia_)\n",
    "    \n",
    "    \n",
    "    \n",
    "#inertia\n",
    "\n",
    "\n",
    "\n",
    "# Plot Elbow Method\n",
    "plt.figure(figsize=(10, 6))\n",
    "plt.plot(range(1, 11), inertia, marker='o', color='#777181', linewidth = 2.5)\n",
    "plt.grid(axis='y', linestyle='-', alpha=0.1)\n",
    "plt.xlabel('Number of Clusters')\n",
    "plt.ylabel('Inertia')\n",
    "plt.title('Elbow Method')\n",
    "plt.xticks(rotation=0, ha='center', fontsize=8)\n",
    "plt.yticks(fontsize=8)\n",
    "plt.gca().set_facecolor('white')\n",
    "plt.gca().spines['top'].set_visible(False)\n",
    "plt.gca().spines['right'].set_visible(False)\n",
    "plt.gca().spines['left'].set_color('grey')\n",
    "plt.gca().spines['bottom'].set_color('grey')\n",
    "plt.show()"
   ]
  },
  {
   "cell_type": "markdown",
   "id": "396c01f2-8cc0-4ed2-bed7-b16089f41844",
   "metadata": {},
   "source": [
    "![](../images/elbow.jpeg){width=75%}"
   ]
  },
  {
   "cell_type": "code",
   "execution_count": null,
   "id": "739435fe-2659-4f4a-a531-6bf4d64e9241",
   "metadata": {},
   "outputs": [],
   "source": []
  }
 ],
 "metadata": {
  "kernelspec": {
   "display_name": "Python 3 (ipykernel)",
   "language": "python",
   "name": "python3"
  },
  "language_info": {
   "codemirror_mode": {
    "name": "ipython",
    "version": 3
   },
   "file_extension": ".py",
   "mimetype": "text/x-python",
   "name": "python",
   "nbconvert_exporter": "python",
   "pygments_lexer": "ipython3",
   "version": "3.10.12"
  }
 },
 "nbformat": 4,
 "nbformat_minor": 5
}
