{
 "cells": [
  {
   "cell_type": "markdown",
   "id": "d07a34be-2257-495a-9cfe-f3b590134880",
   "metadata": {},
   "source": [
    "---\n",
    "format: \n",
    "  html:\n",
    "    toc: true\n",
    "    page-layout: full\n",
    "execute:\n",
    "    warning: false\n",
    "    echo: true\n",
    "    eval: true\n",
    "---"
   ]
  },
  {
   "cell_type": "markdown",
   "id": "d46c13ab-f909-4cd9-8cd2-f4e9a8663aba",
   "metadata": {
    "tags": []
   },
   "source": [
    "## Predicted Assault Cases\n",
    "\n",
    "*** "
   ]
  },
  {
   "cell_type": "markdown",
   "id": "03b94c3c-d2b4-455d-85f8-a710ef9fbbde",
   "metadata": {},
   "source": [
    "To extend our analysis, we used the fitted Poisson regression model to **predict assault counts** across the fishnet grid. This was achieved by applying the predict method from the model to the feature variables. The predicted assault counts were then added as a new column, `predicted_assault_count`, in the dataset, enabling spatial visualization of the results.\n",
    "\n",
    "A choropleth map was created to display the predicted assault counts across the fishnet. The map used a custom color gradient to indicate variations in predicted values, with darker shades representing lower predicted counts.\n",
    "\n",
    "The choropleth map of predicted assault counts reveals notable spatial patterns across Chicago. Specifically, there are at least two distinct hotspots in the southern part of the city where predicted assault counts are significantly higher. Additionally, two potential hotspots are observed in the central area of Chicago, although these appear to be less pronounced compared to those in the south.\n",
    "These hotspots highlight areas with elevated risk levels, suggesting a need for targeted interventions. By identifying these zones, city planners and public safety officials can prioritize resources and develop localized strategies to address the underlying factors contributing to higher assault counts in these regions. This spatial insight underscores the utility of the Poisson regression model in supporting evidence-based decision-making for urban safety and planning initiatives.\n"
   ]
  },
  {
   "cell_type": "code",
   "execution_count": null,
   "id": "7aa66af2-0d86-465b-8849-cb58e677037f",
   "metadata": {},
   "outputs": [],
   "source": [
    "#| code-fold: true\n",
    "\n",
    "combined_net['predicted_assault_count'] = poisson_results.predict(features)\n",
    "\n",
    "fig, ax = plt.subplots(1, 1, figsize=(8, 8))\n",
    "combined_net.plot(column='predicted_assault_count', cmap=cmap, legend=False, ax=ax)\n",
    "plt.title(\"Predicted Assault Counts (Fishnet)\", fontsize=20, fontweight='bold')\n",
    "plt.axis('off')\n",
    "\n",
    "cax = fig.add_axes([0.15, 0.1, 0.7, 0.01]) # Adjust position and size \n",
    "cb = plt.colorbar(plot.get_children()[0], cax=cax, orientation='horizontal') \n",
    "cb.set_label(\"Predicted Assault Counts\")\n",
    "cb.ax.tick_params(labelsize=8)\n",
    "\n",
    "plt.show()"
   ]
  },
  {
   "cell_type": "markdown",
   "id": "d65d60e6-96f7-4bf0-8ed6-93dc00f8341a",
   "metadata": {},
   "source": [
    "![](../images/predicted.jpeg){width=55%}"
   ]
  },
  {
   "cell_type": "code",
   "execution_count": null,
   "id": "2bbcab34-0c3c-4b94-b800-f33603c64412",
   "metadata": {},
   "outputs": [],
   "source": []
  }
 ],
 "metadata": {
  "kernelspec": {
   "display_name": "Python 3 (ipykernel)",
   "language": "python",
   "name": "python3"
  },
  "language_info": {
   "codemirror_mode": {
    "name": "ipython",
    "version": 3
   },
   "file_extension": ".py",
   "mimetype": "text/x-python",
   "name": "python",
   "nbconvert_exporter": "python",
   "pygments_lexer": "ipython3",
   "version": "3.10.12"
  }
 },
 "nbformat": 4,
 "nbformat_minor": 5
}
