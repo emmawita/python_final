{
 "cells": [
  {
   "cell_type": "markdown",
   "id": "889527a2-6129-4c93-aea8-fa325a6b483c",
   "metadata": {
    "tags": []
   },
   "source": [
    "---\n",
    "format: \n",
    "  html:\n",
    "    toc: true\n",
    "    page-layout: full\n",
    "execute:\n",
    "    warning: false\n",
    "    echo: true\n",
    "    eval: true\n",
    "---"
   ]
  },
  {
   "cell_type": "markdown",
   "id": "3c697a0e-c6c1-4f9f-8f50-2e65fdfb6ff6",
   "metadata": {},
   "source": [
    "## **Poisson Regression Model**\n",
    "\n",
    "***\n"
   ]
  },
  {
   "cell_type": "markdown",
   "id": "260f0b41-c401-4c63-9c32-a679a9eeed17",
   "metadata": {},
   "source": [
    "To analyze the relationship between urban risk factors and the count of assaults, we implemented a **Poisson regression model**. Below is the step-by-step process undertaken to prepare the data and fit the model:\n",
    "\n",
    "1.\t**Spatial Join and Data Aggregation**:\n",
    "Using the fishnet grid as the spatial framework, we performed a spatial join between the fishnet and the risk factor dataset (`variable_net`). Each data point representing a specific risk factor (e.g., graffiti, street light outages, liquor retail stores, and ShotSpotter incidents) was associated with the corresponding grid cell it intersected. This allowed for the aggregation of variables by fishnet polygons, where predictors were either summed or averaged as appropriate.\n",
    "\n",
    "2.\t**Renaming and Cleaning**:\n",
    "After aggregation, the resulting columns were renamed for clarity (e.g., `Graffiti_count`, `StreetLightsOut_count`, etc.). The index column `uniqueID_left` was renamed to `uniqueID` to ensure consistency. Missing values in the dataset were replaced with zeros to handle cells without data.\n",
    "\n",
    "3.\t**Merging Datasets**:\n",
    "The aggregated risk factors dataset was merged with the assault dataset (`Assault21_net`) based on shared geometry. This combined dataset enabled a comprehensive view of all relevant predictors alongside the target variable (`countAssault`).\n",
    "\n",
    "4.\t**Feature Selection**:\n",
    "To prepare the dataset for modeling, the geometry column and the target variable (`countAssault`) were excluded from the features. Only numeric columns were retained for the analysis, ensuring compatibility with the regression model.\n",
    "\n",
    "5.\t**Target Variable Cleaning**:\n",
    "The target variable (`countAssault`) was converted to a numeric type, with missing values replaced by zeros. This ensured the data was clean and suitable for the Poisson regression analysis.\n",
    "\n",
    "6.\t**Model Fitting**:\n",
    "A **Generalized Linear Model** (GLM) with a Poisson family was employed to predict the count of assaults (`countAssault`) using the selected risk factors. The statsmodels library was utilized to fit the model, and the results were summarized to evaluate the significance and impact of the predictors.\n",
    "\n",
    "***\n"
   ]
  },
  {
   "cell_type": "markdown",
   "id": "0364a835-444e-4e68-a641-8600a8167b08",
   "metadata": {},
   "source": [
    "### Poisson Model Summary\n",
    "\n",
    "The Poisson regression model analyzes the impact of various predictors on the count of assaults (countAssault) across the spatial grid. Here is the detailed interpretation of the results:\n",
    "\n",
    "1.\t**Model Fit and Diagnostics**:\n",
    "\t- Number of Observations: The model was fitted using **1,098 grid cells**.\n",
    "\t- Log-Likelihood: The value of **-9330.8** suggests the model's goodness-of-fit. Lower values generally indicate a better fit, but comparisons with other models are necessary for deeper insights.\n",
    "\t- Deviance and Pearson Chi-Square: The deviance **(14,511)** and Pearson chi-square **(19,500)** indicate the extent of variance explained by the model.\n",
    "\t- Pseudo R-Squared (Cox & Snell): The value of **0.9994** shows that the model explains a substantial proportion of the variability in the data.\n",
    "\n",
    "2.\t**Predictor Significance**:\n",
    "All predictors in the model have statistically significant coefficients (**p < 0.001**), suggesting they are strongly associated with the count of assaults.\n",
    "\n",
    "3.\t**Coefficients**:\n",
    "Each coefficient represents the log of the expected count of assaults per unit increase in the predictor, holding other variables constant. A positive coefficient indicates that the predictor increases the assault count, while a negative coefficient would indicate the opposite.\n",
    "- *UniqueID_x and UniqueID_y*: These identifiers have very small coefficients (**0.0007**), indicating minimal effect on the model. \n",
    "- *cvID* (Cross-Validation ID): The coefficient (**0.0154**) suggests a modest positive relationship with assaults, likely reflecting localized variations captured during cross-validation.\n",
    "- *Local Moran’s I*: The coefficient (**0.0609**) indicates that areas with higher spatial clustering of similar values have a slight increase in assault counts.\n",
    "- *Cluster*: The positive coefficient (**0.1116**) shows that being part of a spatial cluster is associated with a higher assault count.\n",
    "\n",
    "4.\t**Risk Factors**:\n",
    "\t- Graffiti Count: The coefficient (**0.0010**) suggests a minimal but positive association between graffiti incidents and assaults.\n",
    "\t- Street Lights Out Count: The coefficient (**0.1229**) shows that non-functional streetlights are strongly associated with higher assault counts.\n",
    "\t- Liquor Retail Count: The coefficient (**0.0015**) indicates a small but significant association between the presence of liquor retail stores and assaults.\n",
    "\t- ShotSpotter Count: With a coefficient of **0.0333**, incidents detected by ShotSpotter are moderately associated with assault counts.\n",
    "\n",
    "5.\t**Implications**:\n",
    "\t- The strong positive relationships between `StreetLightsOut_count`, `ShotSpotter_count`, and assault counts suggest that urban infrastructure and real-time crime detection play critical roles in understanding assault distributions.\n",
    "\t- The association with `LiquorRetail_count` highlights potential links between alcohol availability and assaults, consistent with existing criminological studies.\n",
    "\t- Graffiti, while a minor contributor, might indicate broader socio-environmental conditions affecting assaults.\n",
    "\n",
    "\\\n"
   ]
  },
  {
   "cell_type": "code",
   "execution_count": null,
   "id": "92dc2432-a78f-4f83-b7f9-cc37e257645d",
   "metadata": {},
   "outputs": [],
   "source": [
    "#| code-fold: true\n",
    "\n",
    "import statsmodels.api as sm\n",
    "\n",
    "fishnet = fishnet.to_crs(epsg=3435)\n",
    "\n",
    "\n",
    "variable_net_index = variable_net.drop(columns=['index_right'])\n",
    "variable_net_poly = gpd.sjoin(fishnet, variable_net_index, how='left', predicate='intersects')\n",
    "\n",
    "legend_counts = variable_net_poly.groupby(['uniqueID_left', 'Legend']).size().unstack(fill_value=0)\n",
    "\n",
    "\n",
    "legend_counts.columns = ['Graffiti_count', 'StreetLightsOut_count', 'LiquorRetail_count', 'ShotSpotter_count']\n",
    "\n",
    "\n",
    "legend_counts = legend_counts.reset_index()\n",
    "\n",
    "\n",
    "legend_counts.rename(columns={'uniqueID_left': 'uniqueID'}, inplace=True)\n",
    "\n",
    "\n",
    "variable_net_agg = fishnet.merge(legend_counts, on='uniqueID', how='left')\n",
    "\n",
    "\n",
    "variable_net_agg = variable_net_agg.fillna(0)\n",
    "\n",
    "combined_net = Assault21_net.merge(variable_net_agg, on='geometry', how='left')\n",
    "\n",
    "combined_net = combined_net.fillna(0)\n",
    "\n",
    "features = combined_net.drop(columns=['geometry', 'countAssault'])  \n",
    "features = features.select_dtypes(include=[np.number]) \n",
    "\n",
    "\n",
    "combined_net['countAssault'] = pd.to_numeric(combined_net['countAssault'], errors='coerce')\n",
    "combined_net['countAssault'] = combined_net['countAssault'].fillna(0)\n",
    "\n",
    "\n",
    "import statsmodels.api as sm\n",
    "poisson_model = sm.GLM(combined_net['countAssault'], features, family=sm.families.Poisson())\n",
    "poisson_results = poisson_model.fit()\n",
    "\n",
    "\n",
    "print(poisson_results.summary())"
   ]
  },
  {
   "cell_type": "markdown",
   "id": "52949392-3724-4daa-8142-189b76622f53",
   "metadata": {},
   "source": [
    "![](../images/model.jpeg){width=65%}"
   ]
  },
  {
   "cell_type": "markdown",
   "id": "a5abb472-060c-4f2a-aa0c-16def1b05383",
   "metadata": {},
   "source": [
    "We then visualized the regression coefficients and their **95% confidence intervals** to better understand the relationships between the predictors and assault counts. The coefficients represent the magnitude and direction of the association for each variable, while the confidence intervals provide a range within which the true coefficient value is likely to fall 95% of the time, indicating the precision of these estimates.\n",
    "\n",
    "A bar plot was used to visually compare the coefficients, with error bars illustrating the confidence intervals. Variables with error bars that do not overlap zero are considered statistically significant, as they show a meaningful relationship with the response variable. \n",
    "\n",
    "This visualization provides a quick and intuitive understanding of the predictors’ effects on assault counts. Variables with bars entirely above the zero line (y = 0), such as `StreetLightsOut_count` and `ShotSpotter_count`, exhibit a strong positive association, while those with bars overlapping zero suggest a negligible or insignificant effect. \n"
   ]
  },
  {
   "cell_type": "code",
   "execution_count": null,
   "id": "3a6167b6-4b29-45b3-8d60-34ef9c66c48a",
   "metadata": {},
   "outputs": [],
   "source": [
    "#| code-fold: true\n",
    "\n",
    "coefficients = poisson_results.params\n",
    "conf_intervals = poisson_results.conf_int()\n",
    "conf_intervals.columns = ['Lower 95%', 'Upper 95%']\n",
    "\n",
    "coef_df = pd.DataFrame({\n",
    "    'Coefficient': coefficients,\n",
    "    'Lower CI': conf_intervals['Lower 95%'],\n",
    "    'Upper CI': conf_intervals['Upper 95%']\n",
    "})\n",
    "\n",
    "plt.figure(figsize=(10, 6))\n",
    "coef_df['Coefficient'].plot(kind='bar', yerr=(coef_df['Coefficient'] - coef_df['Lower CI'], \n",
    "                                              coef_df['Upper CI'] - coef_df['Coefficient']),\n",
    "                            capsize=5, color='#d0c7e1', edgecolor='#777181')\n",
    "plt.grid(axis='y', linestyle='-', alpha=0.1)\n",
    "plt.title('Regression Coefficients with Confidence Intervals')\n",
    "plt.ylabel('Coefficient Value')\n",
    "plt.xlabel('Variables')\n",
    "plt.xticks(rotation=0, ha='center', fontsize=8)\n",
    "plt.yticks(fontsize=8)\n",
    "plt.gca().set_facecolor('white')\n",
    "plt.gca().spines['top'].set_visible(False)\n",
    "plt.gca().spines['right'].set_visible(False)\n",
    "plt.gca().spines['left'].set_color('grey')\n",
    "plt.gca().spines['bottom'].set_color('grey')\n",
    "plt.tight_layout()\n",
    "plt.show()"
   ]
  },
  {
   "cell_type": "markdown",
   "id": "f860df3d-8035-4624-922d-4f8deb92dce5",
   "metadata": {},
   "source": [
    "![](../images/bar1.jpeg){width=75%}"
   ]
  }
 ],
 "metadata": {
  "kernelspec": {
   "display_name": "Python 3 (ipykernel)",
   "language": "python",
   "name": "python3"
  },
  "language_info": {
   "codemirror_mode": {
    "name": "ipython",
    "version": 3
   },
   "file_extension": ".py",
   "mimetype": "text/x-python",
   "name": "python",
   "nbconvert_exporter": "python",
   "pygments_lexer": "ipython3",
   "version": "3.10.12"
  }
 },
 "nbformat": 4,
 "nbformat_minor": 5
}
