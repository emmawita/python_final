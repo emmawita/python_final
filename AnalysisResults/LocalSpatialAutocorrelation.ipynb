{
 "cells": [
  {
   "cell_type": "markdown",
   "id": "f9f8807d-a89e-440c-ad7e-513da08393d7",
   "metadata": {},
   "source": [
    "---\n",
    "format: \n",
    "  html:\n",
    "    toc: true\n",
    "    page-layout: full\n",
    "execute:\n",
    "    warning: false\n",
    "    echo: true\n",
    "    eval: true\n",
    "---"
   ]
  },
  {
   "cell_type": "code",
   "execution_count": null,
   "id": "e2e48298-df90-4c5a-a470-ce4701752166",
   "metadata": {},
   "outputs": [],
   "source": []
  },
  {
   "cell_type": "markdown",
   "id": "6ebe41dd-6488-4fce-8304-f656b9b7362c",
   "metadata": {},
   "source": [
    "## **Local Spatial Autocorrelation**\n",
    "\n",
    "***\n"
   ]
  },
  {
   "cell_type": "markdown",
   "id": "4835f7f1-38c2-4caf-bf8d-598f663fde5c",
   "metadata": {},
   "source": [
    "To gain a deeper understanding of the spatial patterns associated with assault incidents in Chicago, we focused on pinpointing assault hotspots. While the global **Moran’s I** statistic assesses overall spatial autocorrelation across the entire area, **Local Moran’s I**  allows us to evaluate the clustering of assault incidents at specific locations, determining whether assault counts are randomly distributed relative to their neighboring areas.\n",
    "\n",
    "For this analysis, we created a spatial weights matrix based on queen contiguity, which connects each grid cell to its eight immediate neighbors. This matrix was essential for identifying spatial dependencies in the assault data."
   ]
  },
  {
   "cell_type": "markdown",
   "id": "8494f36a-9643-46c1-8fcd-f664872cf0b4",
   "metadata": {},
   "source": [
    "1.\t**Spatial Weights Matrix**:\n",
    "We used the Queen.from_dataframe method to construct a spatial weights matrix for the assault data, which connects each grid cell to its eight neighboring cells based on their contiguity.\n",
    "\n",
    "2.\t**Local Moran’s I Calculation**:\n",
    "\t- The Moran_Local function was applied to calculate the Local Moran’s I values for each grid cell in relation to its neighbors. This test evaluates whether the assault counts in each grid cell are spatially correlated with those in adjacent cells.\n",
    "\n",
    "3.\t**Cluster Analysis**:\n",
    "\t- The output of the Local Moran’s I test included a Cluster Label for each grid cell, indicating whether it exhibited High-High (HH), Low-High (LH), Low-Low (LL), or High-Low (HL) spatial patterns based on the values of Local Moran's I and their statistical significance.\n",
    "\t- Cluster Labels were assigned as follows:\n",
    "\t\t- HH (High-High): High assault counts surrounded by other high assault counts.\n",
    "\t\t- LH (Low-High): Low assault counts surrounded by high assault counts.\n",
    "\t\t- LL (Low-Low): Low assault counts surrounded by other low assault counts.\n",
    "\t\t- HL (High-Low): High assault counts surrounded by low assault counts.\n",
    "\n",
    "4.\t**Visualization**:\n",
    "\t- The results of the Local Moran’s I analysis were visualized by plotting the clusters on the map, with distinct colors assigned to each cluster type. This allowed us to clearly highlight areas with significant spatial autocorrelation, which are potential assault hotspots.\n",
    "\n",
    "\\\n"
   ]
  },
  {
   "cell_type": "code",
   "execution_count": null,
   "id": "c03ec44c-da1b-4e56-837b-e5a3934e42c5",
   "metadata": {},
   "outputs": [],
   "source": [
    "#| code-fold: true\n",
    "\n",
    "!pip install esda\n",
    "\n",
    "from libpysal.weights import Queen\n",
    "from esda.moran import Moran_Local\n",
    "\n",
    "w = Queen.from_dataframe(Assault21_net, use_index = False)\n",
    "y = Assault21_net['countAssault']\n",
    "moran_loc = Moran_Local(y, w)\n",
    "\n",
    "Assault21_net['LocalMoran'] = moran_loc.Is\n",
    "Assault21_net['Cluster'] = moran_loc.q\n",
    "cluster_labels = {\n",
    "    1: \"HH (High-High)\",\n",
    "    2: \"LH (Low-High)\",\n",
    "    3: \"LL (Low-Low)\",\n",
    "    4: \"HL (High-Low)\"\n",
    "}\n",
    "Assault21_net['ClusterLabel'] = Assault21_net['Cluster'].map(cluster_labels)\n",
    "\n",
    "cluster_colors2 = ['#c2e538', '#d0c7e1', '#777181', '#27232e']  # Example colors\n",
    "cmap2 = ListedColormap(cluster_colors2)\n",
    "\n",
    "# Plot\n",
    "fig, ax = plt.subplots(1, 1, figsize=(8, 8))\n",
    "Assault21_net.plot(column='ClusterLabel', categorical=True, legend=True, cmap=cmap2, ax=ax, legend_kwds={'fontsize': 8})\n",
    "plt.title(\"Local Moran's I Clusters\", fontsize=15)\n",
    "plt.gca().spines['top'].set_visible(False)\n",
    "plt.gca().spines['right'].set_visible(False)\n",
    "plt.gca().spines['left'].set_visible(False)\n",
    "plt.gca().spines['bottom'].set_visible(False)\n",
    "plt.xticks([])\n",
    "plt.yticks([])\n",
    "plt.show()"
   ]
  },
  {
   "cell_type": "markdown",
   "id": "e861c24b-bdea-40f5-83fc-14036e0f1c0f",
   "metadata": {},
   "source": [
    "The analysis revealed significant hotspots—defined as grid cells where the local assault counts exceeded the expected values with a **p-value ≤ 0.05**. These hotspots, particularly concentrated in central to southern Chicago, indicate areas with a strong spatial correlation of assault incidents among neighboring grid cells. These findings align with patterns observed in the kernel density map, further confirming the areas where interventions may be most needed."
   ]
  },
  {
   "cell_type": "markdown",
   "id": "9227d2a9-e624-467d-b33b-371ca2c92448",
   "metadata": {},
   "source": [
    "![](../images/clusters.jpeg){width=40%}\n"
   ]
  },
  {
   "cell_type": "code",
   "execution_count": null,
   "id": "9a73988d-9301-4ea0-9ee2-8c03403cfaa7",
   "metadata": {},
   "outputs": [],
   "source": []
  },
  {
   "cell_type": "code",
   "execution_count": null,
   "id": "61fc2276-4d38-4438-8945-0347a2ac0bbc",
   "metadata": {},
   "outputs": [],
   "source": []
  },
  {
   "cell_type": "code",
   "execution_count": null,
   "id": "563959ff-c5ed-4a4e-ba09-f835782c973e",
   "metadata": {},
   "outputs": [],
   "source": []
  }
 ],
 "metadata": {
  "kernelspec": {
   "display_name": "Python 3 (ipykernel)",
   "language": "python",
   "name": "python3"
  },
  "language_info": {
   "codemirror_mode": {
    "name": "ipython",
    "version": 3
   },
   "file_extension": ".py",
   "mimetype": "text/x-python",
   "name": "python",
   "nbconvert_exporter": "python",
   "pygments_lexer": "ipython3",
   "version": "3.10.12"
  }
 },
 "nbformat": 4,
 "nbformat_minor": 5
}
