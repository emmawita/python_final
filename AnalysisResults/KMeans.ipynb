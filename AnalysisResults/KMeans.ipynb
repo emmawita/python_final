{
 "cells": [
  {
   "cell_type": "markdown",
   "id": "33f1986c-c9dc-4d21-b454-eff5dcbbadb4",
   "metadata": {},
   "source": [
    "---\n",
    "format: \n",
    "  html:\n",
    "    toc: true\n",
    "    page-layout: full\n",
    "execute:\n",
    "    warning: false\n",
    "    echo: true\n",
    "    eval: true\n",
    "---"
   ]
  },
  {
   "cell_type": "markdown",
   "id": "c997804e-94bb-4c26-9916-012c8e59ec6c",
   "metadata": {},
   "source": [
    "## **K-Means Clustering of Risk Factors**\n",
    "\n",
    "***\n"
   ]
  },
  {
   "cell_type": "markdown",
   "id": "7c197c17-5c1a-4b7a-a6da-a37afd250ee6",
   "metadata": {},
   "source": [
    "Following the determination of the optimal number of clusters (3), we applied the **K-Means clustering** algorithm to partition the dataset into distinct groups based on spatial features. The key steps and results from this clustering analysis are as follows:"
   ]
  },
  {
   "cell_type": "markdown",
   "id": "e09de606-a010-43b5-9413-9877fc2176b3",
   "metadata": {},
   "source": [
    "1. **Fitting K-Means Clustering**\n",
    "We first fit the K-Means algorithm to the data using the 3 clusters identified earlier. The algorithm was applied to the spatial coordinates (x, y) of the points, which represent different risk factors (e.g., graffiti, street light outages, liquor retail stores, etc.). The K-Means algorithm groups the data into clusters, with each point assigned to the nearest cluster centroid.\n",
    "\n",
    "2. **Calculating Cluster Centroids**\n",
    "Once the clusters were formed, we calculated the centroids for each cluster. These centroids represent the mean position of all points within a given cluster. We then converted the centroid coordinates into a GeoDataFrame to enable visualization and further spatial analysis.\n",
    "\n",
    "3. **Analyzing Distance to Cluster Centroids**\n",
    "To analyze how assault incidents relate to the clusters, we calculated the Euclidean distance from each assault point to the nearest cluster centroid. This step is essential for understanding the proximity of assault cases to the identified risk clusters.\n",
    "\n",
    "4. **Cluster Analysis**\n",
    "We grouped the assault incidents by the nearest cluster and counted the number of assaults in each cluster. This helped us understand how assault incidents are distributed across the different risk clusters.\n",
    "The result shows the distribution of assaults across the three clusters:\n",
    "- Cluster 0: 6,089 assaults\n",
    "- Cluster 1: 8,622 assaults\n",
    "- Cluster 2: 5,542 assaults\n",
    "This indicates that assaults are not evenly distributed across the clusters, with Cluster 1 having the highest number of incidents.\n",
    "\n",
    "5. **Visualization**\n",
    "Finally, we visualized the K-Means clustering results by plotting the clusters and their centroids on a map. Each cluster is represented by a different color, and the centroids are marked with black \"X\" symbols. The assault incidents are also visualized in the plot to observe their proximity to the clusters.\n"
   ]
  },
  {
   "cell_type": "code",
   "execution_count": null,
   "id": "0cd89fcc-60de-4207-ad22-f82c3f30236d",
   "metadata": {},
   "outputs": [],
   "source": [
    "#| code-fold: true\n",
    "\n",
    "optimal_k = 3  # Replace with your chosen k based on the Elbow Method\n",
    "kmeans = KMeans(n_clusters=optimal_k, random_state=42)\n",
    "variable_net['cluster'] = kmeans.fit_predict(features)\n",
    "\n",
    "\n",
    "centroids = pd.DataFrame(kmeans.cluster_centers_, columns=['x_centroid', 'y_centroid'])\n",
    "centroids_gdf = gpd.GeoDataFrame(centroids, geometry=gpd.points_from_xy(centroids['x_centroid'], centroids['y_centroid']), crs=variable_net.crs)\n",
    "\n",
    "\n",
    "Assault21 = Assault21[~Assault21.geometry.is_empty].copy()\n",
    "centroids_gdf = centroids_gdf[~centroids_gdf.geometry.is_empty].copy()\n",
    "\n",
    "# Step 2: Calculate distances using valid geometries\n",
    "def calculate_nearest_cluster_projected(row, centroids):\n",
    "    # Calculate Euclidean distances using projected CRS coordinates\n",
    "    distances = centroids.apply(lambda c: ((row.geometry.x - c.geometry.x) ** 2 + (row.geometry.y - c.geometry.y) ** 2) ** 0.5, axis=1)\n",
    "    return distances.idxmin(), distances.min()\n",
    "\n",
    "\n",
    "Assault21[['nearest_cluster', 'distance_to_cluster']] = Assault21.apply(\n",
    "    lambda row: calculate_nearest_cluster_projected(row, centroids_gdf), axis=1, result_type='expand'\n",
    ")\n",
    "\n",
    "# Step 4: Analyze results\n",
    "assaults_per_cluster = Assault21.groupby('nearest_cluster').size()\n",
    "print(assaults_per_cluster)"
   ]
  },
  {
   "cell_type": "code",
   "execution_count": null,
   "id": "2f323810-e667-4885-8836-ad6444cae995",
   "metadata": {},
   "outputs": [],
   "source": [
    "#| code-fold: true\n",
    "\n",
    "custom_colors3 = ['#d2e673', '#d0c7e1', '#777181']  # Add as many colors as clusters\n",
    "\n",
    "# Visualization\n",
    "plt.figure(figsize=(10, 8))\n",
    "for cluster_id, color in zip(range(optimal_k), custom_colors3):\n",
    "    cluster_points = variable_net[variable_net['cluster'] == cluster_id]\n",
    "    plt.scatter(cluster_points['x'], cluster_points['y'], label=f'Cluster {cluster_id}', color=color)\n",
    "\n",
    "plt.scatter(centroids_gdf.geometry.x, centroids_gdf.geometry.y, color='#27232e', label='Centroids', marker='X', s=100)\n",
    "\n",
    "plt.xlabel('X Coordinate (meters)')\n",
    "plt.ylabel('Y Coordinate (meters)')\n",
    "plt.title('K-Means Clustering with Assault Cases', fontsize=20)\n",
    "plt.legend()\n",
    "plt.gca().spines['top'].set_visible(False)\n",
    "plt.gca().spines['right'].set_visible(False)\n",
    "plt.gca().spines['left'].set_visible(False)\n",
    "plt.gca().spines['bottom'].set_visible(False)\n",
    "plt.xticks([])\n",
    "plt.yticks([])\n",
    "plt.show()"
   ]
  },
  {
   "cell_type": "markdown",
   "id": "1089c2f6-836e-43b2-a829-382aa6e54df7",
   "metadata": {},
   "source": [
    "![](../images/kmeans.jpeg){width=75%}"
   ]
  }
 ],
 "metadata": {
  "kernelspec": {
   "display_name": "Python 3 (ipykernel)",
   "language": "python",
   "name": "python3"
  },
  "language_info": {
   "codemirror_mode": {
    "name": "ipython",
    "version": 3
   },
   "file_extension": ".py",
   "mimetype": "text/x-python",
   "name": "python",
   "nbconvert_exporter": "python",
   "pygments_lexer": "ipython3",
   "version": "3.10.12"
  }
 },
 "nbformat": 4,
 "nbformat_minor": 5
}
