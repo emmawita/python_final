{
 "cells": [
  {
   "cell_type": "markdown",
   "id": "3a34cb5a-4ad5-4b75-9a84-c4e8d013c708",
   "metadata": {},
   "source": [
    "---\n",
    "format: \n",
    "  html:\n",
    "    toc: true\n",
    "    page-layout: full\n",
    "execute:\n",
    "    warning: false\n",
    "    echo: true\n",
    "    eval: true\n",
    "---"
   ]
  },
  {
   "cell_type": "markdown",
   "id": "8a252584-8adb-49d2-918f-627d86187152",
   "metadata": {},
   "source": [
    "## **Fishnet Grid**\n",
    "\n",
    "***\n"
   ]
  },
  {
   "cell_type": "markdown",
   "id": "5f46edf9-ae42-41d8-b0e5-0887d671cf4b",
   "metadata": {},
   "source": [
    "To accurately capture the spatial distribution of assault incidents, a **fishnet grid** is generated over the study area. This grid divides the region into uniform, equal-sized cells, allowing for a consistent spatial analysis that avoids potential biases introduced by irregular geographic boundaries such as neighborhoods. By using a fishnet grid, the analysis can achieve a finer spatial resolution, enabling the detection of localized assault patterns that might be overlooked when working with larger areas. Additionally, the grid allows for data aggregation within each cell, smoothing out any noise from individual incidents and highlighting broader spatial trends.\n",
    "\n",
    "The code provided defines a function, `create_fishnet()`, which generates the fishnet grid by first determining the bounding box of the study area, then creating a series of square cells of a specified size (500 meters in this case). The function also ensures that the grid only includes cells that intersect with the study area's boundary. The resulting grid is then plotted, with each cell shaded in a light (purple) color, providing a visual representation of the spatial structure used for further analysis. This approach improves the accuracy of subsequent spatial modeling techniques, such as regression and density estimation, by standardizing the area for analysis.\n"
   ]
  },
  {
   "cell_type": "code",
   "execution_count": null,
   "id": "b177ad38-a205-4c5c-9516-d669a9c7eff2",
   "metadata": {},
   "outputs": [],
   "source": [
    "#| code-fold: true\n",
    "\n",
    "def create_fishnet(boundary, cellsize):\n",
    "    bounds = boundary.total_bounds  # Get bounding box of the area\n",
    "    xmin, ymin, xmax, ymax = bounds\n",
    "    cols = np.arange(xmin, xmax + cellsize, cellsize)\n",
    "    rows = np.arange(ymin, ymax + cellsize, cellsize)\n",
    "    polygons = [\n",
    "        box(x, y, x + cellsize, y + cellsize)\n",
    "        for x in cols[:-1] for y in rows[:-1]\n",
    "    ]\n",
    "    fishnet = gpd.GeoDataFrame(geometry=polygons, crs=boundary.crs)\n",
    "    # Intersect with boundary\n",
    "    fishnet = fishnet[fishnet.intersects(boundary.unary_union)]\n",
    "    fishnet[\"uniqueID\"] = range(1, len(fishnet) + 1)\n",
    "    return fishnet\n",
    "\n",
    "# Generate fishnet\n",
    "fishnet = create_fishnet(chicagoBoundary, cellsize=2500)\n",
    "\n",
    "# Plot fishnet\n",
    "fig, ax = plt.subplots(figsize=(10, 10))\n",
    "fishnet.plot(ax=ax, edgecolor=\"white\", facecolor=\"#d0c7e1\")\n",
    "chicagoBoundary.boundary.plot(ax=ax, color=\"#777181\", linewidth=2.25)\n",
    "ax.set_title(\"Fishnet of Chicago\", fontsize=20, fontweight=\"bold\")\n",
    "ax.axis(\"off\")\n",
    "plt.show()"
   ]
  },
  {
   "cell_type": "markdown",
   "id": "8358f81d-3cd9-459d-9618-00ff94c72434",
   "metadata": {},
   "source": [
    "![](../images/fishnet.jpeg){width=40%}\n",
    "\n",
    "***\n"
   ]
  },
  {
   "cell_type": "markdown",
   "id": "af61633c-f732-4767-9f30-02a4a71f02aa",
   "metadata": {},
   "source": [
    "Afterwards, to analyze the distribution of assaults across the fishnet grid, a new column, `countAssault`, is created in the `Assault21` DataFrame, where each assault incident is assigned a value of 1.  A spatial join is then performed using the `gpd.sjoin()` function to map each assault incident to its corresponding grid cell based on location. The spatial join is done using the contains operator, which ensures that each assault is assigned to the fishnet cell that contains its point coordinates. This operation results in a new DataFrame, `Assault21_net`, which aggregates the count of assault incidents per fishnet grid cell by grouping the data by the unique grid cell ID (`uniqueID`). The final output includes the sum of assaults (`countAssault`) for each grid cell along with the grid cell geometry.\n",
    "\n",
    "The resulting DataFrame, `Assault21_net`, contains the total count of assaults within each fishnet cell, allowing for a more structured and standardized approach to understanding spatial trends. This transformation enables the analysis of assault patterns on a finer spatial scale, avoiding the biases introduced by irregular neighborhood boundaries. The addition of a `countAssault` column allows for efficient data aggregation, which is essential for performing further spatial analyses, such as identifying hotspots or correlating assault density with other geographic factors.\n"
   ]
  },
  {
   "cell_type": "code",
   "execution_count": null,
   "id": "0c44a606-2576-4685-b170-166632b4c0c1",
   "metadata": {},
   "outputs": [],
   "source": [
    "#| code-fold: true\n",
    "\n",
    "# Count of Assaults in each fishnet grid\n",
    "Assault21[\"countAssault\"] = 1\n",
    "Assault21_net = gpd.sjoin(fishnet, Assault21.to_crs(3435), how=\"left\", op=\"contains\")\n",
    "Assault21_net = Assault21_net.groupby(\"uniqueID\").agg(\n",
    "    countAssault=(\"countAssault\", \"sum\"),\n",
    "    geometry=(\"geometry\", \"first\")\n",
    ").reset_index()\n",
    "\n",
    "#Assault21"
   ]
  },
  {
   "cell_type": "markdown",
   "id": "55de66b0-c86f-4305-ad51-dd62e5464708",
   "metadata": {},
   "source": [
    "In the following steps, the count of assaults (`countAssault`) in the `Assault21_net` DataFrame is processed further to handle any missing values. Specifically, the `fillna(0)` method is used to replace any NaN values in the `countAssault` column with 0. This ensures that grid cells without any assaults are represented with a count of 0, making the dataset complete and suitable for analysis.\n",
    "\n",
    "Additionally, two new columns are added to `Assault21_net`:\n",
    "\n",
    "1.\t**uniqueID**: A unique identifier is created for each grid cell, ranging from 1 to the total number of grid cells. This ID is useful for distinguishing each fishnet grid cell and will be helpful in further analyses, such as regression modeling or spatial clustering.\n",
    "\n",
    "2.\t**cvID**: A cross-validation ID (cvID) is generated for each row using the np.random.randint function. The values of cvID are randomly assigned, ensuring that they fall within a range of integers, distributed approximately evenly across all grid cells. The size of each group is set to be around one twenty-fourth of the total number of grid cells, which is typical for cross-validation purposes.\n"
   ]
  },
  {
   "cell_type": "code",
   "execution_count": null,
   "id": "b2357d22-bbaf-4f62-9f69-611a53c57c04",
   "metadata": {},
   "outputs": [],
   "source": [
    "#| code-fold: true\n",
    "\n",
    "Assault21.crs\n",
    "\n",
    "Assault21_net[\"countAssault\"] = Assault21_net[\"countAssault\"].fillna(0)\n",
    "\n",
    "# Add uniqueID and cross-validation IDs\n",
    "Assault21_net[\"uniqueID\"] = range(1, len(Assault21_net) + 1)\n",
    "Assault21_net[\"cvID\"] = np.random.randint(\n",
    "    low=1, high=(len(Assault21_net) // 24) + 1, size=len(Assault21_net)\n",
    ")\n",
    "\n",
    "#Assault21_net"
   ]
  },
  {
   "cell_type": "markdown",
   "id": "1190b2ba-0ef4-4a66-a79f-4e7d4397c2d4",
   "metadata": {},
   "source": [
    "We use the fishnet to then visualize our assault cases again to gain a more accurate picture of the number of cases relative to the area in its given grid. The map shows a few grids with higher assault counts in the north east and south."
   ]
  },
  {
   "cell_type": "code",
   "execution_count": null,
   "id": "b5e9a3f6-6dc2-4cc3-95be-e6d390dc93fd",
   "metadata": {},
   "outputs": [],
   "source": [
    "#| code-fold: true\n",
    "\n",
    "import matplotlib.pyplot as plt\n",
    "from matplotlib.colors import LinearSegmentedColormap\n",
    "import geopandas as gpd\n",
    "\n",
    "# Define custom gradient\n",
    "colors = ['#27232e', '#777181', '#d0c7e1', '#e1e0be', '#c2e538']\n",
    "cmap = LinearSegmentedColormap.from_list('custom_gradient', colors, N=256)\n",
    "\n",
    "# Plot Assault Counts\n",
    "fig, ax = plt.subplots(figsize=(8, 8))\n",
    "Assault21_net = gpd.GeoDataFrame(Assault21_net, geometry='geometry')  # Ensure 'geometry' column exists\n",
    "Assault21_net.plot(column='countAssault', ax=ax, legend=False, cmap=cmap)\n",
    "\n",
    "plt.title(\"Count of Assaults (Fishnet)\", fontsize=20, fontweight='bold')\n",
    "plt.axis('off')\n",
    "plt.gca().set_xticklabels([])\n",
    "plt.gca().set_yticklabels([])\n",
    "plt.gca().spines['top'].set_visible(False)\n",
    "plt.gca().spines['right'].set_visible(False)\n",
    "plt.gca().spines['left'].set_visible(False)\n",
    "plt.gca().spines['bottom'].set_visible(False)\n",
    "\n",
    "cax = fig.add_axes([0.15, 0.1, 0.7, 0.01]) # Adjust position and size \n",
    "cb = plt.colorbar(plot.get_children()[0], cax=cax, orientation='horizontal') \n",
    "cb.set_label(\"Assault Counts\")\n",
    "cb.ax.tick_params(labelsize=8)\n",
    "\n",
    "plt.show()"
   ]
  },
  {
   "cell_type": "markdown",
   "id": "b756169c-d3e0-4096-81d3-bb33918ae2b2",
   "metadata": {},
   "source": [
    "![](../images/assault_count.jpeg){width=55%}"
   ]
  }
 ],
 "metadata": {
  "kernelspec": {
   "display_name": "Python 3 (ipykernel)",
   "language": "python",
   "name": "python3"
  },
  "language_info": {
   "codemirror_mode": {
    "name": "ipython",
    "version": 3
   },
   "file_extension": ".py",
   "mimetype": "text/x-python",
   "name": "python",
   "nbconvert_exporter": "python",
   "pygments_lexer": "ipython3",
   "version": "3.10.12"
  }
 },
 "nbformat": 4,
 "nbformat_minor": 5
}
